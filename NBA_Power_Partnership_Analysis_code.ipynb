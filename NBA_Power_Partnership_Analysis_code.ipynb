{
  "nbformat": 4,
  "nbformat_minor": 0,
  "metadata": {
    "colab": {
      "provenance": [],
      "collapsed_sections": [
        "77iDsI5gd2ZB"
      ]
    },
    "kernelspec": {
      "name": "python3",
      "display_name": "Python 3"
    },
    "language_info": {
      "name": "python"
    }
  },
  "cells": [
    {
      "cell_type": "markdown",
      "source": [
        "## **Data Cleaning**\n",
        "#### - This is to clean the database by dropping unnecessary columns and filtering 2018~2021"
      ],
      "metadata": {
        "id": "pmIpY9xqgij2"
      }
    },
    {
      "cell_type": "code",
      "source": [
        "import pandas as pd\n",
        "import numpy as np\n",
        "import seaborn as sns\n",
        "import matplotlib.pyplot as plt\n",
        "from matplotlib.ticker import FuncFormatter\n",
        "import statsmodels.api as sm\n",
        "from sklearn.linear_model import LinearRegression\n",
        "from sklearn.model_selection import train_test_split"
      ],
      "metadata": {
        "id": "yiehFIiAgi1y"
      },
      "execution_count": null,
      "outputs": []
    },
    {
      "cell_type": "code",
      "source": [
        "from google.colab import drive"
      ],
      "metadata": {
        "id": "kRdeNXqlgrJh"
      },
      "execution_count": null,
      "outputs": []
    },
    {
      "cell_type": "code",
      "source": [
        "drive.mount('/content/drive')"
      ],
      "metadata": {
        "id": "0lqKgLYHhpPt",
        "colab": {
          "base_uri": "https://localhost:8080/"
        },
        "outputId": "f8c21f66-5b85-4e53-dc60-829e09ea5782"
      },
      "execution_count": null,
      "outputs": [
        {
          "output_type": "stream",
          "name": "stdout",
          "text": [
            "Mounted at /content/drive\n"
          ]
        }
      ]
    },
    {
      "cell_type": "code",
      "source": [
        "df = pd.read_csv('/content/drive/MyDrive/DSO 574/Assignment 2/Database/2019-2020 NBA Play-By-Play Data.csv')"
      ],
      "metadata": {
        "id": "uANoRv9PhpNM",
        "colab": {
          "base_uri": "https://localhost:8080/"
        },
        "outputId": "f6eecf7c-b8ae-462f-a738-c05d80e5fd34"
      },
      "execution_count": null,
      "outputs": [
        {
          "output_type": "stream",
          "name": "stderr",
          "text": [
            "<ipython-input-5-303547dd4603>:1: DtypeWarning: Columns (40,41) have mixed types. Specify dtype option on import or set low_memory=False.\n",
            "  df = pd.read_csv('/content/drive/MyDrive/DSO 574/Assignment 2/Database/2019-2020 NBA Play-By-Play Data.csv')\n"
          ]
        }
      ]
    },
    {
      "cell_type": "code",
      "source": [
        "df['result'].value_counts()"
      ],
      "metadata": {
        "id": "iNhi5WhshpIP",
        "colab": {
          "base_uri": "https://localhost:8080/"
        },
        "outputId": "626b90af-0e55-4d36-e61f-695abb040a8e"
      },
      "execution_count": null,
      "outputs": [
        {
          "output_type": "execute_result",
          "data": {
            "text/plain": [
              "made      134082\n",
              "missed    121313\n",
              "Name: result, dtype: int64"
            ]
          },
          "metadata": {},
          "execution_count": 6
        }
      ]
    },
    {
      "cell_type": "code",
      "source": [
        "df['type'].value_counts().head(20)"
      ],
      "metadata": {
        "colab": {
          "base_uri": "https://localhost:8080/"
        },
        "id": "RmikiOzggfy3",
        "outputId": "46d92723-c52e-4a40-bdfc-6efcbd05a4cb"
      },
      "execution_count": null,
      "outputs": [
        {
          "output_type": "execute_result",
          "data": {
            "text/plain": [
              "rebound defensive      81620\n",
              "sub                    55834\n",
              "Jump Shot              43405\n",
              "unknown                32018\n",
              "3PT Jump Shot          26071\n",
              "rebound offensive      25110\n",
              "s.foul                 22429\n",
              "Free Throw 1 of 2      21327\n",
              "Free Throw 2 of 2      21307\n",
              "Pullup Jump Shot       18147\n",
              "p.foul                 15758\n",
              "team rebound           14575\n",
              "Layup                  10979\n",
              "Driving Layup           8019\n",
              " timeout: regular       7269\n",
              "bad pass                6511\n",
              "bad pass                6439\n",
              "Step Back Jump Shot     6410\n",
              "Free Throw 1 of 1       5581\n",
              "timeout: regular        5442\n",
              "Name: type, dtype: int64"
            ]
          },
          "metadata": {},
          "execution_count": 7
        }
      ]
    },
    {
      "cell_type": "code",
      "source": [
        "df['description'].head(30)"
      ],
      "metadata": {
        "id": "LEaDmY_mhpAG",
        "colab": {
          "base_uri": "https://localhost:8080/"
        },
        "outputId": "7edadabf-bbb9-47ac-cb4c-cb2f6a3e16d8"
      },
      "execution_count": null,
      "outputs": [
        {
          "output_type": "execute_result",
          "data": {
            "text/plain": [
              "0                                                   NaN\n",
              "1           Jump Ball Towns vs. Jokic: Tip to Covington\n",
              "2     Wiggins 1' Cutting Dunk Shot (2 PTS) (Towns 1 ...\n",
              "3     Jokic 6' Driving Floating Bank Jump Shot (2 PT...\n",
              "4                         MISS Graham 25' 3PT Jump Shot\n",
              "5                           Jokic REBOUND (Off:0 Def:1)\n",
              "6                          MISS Jokic 25' 3PT Jump Shot\n",
              "7                          Graham REBOUND (Off:0 Def:1)\n",
              "8                         MISS Culver 27' 3PT Jump Shot\n",
              "9                         Millsap REBOUND (Off:0 Def:1)\n",
              "10    Murray 5' Cutting Layup Shot (2 PTS) (Jokic 1 ...\n",
              "11         Towns  Driving Layup (2 PTS) (Wiggins 1 AST)\n",
              "12     MISS Jokic 7' Hook Shot, Covington BLOCK (1 BLK)\n",
              "13                         Culver REBOUND (Off:0 Def:1)\n",
              "14                              Culver 1' Layup (2 PTS)\n",
              "15                   Barton 10' Fadeaway Jumper (2 PTS)\n",
              "16               Towns 26' 3PT Pullup Jump Shot (5 PTS)\n",
              "17                        Jokic 1' Driving Dunk (4 PTS)\n",
              "18                MISS Wiggins 15' Turnaround Jump Shot\n",
              "19                          Towns REBOUND (Off:1 Def:0)\n",
              "20                       Towns 1' Putback Layup (7 PTS)\n",
              "21                         MISS Barton 6' Driving Layup\n",
              "22                      Covington REBOUND (Off:0 Def:1)\n",
              "23                        MISS Graham 24' 3PT Jump Shot\n",
              "24                        Millsap REBOUND (Off:0 Def:2)\n",
              "25      Murray 25' 3PT Jump Shot (5 PTS) (Barton 1 AST)\n",
              "26    Barton STEAL (1 STL), Covington Bad Pass Turno...\n",
              "27    MISS Barton 2' Driving Layup, Covington BLOCK ...\n",
              "28                                 TIMBERWOLVES Rebound\n",
              "29                       MISS Wiggins 26' 3PT Jump Shot\n",
              "Name: description, dtype: object"
            ]
          },
          "metadata": {},
          "execution_count": 8
        }
      ]
    },
    {
      "cell_type": "code",
      "source": [
        "## find Lakers game\n",
        "lakers = df[df['GameFile'].str.contains(\"LAL\")]\n",
        "lakers.shape"
      ],
      "metadata": {
        "id": "6toAgnJ-vro8",
        "colab": {
          "base_uri": "https://localhost:8080/"
        },
        "outputId": "c09fb51c-a73f-48cb-e67c-aca8de587c21"
      },
      "execution_count": null,
      "outputs": [
        {
          "output_type": "execute_result",
          "data": {
            "text/plain": [
              "(43496, 46)"
            ]
          },
          "metadata": {},
          "execution_count": 9
        }
      ]
    },
    {
      "cell_type": "code",
      "source": [
        "col = ['a1', 'a2', 'a3', 'a4', 'a5', 'h1', 'h2', 'h3', 'h4', 'h5']\n",
        "\n",
        "lebron_mask = df[col].apply(lambda row: 'LeBron James' in row.values, axis=1)\n",
        "anthony_davis_mask = df[col].apply(lambda row: 'Anthony Davis' in row.values, axis=1)\n",
        "\n",
        "# Filter the DataFrame for rows where both LeBron James and Anthony Davis are on the court\n",
        "lebron_and_anthony_davis = df[lebron_mask & anthony_davis_mask]"
      ],
      "metadata": {
        "id": "X3k3qUy3BLZI"
      },
      "execution_count": null,
      "outputs": []
    },
    {
      "cell_type": "code",
      "source": [
        "# Using this code, we can browse all the columns\n",
        "pd.set_option('display.max_columns', None)"
      ],
      "metadata": {
        "id": "itBPpGDS2Be_"
      },
      "execution_count": null,
      "outputs": []
    },
    {
      "cell_type": "code",
      "source": [
        "lebron_and_anthony_davis.shape"
      ],
      "metadata": {
        "colab": {
          "base_uri": "https://localhost:8080/"
        },
        "id": "N21RfyjW4wBX",
        "outputId": "8b38786c-bf85-4fbc-acb4-cbfe656d99c6"
      },
      "execution_count": null,
      "outputs": [
        {
          "output_type": "execute_result",
          "data": {
            "text/plain": [
              "(19484, 46)"
            ]
          },
          "metadata": {},
          "execution_count": 12
        }
      ]
    },
    {
      "cell_type": "markdown",
      "source": [
        "##**Part A**\n",
        "#### Time series for both star players on court"
      ],
      "metadata": {
        "id": "6erAwYna17y-"
      }
    },
    {
      "cell_type": "markdown",
      "source": [
        "#### Count number of times ***Lebron James*** is on the court"
      ],
      "metadata": {
        "id": "D3E0H9wkcCWY"
      }
    },
    {
      "cell_type": "code",
      "source": [
        "lebron_on_court = lakers[lebron_mask]"
      ],
      "metadata": {
        "id": "GS2kdMo277bK",
        "colab": {
          "base_uri": "https://localhost:8080/"
        },
        "outputId": "667b8982-5a7e-46b1-8f15-940249c59a37"
      },
      "execution_count": null,
      "outputs": [
        {
          "output_type": "stream",
          "name": "stderr",
          "text": [
            "<ipython-input-13-e4e2d7e073f9>:1: UserWarning: Boolean Series key will be reindexed to match DataFrame index.\n",
            "  lebron_on_court = lakers[lebron_mask]\n"
          ]
        }
      ]
    },
    {
      "cell_type": "code",
      "source": [
        "lebron_on_court = lebron_on_court.copy()\n",
        "\n",
        "# Extract minutes from 'elapsed' timestamp\n",
        "lebron_on_court['minute'] = lebron_on_court['elapsed'].apply(\n",
        "    lambda x: x[x.find(':') + 1:x.find(':') + 3] if np.any(lebron_on_court['period'] == 5) else x[x.find(':') + 1:x.find(':') + 3]\n",
        ")"
      ],
      "metadata": {
        "id": "lsvdTzdDC2gv"
      },
      "execution_count": null,
      "outputs": []
    },
    {
      "cell_type": "code",
      "source": [
        "# Combine 12 to 11 category (the elapsed timestamp of 12 minute is 00:12:00 so it should be categorized as 11-minute category)\n",
        "lebron_on_court['minute'].replace('12', '11', inplace=True)"
      ],
      "metadata": {
        "id": "tpASBcHAcpLx"
      },
      "execution_count": null,
      "outputs": []
    },
    {
      "cell_type": "code",
      "source": [
        "# Focus on-court time\n",
        "lbj_time = lebron_on_court[['period','minute','GameFile']]"
      ],
      "metadata": {
        "id": "QIIrGhcXc_bV"
      },
      "execution_count": null,
      "outputs": []
    },
    {
      "cell_type": "code",
      "source": [
        "lbj_time.drop_duplicates(subset=['period', 'minute', 'GameFile'], keep='first', inplace=True)"
      ],
      "metadata": {
        "colab": {
          "base_uri": "https://localhost:8080/"
        },
        "outputId": "9071e439-cec4-4d06-f387-f9f94a8ba7ed",
        "id": "OJSnvIPyc_bV"
      },
      "execution_count": null,
      "outputs": [
        {
          "output_type": "stream",
          "name": "stderr",
          "text": [
            "<ipython-input-17-24da94e1232e>:1: SettingWithCopyWarning: \n",
            "A value is trying to be set on a copy of a slice from a DataFrame\n",
            "\n",
            "See the caveats in the documentation: https://pandas.pydata.org/pandas-docs/stable/user_guide/indexing.html#returning-a-view-versus-a-copy\n",
            "  lbj_time.drop_duplicates(subset=['period', 'minute', 'GameFile'], keep='first', inplace=True)\n"
          ]
        }
      ]
    },
    {
      "cell_type": "code",
      "source": [
        "# Calculate the number of times Lbj and AD are both on the court based on the minute count.\n",
        "lbj_time = lbj_time.groupby(['period', 'minute']).size().reset_index(name='both_on_court')"
      ],
      "metadata": {
        "id": "0-4m63Ypc_bV"
      },
      "execution_count": null,
      "outputs": []
    },
    {
      "cell_type": "code",
      "source": [
        "# Divide by the total number of games in which both of them played\n",
        "# 88 stands for the number of games Lebron played on the court\n",
        "lbj_time['percentage'] = lbj_time['both_on_court'] / 88"
      ],
      "metadata": {
        "id": "cRUFC_a3c_bW"
      },
      "execution_count": null,
      "outputs": []
    },
    {
      "cell_type": "code",
      "source": [
        "lbj_time.sort_values(by=['period', 'minute'], inplace=True)\n",
        "\n",
        "# Create a new column 'rank' starting from 1\n",
        "lbj_time['Game Minute'] = range(1, len(lbj_time) + 1)"
      ],
      "metadata": {
        "id": "iI7Kzozxc_bW"
      },
      "execution_count": null,
      "outputs": []
    },
    {
      "cell_type": "code",
      "source": [
        "lbj_time = lbj_time[lbj_time['period'] != 5]"
      ],
      "metadata": {
        "id": "RCohew7Qc_bW"
      },
      "execution_count": null,
      "outputs": []
    },
    {
      "cell_type": "code",
      "source": [
        "# Ensure 'rank' and 'percentage' are numeric types\n",
        "lbj_time['Game Minute'] = pd.to_numeric(lbj_time['Game Minute'])\n",
        "lbj_time['percentage'] = pd.to_numeric(lbj_time['percentage'])\n",
        "\n",
        "# Function to format y-axis ticks as percentages\n",
        "def percent_formatter(x, pos):\n",
        "    return f'{x:.0%}'\n",
        "\n",
        "# Time Series Plot\n",
        "plt.figure(figsize=(10, 6))\n",
        "plt.plot(lbj_time['Game Minute'], lbj_time['percentage'], marker='o', linestyle='-')\n",
        "plt.title('Percentage of Time Lebron James on Court in Each Game')\n",
        "plt.xlabel('Game Minute')\n",
        "plt.ylabel('Percentage of Time Both on Court')\n",
        "\n",
        "# Apply the percentage formatter to the y-axis\n",
        "plt.gca().yaxis.set_major_formatter(FuncFormatter(percent_formatter))\n",
        "\n",
        "plt.grid(True)\n",
        "plt.show()"
      ],
      "metadata": {
        "colab": {
          "base_uri": "https://localhost:8080/",
          "height": 564
        },
        "outputId": "6efddd7c-6914-4eea-9d47-4866460b3c83",
        "id": "__uaWpW4c_bW"
      },
      "execution_count": null,
      "outputs": [
        {
          "output_type": "display_data",
          "data": {
            "text/plain": [
              "<Figure size 1000x600 with 1 Axes>"
            ],
            "image/png": "[encoded data removed]"
          },
          "metadata": {}
        }
      ]
    },
    {
      "cell_type": "markdown",
      "source": [
        "#### Count number of times ***Anthony Davis*** is on the court"
      ],
      "metadata": {
        "id": "77iDsI5gd2ZB"
      }
    },
    {
      "cell_type": "code",
      "source": [
        "ad_on_court = lakers[anthony_davis_mask]"
      ],
      "metadata": {
        "id": "IQbfgih1eCIK",
        "colab": {
          "base_uri": "https://localhost:8080/"
        },
        "outputId": "0918b81e-f7f5-45ce-93ae-66e9f891c537"
      },
      "execution_count": null,
      "outputs": [
        {
          "output_type": "stream",
          "name": "stderr",
          "text": [
            "<ipython-input-78-8bf03a78deb3>:1: UserWarning: Boolean Series key will be reindexed to match DataFrame index.\n",
            "  ad_on_court = lakers[anthony_davis_mask]\n"
          ]
        }
      ]
    },
    {
      "cell_type": "code",
      "source": [
        "ad_on_court = ad_on_court.copy()\n",
        "\n",
        "# Extract minutes from 'elapsed' timestamp\n",
        "ad_on_court['minute'] = ad_on_court['elapsed'].apply(\n",
        "    lambda x: x[x.find(':') + 1:x.find(':') + 3] if np.any(ad_on_court['period'] == 5) else x[x.find(':') + 1:x.find(':') + 3]\n",
        ")"
      ],
      "metadata": {
        "id": "s5GUaMOveCIP"
      },
      "execution_count": null,
      "outputs": []
    },
    {
      "cell_type": "code",
      "source": [
        "# Combine 12 to 11 category (the elapsed timestamp of 12 minute is 00:12:00 so it should be categorized as 11-minute category)\n",
        "ad_on_court['minute'].replace('12', '11', inplace=True)"
      ],
      "metadata": {
        "id": "3i8Oxj43eCIP"
      },
      "execution_count": null,
      "outputs": []
    },
    {
      "cell_type": "code",
      "source": [
        "# Focus on-court time\n",
        "ad_time = ad_on_court[['period','minute','GameFile']]"
      ],
      "metadata": {
        "id": "5JlgH9FceCIP"
      },
      "execution_count": null,
      "outputs": []
    },
    {
      "cell_type": "code",
      "source": [
        "ad_time.drop_duplicates(subset=['period', 'minute', 'GameFile'], keep='first', inplace=True)"
      ],
      "metadata": {
        "colab": {
          "base_uri": "https://localhost:8080/"
        },
        "outputId": "ffaa4941-758f-4abf-97d0-fee718aba31a",
        "id": "snUJXaMfeCIP"
      },
      "execution_count": null,
      "outputs": [
        {
          "output_type": "stream",
          "name": "stderr",
          "text": [
            "<ipython-input-82-512ae66cf2f7>:1: SettingWithCopyWarning: \n",
            "A value is trying to be set on a copy of a slice from a DataFrame\n",
            "\n",
            "See the caveats in the documentation: https://pandas.pydata.org/pandas-docs/stable/user_guide/indexing.html#returning-a-view-versus-a-copy\n",
            "  ad_time.drop_duplicates(subset=['period', 'minute', 'GameFile'], keep='first', inplace=True)\n"
          ]
        }
      ]
    },
    {
      "cell_type": "code",
      "source": [
        "# Calculate the number of times Lbj and AD are both on the court based on the minute count.\n",
        "ad_time = ad_time.groupby(['period', 'minute']).size().reset_index(name='both_on_court')"
      ],
      "metadata": {
        "id": "AvPmznz5eCIQ"
      },
      "execution_count": null,
      "outputs": []
    },
    {
      "cell_type": "code",
      "source": [
        "ad_time.head()"
      ],
      "metadata": {
        "colab": {
          "base_uri": "https://localhost:8080/",
          "height": 206
        },
        "id": "zXCdOWqzeP07",
        "outputId": "4b07821c-c844-46d6-efce-27d8646d4f0d"
      },
      "execution_count": null,
      "outputs": [
        {
          "output_type": "execute_result",
          "data": {
            "text/plain": [
              "   period minute  both_on_court\n",
              "0       1     00             83\n",
              "1       1     01             83\n",
              "2       1     02             82\n",
              "3       1     03             82\n",
              "4       1     04             81"
            ],
            "text/html": [
              "\n",
              "  <div id=\"df-0491ab7e-924e-4a2a-a8fb-b76f2d1d59ca\" class=\"colab-df-container\">\n",
              "    <div>\n",
              "<style scoped>\n",
              "    .dataframe tbody tr th:only-of-type {\n",
              "        vertical-align: middle;\n",
              "    }\n",
              "\n",
              "    .dataframe tbody tr th {\n",
              "        vertical-align: top;\n",
              "    }\n",
              "\n",
              "    .dataframe thead th {\n",
              "        text-align: right;\n",
              "    }\n",
              "</style>\n",
              "<table border=\"1\" class=\"dataframe\">\n",
              "  <thead>\n",
              "    <tr style=\"text-align: right;\">\n",
              "      <th></th>\n",
              "      <th>period</th>\n",
              "      <th>minute</th>\n",
              "      <th>both_on_court</th>\n",
              "    </tr>\n",
              "  </thead>\n",
              "  <tbody>\n",
              "    <tr>\n",
              "      <th>0</th>\n",
              "      <td>1</td>\n",
              "      <td>00</td>\n",
              "      <td>83</td>\n",
              "    </tr>\n",
              "    <tr>\n",
              "      <th>1</th>\n",
              "      <td>1</td>\n",
              "      <td>01</td>\n",
              "      <td>83</td>\n",
              "    </tr>\n",
              "    <tr>\n",
              "      <th>2</th>\n",
              "      <td>1</td>\n",
              "      <td>02</td>\n",
              "      <td>82</td>\n",
              "    </tr>\n",
              "    <tr>\n",
              "      <th>3</th>\n",
              "      <td>1</td>\n",
              "      <td>03</td>\n",
              "      <td>82</td>\n",
              "    </tr>\n",
              "    <tr>\n",
              "      <th>4</th>\n",
              "      <td>1</td>\n",
              "      <td>04</td>\n",
              "      <td>81</td>\n",
              "    </tr>\n",
              "  </tbody>\n",
              "</table>\n",
              "</div>\n",
              "    <div class=\"colab-df-buttons\">\n",
              "\n",
              "  <div class=\"colab-df-container\">\n",
              "    <button class=\"colab-df-convert\" onclick=\"convertToInteractive('df-0491ab7e-924e-4a2a-a8fb-b76f2d1d59ca')\"\n",
              "            title=\"Convert this dataframe to an interactive table.\"\n",
              "            style=\"display:none;\">\n",
              "\n",
              "  <svg xmlns=\"http://www.w3.org/2000/svg\" height=\"24px\" viewBox=\"0 -960 960 960\">\n",
              "    <path d=\"M120-120v-720h720v720H120Zm60-500h600v-160H180v160Zm220 220h160v-160H400v160Zm0 220h160v-160H400v160ZM180-400h160v-160H180v160Zm440 0h160v-160H620v160ZM180-180h160v-160H180v160Zm440 0h160v-160H620v160Z\"/>\n",
              "  </svg>\n",
              "    </button>\n",
              "\n",
              "  <style>\n",
              "    .colab-df-container {\n",
              "      display:flex;\n",
              "      gap: 12px;\n",
              "    }\n",
              "\n",
              "    .colab-df-convert {\n",
              "      background-color: #E8F0FE;\n",
              "      border: none;\n",
              "      border-radius: 50%;\n",
              "      cursor: pointer;\n",
              "      display: none;\n",
              "      fill: #1967D2;\n",
              "      height: 32px;\n",
              "      padding: 0 0 0 0;\n",
              "      width: 32px;\n",
              "    }\n",
              "\n",
              "    .colab-df-convert:hover {\n",
              "      background-color: #E2EBFA;\n",
              "      box-shadow: 0px 1px 2px rgba(60, 64, 67, 0.3), 0px 1px 3px 1px rgba(60, 64, 67, 0.15);\n",
              "      fill: #174EA6;\n",
              "    }\n",
              "\n",
              "    .colab-df-buttons div {\n",
              "      margin-bottom: 4px;\n",
              "    }\n",
              "\n",
              "    [theme=dark] .colab-df-convert {\n",
              "      background-color: #3B4455;\n",
              "      fill: #D2E3FC;\n",
              "    }\n",
              "\n",
              "    [theme=dark] .colab-df-convert:hover {\n",
              "      background-color: #434B5C;\n",
              "      box-shadow: 0px 1px 3px 1px rgba(0, 0, 0, 0.15);\n",
              "      filter: drop-shadow(0px 1px 2px rgba(0, 0, 0, 0.3));\n",
              "      fill: #FFFFFF;\n",
              "    }\n",
              "  </style>\n",
              "\n",
              "    <script>\n",
              "      const buttonEl =\n",
              "        document.querySelector('#df-0491ab7e-924e-4a2a-a8fb-b76f2d1d59ca button.colab-df-convert');\n",
              "      buttonEl.style.display =\n",
              "        google.colab.kernel.accessAllowed ? 'block' : 'none';\n",
              "\n",
              "      async function convertToInteractive(key) {\n",
              "        const element = document.querySelector('#df-0491ab7e-924e-4a2a-a8fb-b76f2d1d59ca');\n",
              "        const dataTable =\n",
              "          await google.colab.kernel.invokeFunction('convertToInteractive',\n",
              "                                                    [key], {});\n",
              "        if (!dataTable) return;\n",
              "\n",
              "        const docLinkHtml = 'Like what you see? Visit the ' +\n",
              "          '<a target=\"_blank\" href=https://colab.research.google.com/notebooks/data_table.ipynb>data table notebook</a>'\n",
              "          + ' to learn more about interactive tables.';\n",
              "        element.innerHTML = '';\n",
              "        dataTable['output_type'] = 'display_data';\n",
              "        await google.colab.output.renderOutput(dataTable, element);\n",
              "        const docLink = document.createElement('div');\n",
              "        docLink.innerHTML = docLinkHtml;\n",
              "        element.appendChild(docLink);\n",
              "      }\n",
              "    </script>\n",
              "  </div>\n",
              "\n",
              "\n",
              "<div id=\"df-fbedd6e1-de6c-40e7-8244-52359c5f5660\">\n",
              "  <button class=\"colab-df-quickchart\" onclick=\"quickchart('df-fbedd6e1-de6c-40e7-8244-52359c5f5660')\"\n",
              "            title=\"Suggest charts\"\n",
              "            style=\"display:none;\">\n",
              "\n",
              "<svg xmlns=\"http://www.w3.org/2000/svg\" height=\"24px\"viewBox=\"0 0 24 24\"\n",
              "     width=\"24px\">\n",
              "    <g>\n",
              "        <path d=\"M19 3H5c-1.1 0-2 .9-2 2v14c0 1.1.9 2 2 2h14c1.1 0 2-.9 2-2V5c0-1.1-.9-2-2-2zM9 17H7v-7h2v7zm4 0h-2V7h2v10zm4 0h-2v-4h2v4z\"/>\n",
              "    </g>\n",
              "</svg>\n",
              "  </button>\n",
              "\n",
              "<style>\n",
              "  .colab-df-quickchart {\n",
              "      --bg-color: #E8F0FE;\n",
              "      --fill-color: #1967D2;\n",
              "      --hover-bg-color: #E2EBFA;\n",
              "      --hover-fill-color: #174EA6;\n",
              "      --disabled-fill-color: #AAA;\n",
              "      --disabled-bg-color: #DDD;\n",
              "  }\n",
              "\n",
              "  [theme=dark] .colab-df-quickchart {\n",
              "      --bg-color: #3B4455;\n",
              "      --fill-color: #D2E3FC;\n",
              "      --hover-bg-color: #434B5C;\n",
              "      --hover-fill-color: #FFFFFF;\n",
              "      --disabled-bg-color: #3B4455;\n",
              "      --disabled-fill-color: #666;\n",
              "  }\n",
              "\n",
              "  .colab-df-quickchart {\n",
              "    background-color: var(--bg-color);\n",
              "    border: none;\n",
              "    border-radius: 50%;\n",
              "    cursor: pointer;\n",
              "    display: none;\n",
              "    fill: var(--fill-color);\n",
              "    height: 32px;\n",
              "    padding: 0;\n",
              "    width: 32px;\n",
              "  }\n",
              "\n",
              "  .colab-df-quickchart:hover {\n",
              "    background-color: var(--hover-bg-color);\n",
              "    box-shadow: 0 1px 2px rgba(60, 64, 67, 0.3), 0 1px 3px 1px rgba(60, 64, 67, 0.15);\n",
              "    fill: var(--button-hover-fill-color);\n",
              "  }\n",
              "\n",
              "  .colab-df-quickchart-complete:disabled,\n",
              "  .colab-df-quickchart-complete:disabled:hover {\n",
              "    background-color: var(--disabled-bg-color);\n",
              "    fill: var(--disabled-fill-color);\n",
              "    box-shadow: none;\n",
              "  }\n",
              "\n",
              "  .colab-df-spinner {\n",
              "    border: 2px solid var(--fill-color);\n",
              "    border-color: transparent;\n",
              "    border-bottom-color: var(--fill-color);\n",
              "    animation:\n",
              "      spin 1s steps(1) infinite;\n",
              "  }\n",
              "\n",
              "  @keyframes spin {\n",
              "    0% {\n",
              "      border-color: transparent;\n",
              "      border-bottom-color: var(--fill-color);\n",
              "      border-left-color: var(--fill-color);\n",
              "    }\n",
              "    20% {\n",
              "      border-color: transparent;\n",
              "      border-left-color: var(--fill-color);\n",
              "      border-top-color: var(--fill-color);\n",
              "    }\n",
              "    30% {\n",
              "      border-color: transparent;\n",
              "      border-left-color: var(--fill-color);\n",
              "      border-top-color: var(--fill-color);\n",
              "      border-right-color: var(--fill-color);\n",
              "    }\n",
              "    40% {\n",
              "      border-color: transparent;\n",
              "      border-right-color: var(--fill-color);\n",
              "      border-top-color: var(--fill-color);\n",
              "    }\n",
              "    60% {\n",
              "      border-color: transparent;\n",
              "      border-right-color: var(--fill-color);\n",
              "    }\n",
              "    80% {\n",
              "      border-color: transparent;\n",
              "      border-right-color: var(--fill-color);\n",
              "      border-bottom-color: var(--fill-color);\n",
              "    }\n",
              "    90% {\n",
              "      border-color: transparent;\n",
              "      border-bottom-color: var(--fill-color);\n",
              "    }\n",
              "  }\n",
              "</style>\n",
              "\n",
              "  <script>\n",
              "    async function quickchart(key) {\n",
              "      const quickchartButtonEl =\n",
              "        document.querySelector('#' + key + ' button');\n",
              "      quickchartButtonEl.disabled = true;  // To prevent multiple clicks.\n",
              "      quickchartButtonEl.classList.add('colab-df-spinner');\n",
              "      try {\n",
              "        const charts = await google.colab.kernel.invokeFunction(\n",
              "            'suggestCharts', [key], {});\n",
              "      } catch (error) {\n",
              "        console.error('Error during call to suggestCharts:', error);\n",
              "      }\n",
              "      quickchartButtonEl.classList.remove('colab-df-spinner');\n",
              "      quickchartButtonEl.classList.add('colab-df-quickchart-complete');\n",
              "    }\n",
              "    (() => {\n",
              "      let quickchartButtonEl =\n",
              "        document.querySelector('#df-fbedd6e1-de6c-40e7-8244-52359c5f5660 button');\n",
              "      quickchartButtonEl.style.display =\n",
              "        google.colab.kernel.accessAllowed ? 'block' : 'none';\n",
              "    })();\n",
              "  </script>\n",
              "</div>\n",
              "    </div>\n",
              "  </div>\n"
            ],
            "application/vnd.google.colaboratory.intrinsic+json": {
              "type": "dataframe",
              "variable_name": "ad_time",
              "summary": "{\n  \"name\": \"ad_time\",\n  \"rows\": 58,\n  \"fields\": [\n    {\n      \"column\": \"period\",\n      \"properties\": {\n        \"dtype\": \"number\",\n        \"std\": 1,\n        \"min\": 1,\n        \"max\": 5,\n        \"num_unique_values\": 5,\n        \"samples\": [\n          2,\n          5,\n          3\n        ],\n        \"semantic_type\": \"\",\n        \"description\": \"\"\n      }\n    },\n    {\n      \"column\": \"minute\",\n      \"properties\": {\n        \"dtype\": \"category\",\n        \"num_unique_values\": 12,\n        \"samples\": [\n          \"10\",\n          \"09\",\n          \"00\"\n        ],\n        \"semantic_type\": \"\",\n        \"description\": \"\"\n      }\n    },\n    {\n      \"column\": \"both_on_court\",\n      \"properties\": {\n        \"dtype\": \"number\",\n        \"std\": 33,\n        \"min\": 1,\n        \"max\": 83,\n        \"num_unique_values\": 26,\n        \"samples\": [\n          2,\n          6,\n          83\n        ],\n        \"semantic_type\": \"\",\n        \"description\": \"\"\n      }\n    }\n  ]\n}"
            }
          },
          "metadata": {},
          "execution_count": 84
        }
      ]
    },
    {
      "cell_type": "code",
      "source": [
        "# Divide by the total number of games in which both of them played\n",
        "# 83 stands for the number of games A. Davis played on the court at the same time\n",
        "ad_time['percentage'] = ad_time['both_on_court'] / 83"
      ],
      "metadata": {
        "id": "w9OKNYEneCIQ"
      },
      "execution_count": null,
      "outputs": []
    },
    {
      "cell_type": "code",
      "source": [
        "ad_time.sort_values(by=['period', 'minute'], inplace=True)\n",
        "\n",
        "# Create a new column 'rank' starting from 1\n",
        "ad_time['Game Minute'] = range(1, len(ad_time) + 1)"
      ],
      "metadata": {
        "id": "4fB71yIPeCIQ"
      },
      "execution_count": null,
      "outputs": []
    },
    {
      "cell_type": "code",
      "source": [
        "ad_time = ad_time[ad_time['period'] != 5]"
      ],
      "metadata": {
        "id": "MXoELHjQeCIQ"
      },
      "execution_count": null,
      "outputs": []
    },
    {
      "cell_type": "code",
      "source": [
        "# Ensure 'rank' and 'percentage' are numeric types\n",
        "ad_time['Game Minute'] = pd.to_numeric(ad_time['Game Minute'])\n",
        "ad_time['percentage'] = pd.to_numeric(ad_time['percentage'])\n",
        "\n",
        "# Function to format y-axis ticks as percentages\n",
        "def percent_formatter(x, pos):\n",
        "    return f'{x:.0%}'\n",
        "\n",
        "# Time Series Plot\n",
        "plt.figure(figsize=(10, 6))\n",
        "plt.plot(ad_time['Game Minute'], ad_time['percentage'], marker='o', linestyle='-')\n",
        "plt.title('Percentage of Time Anthony Davis on Court in Each Game')\n",
        "plt.xlabel('Game Minute')\n",
        "plt.ylabel('Percentage of Time AD on Court')\n",
        "\n",
        "# Apply the percentage formatter to the y-axis\n",
        "plt.gca().yaxis.set_major_formatter(FuncFormatter(percent_formatter))\n",
        "\n",
        "plt.grid(True)\n",
        "plt.show()"
      ],
      "metadata": {
        "colab": {
          "base_uri": "https://localhost:8080/",
          "height": 564
        },
        "outputId": "4b2c7803-1375-44c8-b3d1-7509980e25bc",
        "id": "7-o3zipkeCIQ"
      },
      "execution_count": null,
      "outputs": [
        {
          "output_type": "display_data",
          "data": {
            "text/plain": [
              "<Figure size 1000x600 with 1 Axes>"
            ],
            "image/png": "[encoded data removed]"
          },
          "metadata": {}
        }
      ]
    },
    {
      "cell_type": "markdown",
      "source": [
        "#### Count number of times ***Lbj and AD*** are both on the court"
      ],
      "metadata": {
        "id": "PSPjKDUW8h0r"
      }
    },
    {
      "cell_type": "code",
      "source": [
        "lebron_and_anthony_davis = lebron_and_anthony_davis.copy()\n",
        "\n",
        "# Extract minutes from 'elapsed' timestamp\n",
        "lebron_and_anthony_davis['minute'] = lebron_and_anthony_davis['elapsed'].apply(\n",
        "    lambda x: x[x.find(':') + 1:x.find(':') + 3] if np.any(lebron_and_anthony_davis['period'] == 5) else x[x.find(':') + 1:x.find(':') + 3]\n",
        ")"
      ],
      "metadata": {
        "id": "G7r1fWFz1_Kh"
      },
      "execution_count": null,
      "outputs": []
    },
    {
      "cell_type": "code",
      "source": [
        "# Combine 12 to 11 category (the elapsed timestamp of 12 minute is 00:12:00 so it should be categorized as 11-minute category)\n",
        "lebron_and_anthony_davis['minute'].replace('12', '11', inplace=True)"
      ],
      "metadata": {
        "id": "ixBOQnVq1_HI"
      },
      "execution_count": null,
      "outputs": []
    },
    {
      "cell_type": "code",
      "source": [
        "# Focus on-court time\n",
        "lbj_ad_time = lebron_and_anthony_davis[['period','minute','GameFile']]"
      ],
      "metadata": {
        "id": "wnKJY0Pz1_Du"
      },
      "execution_count": null,
      "outputs": []
    },
    {
      "cell_type": "code",
      "source": [
        "lbj_ad_time.drop_duplicates(subset=['period', 'minute', 'GameFile'], keep='first', inplace=True)"
      ],
      "metadata": {
        "colab": {
          "base_uri": "https://localhost:8080/"
        },
        "id": "ZhA6DJ3R1_BG",
        "outputId": "051bc089-7b92-4115-ab3a-7a4e59e4d84d"
      },
      "execution_count": null,
      "outputs": [
        {
          "output_type": "stream",
          "name": "stderr",
          "text": [
            "<ipython-input-66-393bfa8f70e7>:1: SettingWithCopyWarning: \n",
            "A value is trying to be set on a copy of a slice from a DataFrame\n",
            "\n",
            "See the caveats in the documentation: https://pandas.pydata.org/pandas-docs/stable/user_guide/indexing.html#returning-a-view-versus-a-copy\n",
            "  lbj_ad_time.drop_duplicates(subset=['period', 'minute', 'GameFile'], keep='first', inplace=True)\n"
          ]
        }
      ]
    },
    {
      "cell_type": "code",
      "source": [
        "# Calculate the number of times Lbj and AD are both on the court based on the minute count.\n",
        "lbj_ad_time = lbj_ad_time.groupby(['period', 'minute']).size().reset_index(name='both_on_court')"
      ],
      "metadata": {
        "id": "sUNVR8Qb1-61"
      },
      "execution_count": null,
      "outputs": []
    },
    {
      "cell_type": "code",
      "source": [
        "# Divide by the total number of games in which both of them played\n",
        "# 80 stands for the number of games Lebron and Davis had played together on the court at the same time\n",
        "lbj_ad_time['percentage'] = lbj_ad_time['both_on_court'] / 80"
      ],
      "metadata": {
        "id": "4Q6TNvaJ6esF"
      },
      "execution_count": null,
      "outputs": []
    },
    {
      "cell_type": "code",
      "source": [
        "lbj_ad_time.sort_values(by=['period', 'minute'], inplace=True)\n",
        "\n",
        "# Create a new column 'Game Minute' starting from 1\n",
        "lbj_ad_time['Game Minute'] = range(1, len(lbj_ad_time) + 1)"
      ],
      "metadata": {
        "id": "b0YxbqXR6eoc"
      },
      "execution_count": null,
      "outputs": []
    },
    {
      "cell_type": "code",
      "source": [
        "lbj_ad_time = lbj_ad_time[lbj_ad_time['period'] != 5]"
      ],
      "metadata": {
        "id": "sdyVJB8L72Yj"
      },
      "execution_count": null,
      "outputs": []
    },
    {
      "cell_type": "code",
      "source": [
        "lbj_ad_time.head()"
      ],
      "metadata": {
        "colab": {
          "base_uri": "https://localhost:8080/",
          "height": 206
        },
        "id": "Oz-cb51mFTOi",
        "outputId": "d46e2234-6e7b-4fb6-8b83-55c8c3d97ace"
      },
      "execution_count": null,
      "outputs": [
        {
          "output_type": "execute_result",
          "data": {
            "text/plain": [
              "   period minute  both_on_court  percentage  Game Minute\n",
              "0       1     00             80      1.0000            1\n",
              "1       1     01             80      1.0000            2\n",
              "2       1     02             79      0.9875            3\n",
              "3       1     03             79      0.9875            4\n",
              "4       1     04             78      0.9750            5"
            ],
            "text/html": [
              "\n",
              "  <div id=\"df-8f4f73bb-c9b9-48db-9871-713c5e94ca87\" class=\"colab-df-container\">\n",
              "    <div>\n",
              "<style scoped>\n",
              "    .dataframe tbody tr th:only-of-type {\n",
              "        vertical-align: middle;\n",
              "    }\n",
              "\n",
              "    .dataframe tbody tr th {\n",
              "        vertical-align: top;\n",
              "    }\n",
              "\n",
              "    .dataframe thead th {\n",
              "        text-align: right;\n",
              "    }\n",
              "</style>\n",
              "<table border=\"1\" class=\"dataframe\">\n",
              "  <thead>\n",
              "    <tr style=\"text-align: right;\">\n",
              "      <th></th>\n",
              "      <th>period</th>\n",
              "      <th>minute</th>\n",
              "      <th>both_on_court</th>\n",
              "      <th>percentage</th>\n",
              "      <th>Game Minute</th>\n",
              "    </tr>\n",
              "  </thead>\n",
              "  <tbody>\n",
              "    <tr>\n",
              "      <th>0</th>\n",
              "      <td>1</td>\n",
              "      <td>00</td>\n",
              "      <td>80</td>\n",
              "      <td>1.0000</td>\n",
              "      <td>1</td>\n",
              "    </tr>\n",
              "    <tr>\n",
              "      <th>1</th>\n",
              "      <td>1</td>\n",
              "      <td>01</td>\n",
              "      <td>80</td>\n",
              "      <td>1.0000</td>\n",
              "      <td>2</td>\n",
              "    </tr>\n",
              "    <tr>\n",
              "      <th>2</th>\n",
              "      <td>1</td>\n",
              "      <td>02</td>\n",
              "      <td>79</td>\n",
              "      <td>0.9875</td>\n",
              "      <td>3</td>\n",
              "    </tr>\n",
              "    <tr>\n",
              "      <th>3</th>\n",
              "      <td>1</td>\n",
              "      <td>03</td>\n",
              "      <td>79</td>\n",
              "      <td>0.9875</td>\n",
              "      <td>4</td>\n",
              "    </tr>\n",
              "    <tr>\n",
              "      <th>4</th>\n",
              "      <td>1</td>\n",
              "      <td>04</td>\n",
              "      <td>78</td>\n",
              "      <td>0.9750</td>\n",
              "      <td>5</td>\n",
              "    </tr>\n",
              "  </tbody>\n",
              "</table>\n",
              "</div>\n",
              "    <div class=\"colab-df-buttons\">\n",
              "\n",
              "  <div class=\"colab-df-container\">\n",
              "    <button class=\"colab-df-convert\" onclick=\"convertToInteractive('df-8f4f73bb-c9b9-48db-9871-713c5e94ca87')\"\n",
              "            title=\"Convert this dataframe to an interactive table.\"\n",
              "            style=\"display:none;\">\n",
              "\n",
              "  <svg xmlns=\"http://www.w3.org/2000/svg\" height=\"24px\" viewBox=\"0 -960 960 960\">\n",
              "    <path d=\"M120-120v-720h720v720H120Zm60-500h600v-160H180v160Zm220 220h160v-160H400v160Zm0 220h160v-160H400v160ZM180-400h160v-160H180v160Zm440 0h160v-160H620v160ZM180-180h160v-160H180v160Zm440 0h160v-160H620v160Z\"/>\n",
              "  </svg>\n",
              "    </button>\n",
              "\n",
              "  <style>\n",
              "    .colab-df-container {\n",
              "      display:flex;\n",
              "      gap: 12px;\n",
              "    }\n",
              "\n",
              "    .colab-df-convert {\n",
              "      background-color: #E8F0FE;\n",
              "      border: none;\n",
              "      border-radius: 50%;\n",
              "      cursor: pointer;\n",
              "      display: none;\n",
              "      fill: #1967D2;\n",
              "      height: 32px;\n",
              "      padding: 0 0 0 0;\n",
              "      width: 32px;\n",
              "    }\n",
              "\n",
              "    .colab-df-convert:hover {\n",
              "      background-color: #E2EBFA;\n",
              "      box-shadow: 0px 1px 2px rgba(60, 64, 67, 0.3), 0px 1px 3px 1px rgba(60, 64, 67, 0.15);\n",
              "      fill: #174EA6;\n",
              "    }\n",
              "\n",
              "    .colab-df-buttons div {\n",
              "      margin-bottom: 4px;\n",
              "    }\n",
              "\n",
              "    [theme=dark] .colab-df-convert {\n",
              "      background-color: #3B4455;\n",
              "      fill: #D2E3FC;\n",
              "    }\n",
              "\n",
              "    [theme=dark] .colab-df-convert:hover {\n",
              "      background-color: #434B5C;\n",
              "      box-shadow: 0px 1px 3px 1px rgba(0, 0, 0, 0.15);\n",
              "      filter: drop-shadow(0px 1px 2px rgba(0, 0, 0, 0.3));\n",
              "      fill: #FFFFFF;\n",
              "    }\n",
              "  </style>\n",
              "\n",
              "    <script>\n",
              "      const buttonEl =\n",
              "        document.querySelector('#df-8f4f73bb-c9b9-48db-9871-713c5e94ca87 button.colab-df-convert');\n",
              "      buttonEl.style.display =\n",
              "        google.colab.kernel.accessAllowed ? 'block' : 'none';\n",
              "\n",
              "      async function convertToInteractive(key) {\n",
              "        const element = document.querySelector('#df-8f4f73bb-c9b9-48db-9871-713c5e94ca87');\n",
              "        const dataTable =\n",
              "          await google.colab.kernel.invokeFunction('convertToInteractive',\n",
              "                                                    [key], {});\n",
              "        if (!dataTable) return;\n",
              "\n",
              "        const docLinkHtml = 'Like what you see? Visit the ' +\n",
              "          '<a target=\"_blank\" href=https://colab.research.google.com/notebooks/data_table.ipynb>data table notebook</a>'\n",
              "          + ' to learn more about interactive tables.';\n",
              "        element.innerHTML = '';\n",
              "        dataTable['output_type'] = 'display_data';\n",
              "        await google.colab.output.renderOutput(dataTable, element);\n",
              "        const docLink = document.createElement('div');\n",
              "        docLink.innerHTML = docLinkHtml;\n",
              "        element.appendChild(docLink);\n",
              "      }\n",
              "    </script>\n",
              "  </div>\n",
              "\n",
              "\n",
              "<div id=\"df-54c41c30-1205-4f11-8f59-e6e01789425d\">\n",
              "  <button class=\"colab-df-quickchart\" onclick=\"quickchart('df-54c41c30-1205-4f11-8f59-e6e01789425d')\"\n",
              "            title=\"Suggest charts\"\n",
              "            style=\"display:none;\">\n",
              "\n",
              "<svg xmlns=\"http://www.w3.org/2000/svg\" height=\"24px\"viewBox=\"0 0 24 24\"\n",
              "     width=\"24px\">\n",
              "    <g>\n",
              "        <path d=\"M19 3H5c-1.1 0-2 .9-2 2v14c0 1.1.9 2 2 2h14c1.1 0 2-.9 2-2V5c0-1.1-.9-2-2-2zM9 17H7v-7h2v7zm4 0h-2V7h2v10zm4 0h-2v-4h2v4z\"/>\n",
              "    </g>\n",
              "</svg>\n",
              "  </button>\n",
              "\n",
              "<style>\n",
              "  .colab-df-quickchart {\n",
              "      --bg-color: #E8F0FE;\n",
              "      --fill-color: #1967D2;\n",
              "      --hover-bg-color: #E2EBFA;\n",
              "      --hover-fill-color: #174EA6;\n",
              "      --disabled-fill-color: #AAA;\n",
              "      --disabled-bg-color: #DDD;\n",
              "  }\n",
              "\n",
              "  [theme=dark] .colab-df-quickchart {\n",
              "      --bg-color: #3B4455;\n",
              "      --fill-color: #D2E3FC;\n",
              "      --hover-bg-color: #434B5C;\n",
              "      --hover-fill-color: #FFFFFF;\n",
              "      --disabled-bg-color: #3B4455;\n",
              "      --disabled-fill-color: #666;\n",
              "  }\n",
              "\n",
              "  .colab-df-quickchart {\n",
              "    background-color: var(--bg-color);\n",
              "    border: none;\n",
              "    border-radius: 50%;\n",
              "    cursor: pointer;\n",
              "    display: none;\n",
              "    fill: var(--fill-color);\n",
              "    height: 32px;\n",
              "    padding: 0;\n",
              "    width: 32px;\n",
              "  }\n",
              "\n",
              "  .colab-df-quickchart:hover {\n",
              "    background-color: var(--hover-bg-color);\n",
              "    box-shadow: 0 1px 2px rgba(60, 64, 67, 0.3), 0 1px 3px 1px rgba(60, 64, 67, 0.15);\n",
              "    fill: var(--button-hover-fill-color);\n",
              "  }\n",
              "\n",
              "  .colab-df-quickchart-complete:disabled,\n",
              "  .colab-df-quickchart-complete:disabled:hover {\n",
              "    background-color: var(--disabled-bg-color);\n",
              "    fill: var(--disabled-fill-color);\n",
              "    box-shadow: none;\n",
              "  }\n",
              "\n",
              "  .colab-df-spinner {\n",
              "    border: 2px solid var(--fill-color);\n",
              "    border-color: transparent;\n",
              "    border-bottom-color: var(--fill-color);\n",
              "    animation:\n",
              "      spin 1s steps(1) infinite;\n",
              "  }\n",
              "\n",
              "  @keyframes spin {\n",
              "    0% {\n",
              "      border-color: transparent;\n",
              "      border-bottom-color: var(--fill-color);\n",
              "      border-left-color: var(--fill-color);\n",
              "    }\n",
              "    20% {\n",
              "      border-color: transparent;\n",
              "      border-left-color: var(--fill-color);\n",
              "      border-top-color: var(--fill-color);\n",
              "    }\n",
              "    30% {\n",
              "      border-color: transparent;\n",
              "      border-left-color: var(--fill-color);\n",
              "      border-top-color: var(--fill-color);\n",
              "      border-right-color: var(--fill-color);\n",
              "    }\n",
              "    40% {\n",
              "      border-color: transparent;\n",
              "      border-right-color: var(--fill-color);\n",
              "      border-top-color: var(--fill-color);\n",
              "    }\n",
              "    60% {\n",
              "      border-color: transparent;\n",
              "      border-right-color: var(--fill-color);\n",
              "    }\n",
              "    80% {\n",
              "      border-color: transparent;\n",
              "      border-right-color: var(--fill-color);\n",
              "      border-bottom-color: var(--fill-color);\n",
              "    }\n",
              "    90% {\n",
              "      border-color: transparent;\n",
              "      border-bottom-color: var(--fill-color);\n",
              "    }\n",
              "  }\n",
              "</style>\n",
              "\n",
              "  <script>\n",
              "    async function quickchart(key) {\n",
              "      const quickchartButtonEl =\n",
              "        document.querySelector('#' + key + ' button');\n",
              "      quickchartButtonEl.disabled = true;  // To prevent multiple clicks.\n",
              "      quickchartButtonEl.classList.add('colab-df-spinner');\n",
              "      try {\n",
              "        const charts = await google.colab.kernel.invokeFunction(\n",
              "            'suggestCharts', [key], {});\n",
              "      } catch (error) {\n",
              "        console.error('Error during call to suggestCharts:', error);\n",
              "      }\n",
              "      quickchartButtonEl.classList.remove('colab-df-spinner');\n",
              "      quickchartButtonEl.classList.add('colab-df-quickchart-complete');\n",
              "    }\n",
              "    (() => {\n",
              "      let quickchartButtonEl =\n",
              "        document.querySelector('#df-54c41c30-1205-4f11-8f59-e6e01789425d button');\n",
              "      quickchartButtonEl.style.display =\n",
              "        google.colab.kernel.accessAllowed ? 'block' : 'none';\n",
              "    })();\n",
              "  </script>\n",
              "</div>\n",
              "    </div>\n",
              "  </div>\n"
            ],
            "application/vnd.google.colaboratory.intrinsic+json": {
              "type": "dataframe",
              "variable_name": "lbj_ad_time",
              "summary": "{\n  \"name\": \"lbj_ad_time\",\n  \"rows\": 48,\n  \"fields\": [\n    {\n      \"column\": \"period\",\n      \"properties\": {\n        \"dtype\": \"number\",\n        \"std\": 1,\n        \"min\": 1,\n        \"max\": 4,\n        \"num_unique_values\": 4,\n        \"samples\": [\n          2,\n          4,\n          1\n        ],\n        \"semantic_type\": \"\",\n        \"description\": \"\"\n      }\n    },\n    {\n      \"column\": \"minute\",\n      \"properties\": {\n        \"dtype\": \"category\",\n        \"num_unique_values\": 12,\n        \"samples\": [\n          \"10\",\n          \"09\",\n          \"00\"\n        ],\n        \"semantic_type\": \"\",\n        \"description\": \"\"\n      }\n    },\n    {\n      \"column\": \"both_on_court\",\n      \"properties\": {\n        \"dtype\": \"number\",\n        \"std\": 27,\n        \"min\": 1,\n        \"max\": 80,\n        \"num_unique_values\": 31,\n        \"samples\": [\n          59,\n          71,\n          10\n        ],\n        \"semantic_type\": \"\",\n        \"description\": \"\"\n      }\n    },\n    {\n      \"column\": \"percentage\",\n      \"properties\": {\n        \"dtype\": \"number\",\n        \"std\": 0.3494842284753551,\n        \"min\": 0.0125,\n        \"max\": 1.0,\n        \"num_unique_values\": 31,\n        \"samples\": [\n          0.7375,\n          0.8875,\n          0.125\n        ],\n        \"semantic_type\": \"\",\n        \"description\": \"\"\n      }\n    },\n    {\n      \"column\": \"Game Minute\",\n      \"properties\": {\n        \"dtype\": \"number\",\n        \"std\": 14,\n        \"min\": 1,\n        \"max\": 48,\n        \"num_unique_values\": 48,\n        \"samples\": [\n          28,\n          41,\n          27\n        ],\n        \"semantic_type\": \"\",\n        \"description\": \"\"\n      }\n    }\n  ]\n}"
            }
          },
          "metadata": {},
          "execution_count": 71
        }
      ]
    },
    {
      "cell_type": "code",
      "source": [
        "# Ensure 'Game Minute' and 'percentage' are numeric types\n",
        "lbj_ad_time['Game Minute'] = pd.to_numeric(lbj_ad_time['Game Minute'])\n",
        "lbj_ad_time['percentage'] = pd.to_numeric(lbj_ad_time['percentage'])\n",
        "\n",
        "# Function to format y-axis ticks as percentages\n",
        "def percent_formatter(x, pos):\n",
        "    return f'{x:.0%}'\n",
        "\n",
        "# Time Series Plot\n",
        "plt.figure(figsize=(10, 6))\n",
        "plt.plot(lbj_ad_time['Game Minute'], lbj_ad_time['percentage'], marker='o', linestyle='-')\n",
        "plt.title('Percentage of Time Both Lebron James and Anthony Davis on Court in Each Game')\n",
        "plt.xlabel('Game Minute')\n",
        "plt.ylabel('Percentage of Time Both on Court')\n",
        "\n",
        "# Apply the percentage formatter to the y-axis\n",
        "plt.gca().yaxis.set_major_formatter(FuncFormatter(percent_formatter))\n",
        "\n",
        "plt.grid(True)\n",
        "plt.show()"
      ],
      "metadata": {
        "id": "oMrvRmxs77kD",
        "colab": {
          "base_uri": "https://localhost:8080/",
          "height": 564
        },
        "outputId": "52eb3ef5-b51c-4bdd-9c55-5b59ae477b0e"
      },
      "execution_count": null,
      "outputs": [
        {
          "output_type": "display_data",
          "data": {
            "text/plain": [
              "<Figure size 1000x600 with 1 Axes>"
            ],
            "image/png": "[encoded data removed]"
          },
          "metadata": {}
        }
      ]
    },
    {
      "cell_type": "code",
      "source": [
        "plt.plot(lbj_ad_time['Game Minute'], lbj_ad_time['percentage'], linestyle='-', label='Both (LBJ and AD)')"
      ],
      "metadata": {
        "colab": {
          "base_uri": "https://localhost:8080/",
          "height": 448
        },
        "id": "ETwcbYHyD9FD",
        "outputId": "38877f63-4b3b-4ac9-a192-e35525b8b4df"
      },
      "execution_count": null,
      "outputs": [
        {
          "output_type": "execute_result",
          "data": {
            "text/plain": [
              "[<matplotlib.lines.Line2D at 0x78d89c34ba30>]"
            ]
          },
          "metadata": {},
          "execution_count": 73
        },
        {
          "output_type": "display_data",
          "data": {
            "text/plain": [
              "<Figure size 640x480 with 1 Axes>"
            ],
            "image/png": "[encoded data removed]"
          },
          "metadata": {}
        }
      ]
    },
    {
      "cell_type": "code",
      "source": [
        "# Assuming your DataFrames are named lbj_ad_time, lbj_time, and ad_time\n",
        "# Ensure 'Game Minute' and 'percentage' are numeric types\n",
        "lbj_ad_time['Game Minute'] = pd.to_numeric(lbj_ad_time['Game Minute'])\n",
        "lbj_ad_time['percentage'] = pd.to_numeric(lbj_ad_time['percentage'])\n",
        "\n",
        "lbj_time['Game Minute'] = pd.to_numeric(lbj_time['Game Minute'])\n",
        "lbj_time['percentage'] = pd.to_numeric(lbj_time['percentage'])\n",
        "\n",
        "ad_time['Game Minute'] = pd.to_numeric(ad_time['Game Minute'])\n",
        "ad_time['percentage'] = pd.to_numeric(ad_time['percentage'])\n",
        "\n",
        "# Function to format y-axis ticks as percentages\n",
        "def percent_formatter(x, pos):\n",
        "    return f'{x:.0%}'\n",
        "\n",
        "# Time Series Plot\n",
        "plt.figure(figsize=(15, 6))\n",
        "\n",
        "# Plot each line with different colors and labels\n",
        "# plt.plot(lbj_ad_time['Game Minute'], lbj_ad_time['percentage'], marker='o', linestyle='-', label='Both (LBJ and AD)')\n",
        "plt.plot(lbj_time['Game Minute'], lbj_time['percentage'], linestyle='-', label='Lebron James', color = 'purple')\n",
        "plt.plot(ad_time['Game Minute'], ad_time['percentage'], linestyle='-', label='Anthony Davis', color = 'gold')\n",
        "\n",
        "plt.title('Percentage of Time on Court in Each Game')\n",
        "plt.xticks([0, 12, 24, 36, 48])\n",
        "plt.xlabel('Game Minute')\n",
        "plt.ylabel('Percentage of Time on Court')\n",
        "\n",
        "# Apply the percentage formatter to the y-axis\n",
        "plt.gca().yaxis.set_major_formatter(FuncFormatter(percent_formatter))\n",
        "\n",
        "# Show legend\n",
        "plt.legend()\n",
        "\n",
        "# Draw vertical lines at 12, 24, and 36 minutes\n",
        "plt.axvline(x=12, color='gray', linestyle='--', label='12 Minutes')\n",
        "plt.axvline(x=24, color='gray', linestyle='--', label='24 Minutes')\n",
        "plt.axvline(x=36, color='gray', linestyle='--', label='36 Minutes')\n",
        "\n",
        "plt.grid(False)\n",
        "plt.show()\n"
      ],
      "metadata": {
        "colab": {
          "base_uri": "https://localhost:8080/",
          "height": 564
        },
        "id": "I9OU0STwcpCN",
        "outputId": "9c8aaf4d-2487-464c-ee12-ef6047f19e09"
      },
      "execution_count": null,
      "outputs": [
        {
          "output_type": "display_data",
          "data": {
            "text/plain": [
              "<Figure size 1500x600 with 1 Axes>"
            ],
            "image/png": "[encoded data removed]"
          },
          "metadata": {}
        }
      ]
    },
    {
      "cell_type": "markdown",
      "source": [
        "#### Add the in-game +/- per min to the graph"
      ],
      "metadata": {
        "id": "ZQTS1CqzOfGi"
      }
    },
    {
      "cell_type": "code",
      "source": [
        "LBJAD_games = lakers[lakers['GameFile'].isin(lebron_and_anthony_davis['GameFile'])]"
      ],
      "metadata": {
        "id": "6szOTx2co6qk"
      },
      "execution_count": null,
      "outputs": []
    },
    {
      "cell_type": "code",
      "source": [
        "LBJAD_games.shape"
      ],
      "metadata": {
        "colab": {
          "base_uri": "https://localhost:8080/"
        },
        "id": "PNvkIuyhp-Ju",
        "outputId": "84464776-11a5-44ab-d8e9-b0000a3b08d1"
      },
      "execution_count": null,
      "outputs": [
        {
          "output_type": "execute_result",
          "data": {
            "text/plain": [
              "(37763, 46)"
            ]
          },
          "metadata": {},
          "execution_count": 47
        }
      ]
    },
    {
      "cell_type": "code",
      "source": [
        "LBJAD_games['GameFile'].nunique()"
      ],
      "metadata": {
        "colab": {
          "base_uri": "https://localhost:8080/"
        },
        "id": "WBeRJ_i6qC9g",
        "outputId": "0365028e-7baf-4453-c330-78563e13cb32"
      },
      "execution_count": null,
      "outputs": [
        {
          "output_type": "execute_result",
          "data": {
            "text/plain": [
              "80"
            ]
          },
          "metadata": {},
          "execution_count": 48
        }
      ]
    },
    {
      "cell_type": "code",
      "source": [
        "LBJAD_games[['elapsed', 'remaining_time']]"
      ],
      "metadata": {
        "colab": {
          "base_uri": "https://localhost:8080/",
          "height": 423
        },
        "id": "Iu7j_uo7786B",
        "outputId": "882ce474-6877-4817-b2a3-25c048a475e3"
      },
      "execution_count": null,
      "outputs": [
        {
          "output_type": "execute_result",
          "data": {
            "text/plain": [
              "         elapsed remaining_time\n",
              "11510   00:00:00       00:12:00\n",
              "11511   00:00:00       00:12:00\n",
              "11512   00:00:19       00:11:41\n",
              "11513   00:00:34       00:11:26\n",
              "11514   00:00:52       00:11:08\n",
              "...          ...            ...\n",
              "535063   0:04:39        0:00:21\n",
              "535064   0:04:39        0:00:21\n",
              "535065   0:04:49        0:00:11\n",
              "535066   0:04:52        0:00:08\n",
              "535067   0:05:00        0:00:00\n",
              "\n",
              "[37763 rows x 2 columns]"
            ],
            "text/html": [
              "\n",
              "  <div id=\"df-b30d9517-b536-4b51-a815-26a963511e72\" class=\"colab-df-container\">\n",
              "    <div>\n",
              "<style scoped>\n",
              "    .dataframe tbody tr th:only-of-type {\n",
              "        vertical-align: middle;\n",
              "    }\n",
              "\n",
              "    .dataframe tbody tr th {\n",
              "        vertical-align: top;\n",
              "    }\n",
              "\n",
              "    .dataframe thead th {\n",
              "        text-align: right;\n",
              "    }\n",
              "</style>\n",
              "<table border=\"1\" class=\"dataframe\">\n",
              "  <thead>\n",
              "    <tr style=\"text-align: right;\">\n",
              "      <th></th>\n",
              "      <th>elapsed</th>\n",
              "      <th>remaining_time</th>\n",
              "    </tr>\n",
              "  </thead>\n",
              "  <tbody>\n",
              "    <tr>\n",
              "      <th>11510</th>\n",
              "      <td>00:00:00</td>\n",
              "      <td>00:12:00</td>\n",
              "    </tr>\n",
              "    <tr>\n",
              "      <th>11511</th>\n",
              "      <td>00:00:00</td>\n",
              "      <td>00:12:00</td>\n",
              "    </tr>\n",
              "    <tr>\n",
              "      <th>11512</th>\n",
              "      <td>00:00:19</td>\n",
              "      <td>00:11:41</td>\n",
              "    </tr>\n",
              "    <tr>\n",
              "      <th>11513</th>\n",
              "      <td>00:00:34</td>\n",
              "      <td>00:11:26</td>\n",
              "    </tr>\n",
              "    <tr>\n",
              "      <th>11514</th>\n",
              "      <td>00:00:52</td>\n",
              "      <td>00:11:08</td>\n",
              "    </tr>\n",
              "    <tr>\n",
              "      <th>...</th>\n",
              "      <td>...</td>\n",
              "      <td>...</td>\n",
              "    </tr>\n",
              "    <tr>\n",
              "      <th>535063</th>\n",
              "      <td>0:04:39</td>\n",
              "      <td>0:00:21</td>\n",
              "    </tr>\n",
              "    <tr>\n",
              "      <th>535064</th>\n",
              "      <td>0:04:39</td>\n",
              "      <td>0:00:21</td>\n",
              "    </tr>\n",
              "    <tr>\n",
              "      <th>535065</th>\n",
              "      <td>0:04:49</td>\n",
              "      <td>0:00:11</td>\n",
              "    </tr>\n",
              "    <tr>\n",
              "      <th>535066</th>\n",
              "      <td>0:04:52</td>\n",
              "      <td>0:00:08</td>\n",
              "    </tr>\n",
              "    <tr>\n",
              "      <th>535067</th>\n",
              "      <td>0:05:00</td>\n",
              "      <td>0:00:00</td>\n",
              "    </tr>\n",
              "  </tbody>\n",
              "</table>\n",
              "<p>37763 rows × 2 columns</p>\n",
              "</div>\n",
              "    <div class=\"colab-df-buttons\">\n",
              "\n",
              "  <div class=\"colab-df-container\">\n",
              "    <button class=\"colab-df-convert\" onclick=\"convertToInteractive('df-b30d9517-b536-4b51-a815-26a963511e72')\"\n",
              "            title=\"Convert this dataframe to an interactive table.\"\n",
              "            style=\"display:none;\">\n",
              "\n",
              "  <svg xmlns=\"http://www.w3.org/2000/svg\" height=\"24px\" viewBox=\"0 -960 960 960\">\n",
              "    <path d=\"M120-120v-720h720v720H120Zm60-500h600v-160H180v160Zm220 220h160v-160H400v160Zm0 220h160v-160H400v160ZM180-400h160v-160H180v160Zm440 0h160v-160H620v160ZM180-180h160v-160H180v160Zm440 0h160v-160H620v160Z\"/>\n",
              "  </svg>\n",
              "    </button>\n",
              "\n",
              "  <style>\n",
              "    .colab-df-container {\n",
              "      display:flex;\n",
              "      gap: 12px;\n",
              "    }\n",
              "\n",
              "    .colab-df-convert {\n",
              "      background-color: #E8F0FE;\n",
              "      border: none;\n",
              "      border-radius: 50%;\n",
              "      cursor: pointer;\n",
              "      display: none;\n",
              "      fill: #1967D2;\n",
              "      height: 32px;\n",
              "      padding: 0 0 0 0;\n",
              "      width: 32px;\n",
              "    }\n",
              "\n",
              "    .colab-df-convert:hover {\n",
              "      background-color: #E2EBFA;\n",
              "      box-shadow: 0px 1px 2px rgba(60, 64, 67, 0.3), 0px 1px 3px 1px rgba(60, 64, 67, 0.15);\n",
              "      fill: #174EA6;\n",
              "    }\n",
              "\n",
              "    .colab-df-buttons div {\n",
              "      margin-bottom: 4px;\n",
              "    }\n",
              "\n",
              "    [theme=dark] .colab-df-convert {\n",
              "      background-color: #3B4455;\n",
              "      fill: #D2E3FC;\n",
              "    }\n",
              "\n",
              "    [theme=dark] .colab-df-convert:hover {\n",
              "      background-color: #434B5C;\n",
              "      box-shadow: 0px 1px 3px 1px rgba(0, 0, 0, 0.15);\n",
              "      filter: drop-shadow(0px 1px 2px rgba(0, 0, 0, 0.3));\n",
              "      fill: #FFFFFF;\n",
              "    }\n",
              "  </style>\n",
              "\n",
              "    <script>\n",
              "      const buttonEl =\n",
              "        document.querySelector('#df-b30d9517-b536-4b51-a815-26a963511e72 button.colab-df-convert');\n",
              "      buttonEl.style.display =\n",
              "        google.colab.kernel.accessAllowed ? 'block' : 'none';\n",
              "\n",
              "      async function convertToInteractive(key) {\n",
              "        const element = document.querySelector('#df-b30d9517-b536-4b51-a815-26a963511e72');\n",
              "        const dataTable =\n",
              "          await google.colab.kernel.invokeFunction('convertToInteractive',\n",
              "                                                    [key], {});\n",
              "        if (!dataTable) return;\n",
              "\n",
              "        const docLinkHtml = 'Like what you see? Visit the ' +\n",
              "          '<a target=\"_blank\" href=https://colab.research.google.com/notebooks/data_table.ipynb>data table notebook</a>'\n",
              "          + ' to learn more about interactive tables.';\n",
              "        element.innerHTML = '';\n",
              "        dataTable['output_type'] = 'display_data';\n",
              "        await google.colab.output.renderOutput(dataTable, element);\n",
              "        const docLink = document.createElement('div');\n",
              "        docLink.innerHTML = docLinkHtml;\n",
              "        element.appendChild(docLink);\n",
              "      }\n",
              "    </script>\n",
              "  </div>\n",
              "\n",
              "\n",
              "<div id=\"df-d606a364-6a2f-42d3-ae37-8762d29604cd\">\n",
              "  <button class=\"colab-df-quickchart\" onclick=\"quickchart('df-d606a364-6a2f-42d3-ae37-8762d29604cd')\"\n",
              "            title=\"Suggest charts\"\n",
              "            style=\"display:none;\">\n",
              "\n",
              "<svg xmlns=\"http://www.w3.org/2000/svg\" height=\"24px\"viewBox=\"0 0 24 24\"\n",
              "     width=\"24px\">\n",
              "    <g>\n",
              "        <path d=\"M19 3H5c-1.1 0-2 .9-2 2v14c0 1.1.9 2 2 2h14c1.1 0 2-.9 2-2V5c0-1.1-.9-2-2-2zM9 17H7v-7h2v7zm4 0h-2V7h2v10zm4 0h-2v-4h2v4z\"/>\n",
              "    </g>\n",
              "</svg>\n",
              "  </button>\n",
              "\n",
              "<style>\n",
              "  .colab-df-quickchart {\n",
              "      --bg-color: #E8F0FE;\n",
              "      --fill-color: #1967D2;\n",
              "      --hover-bg-color: #E2EBFA;\n",
              "      --hover-fill-color: #174EA6;\n",
              "      --disabled-fill-color: #AAA;\n",
              "      --disabled-bg-color: #DDD;\n",
              "  }\n",
              "\n",
              "  [theme=dark] .colab-df-quickchart {\n",
              "      --bg-color: #3B4455;\n",
              "      --fill-color: #D2E3FC;\n",
              "      --hover-bg-color: #434B5C;\n",
              "      --hover-fill-color: #FFFFFF;\n",
              "      --disabled-bg-color: #3B4455;\n",
              "      --disabled-fill-color: #666;\n",
              "  }\n",
              "\n",
              "  .colab-df-quickchart {\n",
              "    background-color: var(--bg-color);\n",
              "    border: none;\n",
              "    border-radius: 50%;\n",
              "    cursor: pointer;\n",
              "    display: none;\n",
              "    fill: var(--fill-color);\n",
              "    height: 32px;\n",
              "    padding: 0;\n",
              "    width: 32px;\n",
              "  }\n",
              "\n",
              "  .colab-df-quickchart:hover {\n",
              "    background-color: var(--hover-bg-color);\n",
              "    box-shadow: 0 1px 2px rgba(60, 64, 67, 0.3), 0 1px 3px 1px rgba(60, 64, 67, 0.15);\n",
              "    fill: var(--button-hover-fill-color);\n",
              "  }\n",
              "\n",
              "  .colab-df-quickchart-complete:disabled,\n",
              "  .colab-df-quickchart-complete:disabled:hover {\n",
              "    background-color: var(--disabled-bg-color);\n",
              "    fill: var(--disabled-fill-color);\n",
              "    box-shadow: none;\n",
              "  }\n",
              "\n",
              "  .colab-df-spinner {\n",
              "    border: 2px solid var(--fill-color);\n",
              "    border-color: transparent;\n",
              "    border-bottom-color: var(--fill-color);\n",
              "    animation:\n",
              "      spin 1s steps(1) infinite;\n",
              "  }\n",
              "\n",
              "  @keyframes spin {\n",
              "    0% {\n",
              "      border-color: transparent;\n",
              "      border-bottom-color: var(--fill-color);\n",
              "      border-left-color: var(--fill-color);\n",
              "    }\n",
              "    20% {\n",
              "      border-color: transparent;\n",
              "      border-left-color: var(--fill-color);\n",
              "      border-top-color: var(--fill-color);\n",
              "    }\n",
              "    30% {\n",
              "      border-color: transparent;\n",
              "      border-left-color: var(--fill-color);\n",
              "      border-top-color: var(--fill-color);\n",
              "      border-right-color: var(--fill-color);\n",
              "    }\n",
              "    40% {\n",
              "      border-color: transparent;\n",
              "      border-right-color: var(--fill-color);\n",
              "      border-top-color: var(--fill-color);\n",
              "    }\n",
              "    60% {\n",
              "      border-color: transparent;\n",
              "      border-right-color: var(--fill-color);\n",
              "    }\n",
              "    80% {\n",
              "      border-color: transparent;\n",
              "      border-right-color: var(--fill-color);\n",
              "      border-bottom-color: var(--fill-color);\n",
              "    }\n",
              "    90% {\n",
              "      border-color: transparent;\n",
              "      border-bottom-color: var(--fill-color);\n",
              "    }\n",
              "  }\n",
              "</style>\n",
              "\n",
              "  <script>\n",
              "    async function quickchart(key) {\n",
              "      const quickchartButtonEl =\n",
              "        document.querySelector('#' + key + ' button');\n",
              "      quickchartButtonEl.disabled = true;  // To prevent multiple clicks.\n",
              "      quickchartButtonEl.classList.add('colab-df-spinner');\n",
              "      try {\n",
              "        const charts = await google.colab.kernel.invokeFunction(\n",
              "            'suggestCharts', [key], {});\n",
              "      } catch (error) {\n",
              "        console.error('Error during call to suggestCharts:', error);\n",
              "      }\n",
              "      quickchartButtonEl.classList.remove('colab-df-spinner');\n",
              "      quickchartButtonEl.classList.add('colab-df-quickchart-complete');\n",
              "    }\n",
              "    (() => {\n",
              "      let quickchartButtonEl =\n",
              "        document.querySelector('#df-d606a364-6a2f-42d3-ae37-8762d29604cd button');\n",
              "      quickchartButtonEl.style.display =\n",
              "        google.colab.kernel.accessAllowed ? 'block' : 'none';\n",
              "    })();\n",
              "  </script>\n",
              "</div>\n",
              "    </div>\n",
              "  </div>\n"
            ],
            "application/vnd.google.colaboratory.intrinsic+json": {
              "type": "dataframe",
              "repr_error": "'str' object has no attribute 'empty'"
            }
          },
          "metadata": {},
          "execution_count": 49
        }
      ]
    },
    {
      "cell_type": "code",
      "source": [
        "LBJAD_games = LBJAD_games.copy()\n",
        "#Create home and away team\n",
        "LBJAD_games['away_team'] = LBJAD_games['GameFile'].apply(lambda x: x.split('@')[0][-3:])\n",
        "LBJAD_games['home_team'] = LBJAD_games['GameFile'].apply(lambda x: x.split('@')[1].split('.')[0][:3])\n",
        "LBJAD_games['minute'] = LBJAD_games['elapsed'].apply(\n",
        "    lambda x: x[x.find(':') + 1:x.find(':') + 3] if np.any(LBJAD_games['period'] == 5) else x[x.find(':') + 1:x.find(':') + 3]\n",
        ")\n",
        "LBJAD_games['minute'].replace('12', '11', inplace=True)"
      ],
      "metadata": {
        "id": "hnRov0_kWXi4"
      },
      "execution_count": null,
      "outputs": []
    },
    {
      "cell_type": "code",
      "source": [
        "PlusMinus_min = LBJAD_games[['GameFile', 'remaining_time', 'minute', 'away_team', 'home_team', 'home_score', 'away_score', 'period']]"
      ],
      "metadata": {
        "id": "3U2Fwa1OXfz5"
      },
      "execution_count": null,
      "outputs": []
    },
    {
      "cell_type": "code",
      "source": [
        "#Exclude overtime\n",
        "PlusMinus_min = PlusMinus_min[PlusMinus_min['period'] != 5]\n",
        "PlusMinus_min[['period']].value_counts()"
      ],
      "metadata": {
        "colab": {
          "base_uri": "https://localhost:8080/"
        },
        "id": "TMw2CZ2UXmHn",
        "outputId": "4ee70a68-a5ff-419d-ce11-4085a206015a"
      },
      "execution_count": null,
      "outputs": [
        {
          "output_type": "execute_result",
          "data": {
            "text/plain": [
              "period\n",
              "2         9734\n",
              "4         9557\n",
              "3         9224\n",
              "1         9149\n",
              "dtype: int64"
            ]
          },
          "metadata": {},
          "execution_count": 52
        }
      ]
    },
    {
      "cell_type": "code",
      "source": [
        "#Calculate game minute\n",
        "PlusMinus_min['minute'] = pd.to_numeric(PlusMinus_min['minute'])\n",
        "PlusMinus_min['Game minute'] = PlusMinus_min['minute'] + (PlusMinus_min['period']-1)*12 +1"
      ],
      "metadata": {
        "id": "LrH1UisAZuAy"
      },
      "execution_count": null,
      "outputs": []
    },
    {
      "cell_type": "code",
      "source": [
        "PlusMinus_min[['period', 'minute', 'Game minute']]"
      ],
      "metadata": {
        "colab": {
          "base_uri": "https://localhost:8080/",
          "height": 423
        },
        "id": "Dg97PRCnauQi",
        "outputId": "24fa95fe-6000-426d-d5e8-99420fe03205"
      },
      "execution_count": null,
      "outputs": [
        {
          "output_type": "execute_result",
          "data": {
            "text/plain": [
              "        period  minute  Game minute\n",
              "11510        1       0            1\n",
              "11511        1       0            1\n",
              "11512        1       0            1\n",
              "11513        1       0            1\n",
              "11514        1       0            1\n",
              "...        ...     ...          ...\n",
              "535009       4      11           48\n",
              "535010       4      11           48\n",
              "535011       4      11           48\n",
              "535012       4      11           48\n",
              "535013       4      11           48\n",
              "\n",
              "[37664 rows x 3 columns]"
            ],
            "text/html": [
              "\n",
              "  <div id=\"df-2b53325a-e066-4ad5-8eef-fdf7e8d593f1\" class=\"colab-df-container\">\n",
              "    <div>\n",
              "<style scoped>\n",
              "    .dataframe tbody tr th:only-of-type {\n",
              "        vertical-align: middle;\n",
              "    }\n",
              "\n",
              "    .dataframe tbody tr th {\n",
              "        vertical-align: top;\n",
              "    }\n",
              "\n",
              "    .dataframe thead th {\n",
              "        text-align: right;\n",
              "    }\n",
              "</style>\n",
              "<table border=\"1\" class=\"dataframe\">\n",
              "  <thead>\n",
              "    <tr style=\"text-align: right;\">\n",
              "      <th></th>\n",
              "      <th>period</th>\n",
              "      <th>minute</th>\n",
              "      <th>Game minute</th>\n",
              "    </tr>\n",
              "  </thead>\n",
              "  <tbody>\n",
              "    <tr>\n",
              "      <th>11510</th>\n",
              "      <td>1</td>\n",
              "      <td>0</td>\n",
              "      <td>1</td>\n",
              "    </tr>\n",
              "    <tr>\n",
              "      <th>11511</th>\n",
              "      <td>1</td>\n",
              "      <td>0</td>\n",
              "      <td>1</td>\n",
              "    </tr>\n",
              "    <tr>\n",
              "      <th>11512</th>\n",
              "      <td>1</td>\n",
              "      <td>0</td>\n",
              "      <td>1</td>\n",
              "    </tr>\n",
              "    <tr>\n",
              "      <th>11513</th>\n",
              "      <td>1</td>\n",
              "      <td>0</td>\n",
              "      <td>1</td>\n",
              "    </tr>\n",
              "    <tr>\n",
              "      <th>11514</th>\n",
              "      <td>1</td>\n",
              "      <td>0</td>\n",
              "      <td>1</td>\n",
              "    </tr>\n",
              "    <tr>\n",
              "      <th>...</th>\n",
              "      <td>...</td>\n",
              "      <td>...</td>\n",
              "      <td>...</td>\n",
              "    </tr>\n",
              "    <tr>\n",
              "      <th>535009</th>\n",
              "      <td>4</td>\n",
              "      <td>11</td>\n",
              "      <td>48</td>\n",
              "    </tr>\n",
              "    <tr>\n",
              "      <th>535010</th>\n",
              "      <td>4</td>\n",
              "      <td>11</td>\n",
              "      <td>48</td>\n",
              "    </tr>\n",
              "    <tr>\n",
              "      <th>535011</th>\n",
              "      <td>4</td>\n",
              "      <td>11</td>\n",
              "      <td>48</td>\n",
              "    </tr>\n",
              "    <tr>\n",
              "      <th>535012</th>\n",
              "      <td>4</td>\n",
              "      <td>11</td>\n",
              "      <td>48</td>\n",
              "    </tr>\n",
              "    <tr>\n",
              "      <th>535013</th>\n",
              "      <td>4</td>\n",
              "      <td>11</td>\n",
              "      <td>48</td>\n",
              "    </tr>\n",
              "  </tbody>\n",
              "</table>\n",
              "<p>37664 rows × 3 columns</p>\n",
              "</div>\n",
              "    <div class=\"colab-df-buttons\">\n",
              "\n",
              "  <div class=\"colab-df-container\">\n",
              "    <button class=\"colab-df-convert\" onclick=\"convertToInteractive('df-2b53325a-e066-4ad5-8eef-fdf7e8d593f1')\"\n",
              "            title=\"Convert this dataframe to an interactive table.\"\n",
              "            style=\"display:none;\">\n",
              "\n",
              "  <svg xmlns=\"http://www.w3.org/2000/svg\" height=\"24px\" viewBox=\"0 -960 960 960\">\n",
              "    <path d=\"M120-120v-720h720v720H120Zm60-500h600v-160H180v160Zm220 220h160v-160H400v160Zm0 220h160v-160H400v160ZM180-400h160v-160H180v160Zm440 0h160v-160H620v160ZM180-180h160v-160H180v160Zm440 0h160v-160H620v160Z\"/>\n",
              "  </svg>\n",
              "    </button>\n",
              "\n",
              "  <style>\n",
              "    .colab-df-container {\n",
              "      display:flex;\n",
              "      gap: 12px;\n",
              "    }\n",
              "\n",
              "    .colab-df-convert {\n",
              "      background-color: #E8F0FE;\n",
              "      border: none;\n",
              "      border-radius: 50%;\n",
              "      cursor: pointer;\n",
              "      display: none;\n",
              "      fill: #1967D2;\n",
              "      height: 32px;\n",
              "      padding: 0 0 0 0;\n",
              "      width: 32px;\n",
              "    }\n",
              "\n",
              "    .colab-df-convert:hover {\n",
              "      background-color: #E2EBFA;\n",
              "      box-shadow: 0px 1px 2px rgba(60, 64, 67, 0.3), 0px 1px 3px 1px rgba(60, 64, 67, 0.15);\n",
              "      fill: #174EA6;\n",
              "    }\n",
              "\n",
              "    .colab-df-buttons div {\n",
              "      margin-bottom: 4px;\n",
              "    }\n",
              "\n",
              "    [theme=dark] .colab-df-convert {\n",
              "      background-color: #3B4455;\n",
              "      fill: #D2E3FC;\n",
              "    }\n",
              "\n",
              "    [theme=dark] .colab-df-convert:hover {\n",
              "      background-color: #434B5C;\n",
              "      box-shadow: 0px 1px 3px 1px rgba(0, 0, 0, 0.15);\n",
              "      filter: drop-shadow(0px 1px 2px rgba(0, 0, 0, 0.3));\n",
              "      fill: #FFFFFF;\n",
              "    }\n",
              "  </style>\n",
              "\n",
              "    <script>\n",
              "      const buttonEl =\n",
              "        document.querySelector('#df-2b53325a-e066-4ad5-8eef-fdf7e8d593f1 button.colab-df-convert');\n",
              "      buttonEl.style.display =\n",
              "        google.colab.kernel.accessAllowed ? 'block' : 'none';\n",
              "\n",
              "      async function convertToInteractive(key) {\n",
              "        const element = document.querySelector('#df-2b53325a-e066-4ad5-8eef-fdf7e8d593f1');\n",
              "        const dataTable =\n",
              "          await google.colab.kernel.invokeFunction('convertToInteractive',\n",
              "                                                    [key], {});\n",
              "        if (!dataTable) return;\n",
              "\n",
              "        const docLinkHtml = 'Like what you see? Visit the ' +\n",
              "          '<a target=\"_blank\" href=https://colab.research.google.com/notebooks/data_table.ipynb>data table notebook</a>'\n",
              "          + ' to learn more about interactive tables.';\n",
              "        element.innerHTML = '';\n",
              "        dataTable['output_type'] = 'display_data';\n",
              "        await google.colab.output.renderOutput(dataTable, element);\n",
              "        const docLink = document.createElement('div');\n",
              "        docLink.innerHTML = docLinkHtml;\n",
              "        element.appendChild(docLink);\n",
              "      }\n",
              "    </script>\n",
              "  </div>\n",
              "\n",
              "\n",
              "<div id=\"df-16ba4454-d80d-4a95-811d-a5799867bd7f\">\n",
              "  <button class=\"colab-df-quickchart\" onclick=\"quickchart('df-16ba4454-d80d-4a95-811d-a5799867bd7f')\"\n",
              "            title=\"Suggest charts\"\n",
              "            style=\"display:none;\">\n",
              "\n",
              "<svg xmlns=\"http://www.w3.org/2000/svg\" height=\"24px\"viewBox=\"0 0 24 24\"\n",
              "     width=\"24px\">\n",
              "    <g>\n",
              "        <path d=\"M19 3H5c-1.1 0-2 .9-2 2v14c0 1.1.9 2 2 2h14c1.1 0 2-.9 2-2V5c0-1.1-.9-2-2-2zM9 17H7v-7h2v7zm4 0h-2V7h2v10zm4 0h-2v-4h2v4z\"/>\n",
              "    </g>\n",
              "</svg>\n",
              "  </button>\n",
              "\n",
              "<style>\n",
              "  .colab-df-quickchart {\n",
              "      --bg-color: #E8F0FE;\n",
              "      --fill-color: #1967D2;\n",
              "      --hover-bg-color: #E2EBFA;\n",
              "      --hover-fill-color: #174EA6;\n",
              "      --disabled-fill-color: #AAA;\n",
              "      --disabled-bg-color: #DDD;\n",
              "  }\n",
              "\n",
              "  [theme=dark] .colab-df-quickchart {\n",
              "      --bg-color: #3B4455;\n",
              "      --fill-color: #D2E3FC;\n",
              "      --hover-bg-color: #434B5C;\n",
              "      --hover-fill-color: #FFFFFF;\n",
              "      --disabled-bg-color: #3B4455;\n",
              "      --disabled-fill-color: #666;\n",
              "  }\n",
              "\n",
              "  .colab-df-quickchart {\n",
              "    background-color: var(--bg-color);\n",
              "    border: none;\n",
              "    border-radius: 50%;\n",
              "    cursor: pointer;\n",
              "    display: none;\n",
              "    fill: var(--fill-color);\n",
              "    height: 32px;\n",
              "    padding: 0;\n",
              "    width: 32px;\n",
              "  }\n",
              "\n",
              "  .colab-df-quickchart:hover {\n",
              "    background-color: var(--hover-bg-color);\n",
              "    box-shadow: 0 1px 2px rgba(60, 64, 67, 0.3), 0 1px 3px 1px rgba(60, 64, 67, 0.15);\n",
              "    fill: var(--button-hover-fill-color);\n",
              "  }\n",
              "\n",
              "  .colab-df-quickchart-complete:disabled,\n",
              "  .colab-df-quickchart-complete:disabled:hover {\n",
              "    background-color: var(--disabled-bg-color);\n",
              "    fill: var(--disabled-fill-color);\n",
              "    box-shadow: none;\n",
              "  }\n",
              "\n",
              "  .colab-df-spinner {\n",
              "    border: 2px solid var(--fill-color);\n",
              "    border-color: transparent;\n",
              "    border-bottom-color: var(--fill-color);\n",
              "    animation:\n",
              "      spin 1s steps(1) infinite;\n",
              "  }\n",
              "\n",
              "  @keyframes spin {\n",
              "    0% {\n",
              "      border-color: transparent;\n",
              "      border-bottom-color: var(--fill-color);\n",
              "      border-left-color: var(--fill-color);\n",
              "    }\n",
              "    20% {\n",
              "      border-color: transparent;\n",
              "      border-left-color: var(--fill-color);\n",
              "      border-top-color: var(--fill-color);\n",
              "    }\n",
              "    30% {\n",
              "      border-color: transparent;\n",
              "      border-left-color: var(--fill-color);\n",
              "      border-top-color: var(--fill-color);\n",
              "      border-right-color: var(--fill-color);\n",
              "    }\n",
              "    40% {\n",
              "      border-color: transparent;\n",
              "      border-right-color: var(--fill-color);\n",
              "      border-top-color: var(--fill-color);\n",
              "    }\n",
              "    60% {\n",
              "      border-color: transparent;\n",
              "      border-right-color: var(--fill-color);\n",
              "    }\n",
              "    80% {\n",
              "      border-color: transparent;\n",
              "      border-right-color: var(--fill-color);\n",
              "      border-bottom-color: var(--fill-color);\n",
              "    }\n",
              "    90% {\n",
              "      border-color: transparent;\n",
              "      border-bottom-color: var(--fill-color);\n",
              "    }\n",
              "  }\n",
              "</style>\n",
              "\n",
              "  <script>\n",
              "    async function quickchart(key) {\n",
              "      const quickchartButtonEl =\n",
              "        document.querySelector('#' + key + ' button');\n",
              "      quickchartButtonEl.disabled = true;  // To prevent multiple clicks.\n",
              "      quickchartButtonEl.classList.add('colab-df-spinner');\n",
              "      try {\n",
              "        const charts = await google.colab.kernel.invokeFunction(\n",
              "            'suggestCharts', [key], {});\n",
              "      } catch (error) {\n",
              "        console.error('Error during call to suggestCharts:', error);\n",
              "      }\n",
              "      quickchartButtonEl.classList.remove('colab-df-spinner');\n",
              "      quickchartButtonEl.classList.add('colab-df-quickchart-complete');\n",
              "    }\n",
              "    (() => {\n",
              "      let quickchartButtonEl =\n",
              "        document.querySelector('#df-16ba4454-d80d-4a95-811d-a5799867bd7f button');\n",
              "      quickchartButtonEl.style.display =\n",
              "        google.colab.kernel.accessAllowed ? 'block' : 'none';\n",
              "    })();\n",
              "  </script>\n",
              "</div>\n",
              "    </div>\n",
              "  </div>\n"
            ],
            "application/vnd.google.colaboratory.intrinsic+json": {
              "type": "dataframe",
              "summary": "{\n  \"name\": \"PlusMinus_min[['period', 'minute', 'Game minute']]\",\n  \"rows\": 37664,\n  \"fields\": [\n    {\n      \"column\": \"period\",\n      \"properties\": {\n        \"dtype\": \"number\",\n        \"std\": 1,\n        \"min\": 1,\n        \"max\": 4,\n        \"num_unique_values\": 4,\n        \"samples\": [\n          2,\n          4,\n          1\n        ],\n        \"semantic_type\": \"\",\n        \"description\": \"\"\n      }\n    },\n    {\n      \"column\": \"minute\",\n      \"properties\": {\n        \"dtype\": \"number\",\n        \"std\": 3,\n        \"min\": 0,\n        \"max\": 11,\n        \"num_unique_values\": 12,\n        \"samples\": [\n          10,\n          9,\n          0\n        ],\n        \"semantic_type\": \"\",\n        \"description\": \"\"\n      }\n    },\n    {\n      \"column\": \"Game minute\",\n      \"properties\": {\n        \"dtype\": \"number\",\n        \"std\": 13,\n        \"min\": 1,\n        \"max\": 48,\n        \"num_unique_values\": 48,\n        \"samples\": [\n          28,\n          41,\n          27\n        ],\n        \"semantic_type\": \"\",\n        \"description\": \"\"\n      }\n    }\n  ]\n}"
            }
          },
          "metadata": {},
          "execution_count": 54
        }
      ]
    },
    {
      "cell_type": "code",
      "source": [
        "PlusMinus_min.drop_duplicates(subset=['Game minute', 'GameFile'], keep='last', inplace=True)"
      ],
      "metadata": {
        "id": "V_GTbzOrbg60"
      },
      "execution_count": null,
      "outputs": []
    },
    {
      "cell_type": "code",
      "source": [
        "PlusMinus_min"
      ],
      "metadata": {
        "colab": {
          "base_uri": "https://localhost:8080/",
          "height": 423
        },
        "id": "1BFBWgjAcYpy",
        "outputId": "8a96ad85-912c-4310-8aae-e583f64cd10f"
      },
      "execution_count": null,
      "outputs": [
        {
          "output_type": "execute_result",
          "data": {
            "text/plain": [
              "                                   GameFile remaining_time  minute away_team  \\\n",
              "11516   [2020-01-03]-0021900522-NOP@LAL.csv       00:11:06       0       NOP   \n",
              "11527   [2020-01-03]-0021900522-NOP@LAL.csv       00:10:04       1       NOP   \n",
              "11538   [2020-01-03]-0021900522-NOP@LAL.csv       00:09:02       2       NOP   \n",
              "11544   [2020-01-03]-0021900522-NOP@LAL.csv       00:08:07       3       NOP   \n",
              "11557   [2020-01-03]-0021900522-NOP@LAL.csv       00:07:03       4       NOP   \n",
              "...                                     ...            ...     ...       ...   \n",
              "534972  [2019-11-01]-0021900074-LAL@DAL.csv        0:04:06       7       LAL   \n",
              "534982  [2019-11-01]-0021900074-LAL@DAL.csv        0:03:15       8       LAL   \n",
              "534987  [2019-11-01]-0021900074-LAL@DAL.csv        0:02:18       9       LAL   \n",
              "534994  [2019-11-01]-0021900074-LAL@DAL.csv        0:01:01      10       LAL   \n",
              "535013  [2019-11-01]-0021900074-LAL@DAL.csv        0:00:00      11       LAL   \n",
              "\n",
              "       home_team  home_score  away_score  period  Game minute  \n",
              "11516        LAL           4           3       1            1  \n",
              "11527        LAL           6           8       1            2  \n",
              "11538        LAL           9           8       1            3  \n",
              "11544        LAL          14          10       1            4  \n",
              "11557        LAL          18          12       1            5  \n",
              "...          ...         ...         ...     ...          ...  \n",
              "534972       DAL          94          96       4           44  \n",
              "534982       DAL          97          98       4           45  \n",
              "534987       DAL          99          98       4           46  \n",
              "534994       DAL          99         100       4           47  \n",
              "535013       DAL         103         103       4           48  \n",
              "\n",
              "[3840 rows x 9 columns]"
            ],
            "text/html": [
              "\n",
              "  <div id=\"df-399684d3-f118-4804-97c2-4126ad108c43\" class=\"colab-df-container\">\n",
              "    <div>\n",
              "<style scoped>\n",
              "    .dataframe tbody tr th:only-of-type {\n",
              "        vertical-align: middle;\n",
              "    }\n",
              "\n",
              "    .dataframe tbody tr th {\n",
              "        vertical-align: top;\n",
              "    }\n",
              "\n",
              "    .dataframe thead th {\n",
              "        text-align: right;\n",
              "    }\n",
              "</style>\n",
              "<table border=\"1\" class=\"dataframe\">\n",
              "  <thead>\n",
              "    <tr style=\"text-align: right;\">\n",
              "      <th></th>\n",
              "      <th>GameFile</th>\n",
              "      <th>remaining_time</th>\n",
              "      <th>minute</th>\n",
              "      <th>away_team</th>\n",
              "      <th>home_team</th>\n",
              "      <th>home_score</th>\n",
              "      <th>away_score</th>\n",
              "      <th>period</th>\n",
              "      <th>Game minute</th>\n",
              "    </tr>\n",
              "  </thead>\n",
              "  <tbody>\n",
              "    <tr>\n",
              "      <th>11516</th>\n",
              "      <td>[2020-01-03]-0021900522-NOP@LAL.csv</td>\n",
              "      <td>00:11:06</td>\n",
              "      <td>0</td>\n",
              "      <td>NOP</td>\n",
              "      <td>LAL</td>\n",
              "      <td>4</td>\n",
              "      <td>3</td>\n",
              "      <td>1</td>\n",
              "      <td>1</td>\n",
              "    </tr>\n",
              "    <tr>\n",
              "      <th>11527</th>\n",
              "      <td>[2020-01-03]-0021900522-NOP@LAL.csv</td>\n",
              "      <td>00:10:04</td>\n",
              "      <td>1</td>\n",
              "      <td>NOP</td>\n",
              "      <td>LAL</td>\n",
              "      <td>6</td>\n",
              "      <td>8</td>\n",
              "      <td>1</td>\n",
              "      <td>2</td>\n",
              "    </tr>\n",
              "    <tr>\n",
              "      <th>11538</th>\n",
              "      <td>[2020-01-03]-0021900522-NOP@LAL.csv</td>\n",
              "      <td>00:09:02</td>\n",
              "      <td>2</td>\n",
              "      <td>NOP</td>\n",
              "      <td>LAL</td>\n",
              "      <td>9</td>\n",
              "      <td>8</td>\n",
              "      <td>1</td>\n",
              "      <td>3</td>\n",
              "    </tr>\n",
              "    <tr>\n",
              "      <th>11544</th>\n",
              "      <td>[2020-01-03]-0021900522-NOP@LAL.csv</td>\n",
              "      <td>00:08:07</td>\n",
              "      <td>3</td>\n",
              "      <td>NOP</td>\n",
              "      <td>LAL</td>\n",
              "      <td>14</td>\n",
              "      <td>10</td>\n",
              "      <td>1</td>\n",
              "      <td>4</td>\n",
              "    </tr>\n",
              "    <tr>\n",
              "      <th>11557</th>\n",
              "      <td>[2020-01-03]-0021900522-NOP@LAL.csv</td>\n",
              "      <td>00:07:03</td>\n",
              "      <td>4</td>\n",
              "      <td>NOP</td>\n",
              "      <td>LAL</td>\n",
              "      <td>18</td>\n",
              "      <td>12</td>\n",
              "      <td>1</td>\n",
              "      <td>5</td>\n",
              "    </tr>\n",
              "    <tr>\n",
              "      <th>...</th>\n",
              "      <td>...</td>\n",
              "      <td>...</td>\n",
              "      <td>...</td>\n",
              "      <td>...</td>\n",
              "      <td>...</td>\n",
              "      <td>...</td>\n",
              "      <td>...</td>\n",
              "      <td>...</td>\n",
              "      <td>...</td>\n",
              "    </tr>\n",
              "    <tr>\n",
              "      <th>534972</th>\n",
              "      <td>[2019-11-01]-0021900074-LAL@DAL.csv</td>\n",
              "      <td>0:04:06</td>\n",
              "      <td>7</td>\n",
              "      <td>LAL</td>\n",
              "      <td>DAL</td>\n",
              "      <td>94</td>\n",
              "      <td>96</td>\n",
              "      <td>4</td>\n",
              "      <td>44</td>\n",
              "    </tr>\n",
              "    <tr>\n",
              "      <th>534982</th>\n",
              "      <td>[2019-11-01]-0021900074-LAL@DAL.csv</td>\n",
              "      <td>0:03:15</td>\n",
              "      <td>8</td>\n",
              "      <td>LAL</td>\n",
              "      <td>DAL</td>\n",
              "      <td>97</td>\n",
              "      <td>98</td>\n",
              "      <td>4</td>\n",
              "      <td>45</td>\n",
              "    </tr>\n",
              "    <tr>\n",
              "      <th>534987</th>\n",
              "      <td>[2019-11-01]-0021900074-LAL@DAL.csv</td>\n",
              "      <td>0:02:18</td>\n",
              "      <td>9</td>\n",
              "      <td>LAL</td>\n",
              "      <td>DAL</td>\n",
              "      <td>99</td>\n",
              "      <td>98</td>\n",
              "      <td>4</td>\n",
              "      <td>46</td>\n",
              "    </tr>\n",
              "    <tr>\n",
              "      <th>534994</th>\n",
              "      <td>[2019-11-01]-0021900074-LAL@DAL.csv</td>\n",
              "      <td>0:01:01</td>\n",
              "      <td>10</td>\n",
              "      <td>LAL</td>\n",
              "      <td>DAL</td>\n",
              "      <td>99</td>\n",
              "      <td>100</td>\n",
              "      <td>4</td>\n",
              "      <td>47</td>\n",
              "    </tr>\n",
              "    <tr>\n",
              "      <th>535013</th>\n",
              "      <td>[2019-11-01]-0021900074-LAL@DAL.csv</td>\n",
              "      <td>0:00:00</td>\n",
              "      <td>11</td>\n",
              "      <td>LAL</td>\n",
              "      <td>DAL</td>\n",
              "      <td>103</td>\n",
              "      <td>103</td>\n",
              "      <td>4</td>\n",
              "      <td>48</td>\n",
              "    </tr>\n",
              "  </tbody>\n",
              "</table>\n",
              "<p>3840 rows × 9 columns</p>\n",
              "</div>\n",
              "    <div class=\"colab-df-buttons\">\n",
              "\n",
              "  <div class=\"colab-df-container\">\n",
              "    <button class=\"colab-df-convert\" onclick=\"convertToInteractive('df-399684d3-f118-4804-97c2-4126ad108c43')\"\n",
              "            title=\"Convert this dataframe to an interactive table.\"\n",
              "            style=\"display:none;\">\n",
              "\n",
              "  <svg xmlns=\"http://www.w3.org/2000/svg\" height=\"24px\" viewBox=\"0 -960 960 960\">\n",
              "    <path d=\"M120-120v-720h720v720H120Zm60-500h600v-160H180v160Zm220 220h160v-160H400v160Zm0 220h160v-160H400v160ZM180-400h160v-160H180v160Zm440 0h160v-160H620v160ZM180-180h160v-160H180v160Zm440 0h160v-160H620v160Z\"/>\n",
              "  </svg>\n",
              "    </button>\n",
              "\n",
              "  <style>\n",
              "    .colab-df-container {\n",
              "      display:flex;\n",
              "      gap: 12px;\n",
              "    }\n",
              "\n",
              "    .colab-df-convert {\n",
              "      background-color: #E8F0FE;\n",
              "      border: none;\n",
              "      border-radius: 50%;\n",
              "      cursor: pointer;\n",
              "      display: none;\n",
              "      fill: #1967D2;\n",
              "      height: 32px;\n",
              "      padding: 0 0 0 0;\n",
              "      width: 32px;\n",
              "    }\n",
              "\n",
              "    .colab-df-convert:hover {\n",
              "      background-color: #E2EBFA;\n",
              "      box-shadow: 0px 1px 2px rgba(60, 64, 67, 0.3), 0px 1px 3px 1px rgba(60, 64, 67, 0.15);\n",
              "      fill: #174EA6;\n",
              "    }\n",
              "\n",
              "    .colab-df-buttons div {\n",
              "      margin-bottom: 4px;\n",
              "    }\n",
              "\n",
              "    [theme=dark] .colab-df-convert {\n",
              "      background-color: #3B4455;\n",
              "      fill: #D2E3FC;\n",
              "    }\n",
              "\n",
              "    [theme=dark] .colab-df-convert:hover {\n",
              "      background-color: #434B5C;\n",
              "      box-shadow: 0px 1px 3px 1px rgba(0, 0, 0, 0.15);\n",
              "      filter: drop-shadow(0px 1px 2px rgba(0, 0, 0, 0.3));\n",
              "      fill: #FFFFFF;\n",
              "    }\n",
              "  </style>\n",
              "\n",
              "    <script>\n",
              "      const buttonEl =\n",
              "        document.querySelector('#df-399684d3-f118-4804-97c2-4126ad108c43 button.colab-df-convert');\n",
              "      buttonEl.style.display =\n",
              "        google.colab.kernel.accessAllowed ? 'block' : 'none';\n",
              "\n",
              "      async function convertToInteractive(key) {\n",
              "        const element = document.querySelector('#df-399684d3-f118-4804-97c2-4126ad108c43');\n",
              "        const dataTable =\n",
              "          await google.colab.kernel.invokeFunction('convertToInteractive',\n",
              "                                                    [key], {});\n",
              "        if (!dataTable) return;\n",
              "\n",
              "        const docLinkHtml = 'Like what you see? Visit the ' +\n",
              "          '<a target=\"_blank\" href=https://colab.research.google.com/notebooks/data_table.ipynb>data table notebook</a>'\n",
              "          + ' to learn more about interactive tables.';\n",
              "        element.innerHTML = '';\n",
              "        dataTable['output_type'] = 'display_data';\n",
              "        await google.colab.output.renderOutput(dataTable, element);\n",
              "        const docLink = document.createElement('div');\n",
              "        docLink.innerHTML = docLinkHtml;\n",
              "        element.appendChild(docLink);\n",
              "      }\n",
              "    </script>\n",
              "  </div>\n",
              "\n",
              "\n",
              "<div id=\"df-e94e8aba-4e15-40f8-81ee-1d0207212b04\">\n",
              "  <button class=\"colab-df-quickchart\" onclick=\"quickchart('df-e94e8aba-4e15-40f8-81ee-1d0207212b04')\"\n",
              "            title=\"Suggest charts\"\n",
              "            style=\"display:none;\">\n",
              "\n",
              "<svg xmlns=\"http://www.w3.org/2000/svg\" height=\"24px\"viewBox=\"0 0 24 24\"\n",
              "     width=\"24px\">\n",
              "    <g>\n",
              "        <path d=\"M19 3H5c-1.1 0-2 .9-2 2v14c0 1.1.9 2 2 2h14c1.1 0 2-.9 2-2V5c0-1.1-.9-2-2-2zM9 17H7v-7h2v7zm4 0h-2V7h2v10zm4 0h-2v-4h2v4z\"/>\n",
              "    </g>\n",
              "</svg>\n",
              "  </button>\n",
              "\n",
              "<style>\n",
              "  .colab-df-quickchart {\n",
              "      --bg-color: #E8F0FE;\n",
              "      --fill-color: #1967D2;\n",
              "      --hover-bg-color: #E2EBFA;\n",
              "      --hover-fill-color: #174EA6;\n",
              "      --disabled-fill-color: #AAA;\n",
              "      --disabled-bg-color: #DDD;\n",
              "  }\n",
              "\n",
              "  [theme=dark] .colab-df-quickchart {\n",
              "      --bg-color: #3B4455;\n",
              "      --fill-color: #D2E3FC;\n",
              "      --hover-bg-color: #434B5C;\n",
              "      --hover-fill-color: #FFFFFF;\n",
              "      --disabled-bg-color: #3B4455;\n",
              "      --disabled-fill-color: #666;\n",
              "  }\n",
              "\n",
              "  .colab-df-quickchart {\n",
              "    background-color: var(--bg-color);\n",
              "    border: none;\n",
              "    border-radius: 50%;\n",
              "    cursor: pointer;\n",
              "    display: none;\n",
              "    fill: var(--fill-color);\n",
              "    height: 32px;\n",
              "    padding: 0;\n",
              "    width: 32px;\n",
              "  }\n",
              "\n",
              "  .colab-df-quickchart:hover {\n",
              "    background-color: var(--hover-bg-color);\n",
              "    box-shadow: 0 1px 2px rgba(60, 64, 67, 0.3), 0 1px 3px 1px rgba(60, 64, 67, 0.15);\n",
              "    fill: var(--button-hover-fill-color);\n",
              "  }\n",
              "\n",
              "  .colab-df-quickchart-complete:disabled,\n",
              "  .colab-df-quickchart-complete:disabled:hover {\n",
              "    background-color: var(--disabled-bg-color);\n",
              "    fill: var(--disabled-fill-color);\n",
              "    box-shadow: none;\n",
              "  }\n",
              "\n",
              "  .colab-df-spinner {\n",
              "    border: 2px solid var(--fill-color);\n",
              "    border-color: transparent;\n",
              "    border-bottom-color: var(--fill-color);\n",
              "    animation:\n",
              "      spin 1s steps(1) infinite;\n",
              "  }\n",
              "\n",
              "  @keyframes spin {\n",
              "    0% {\n",
              "      border-color: transparent;\n",
              "      border-bottom-color: var(--fill-color);\n",
              "      border-left-color: var(--fill-color);\n",
              "    }\n",
              "    20% {\n",
              "      border-color: transparent;\n",
              "      border-left-color: var(--fill-color);\n",
              "      border-top-color: var(--fill-color);\n",
              "    }\n",
              "    30% {\n",
              "      border-color: transparent;\n",
              "      border-left-color: var(--fill-color);\n",
              "      border-top-color: var(--fill-color);\n",
              "      border-right-color: var(--fill-color);\n",
              "    }\n",
              "    40% {\n",
              "      border-color: transparent;\n",
              "      border-right-color: var(--fill-color);\n",
              "      border-top-color: var(--fill-color);\n",
              "    }\n",
              "    60% {\n",
              "      border-color: transparent;\n",
              "      border-right-color: var(--fill-color);\n",
              "    }\n",
              "    80% {\n",
              "      border-color: transparent;\n",
              "      border-right-color: var(--fill-color);\n",
              "      border-bottom-color: var(--fill-color);\n",
              "    }\n",
              "    90% {\n",
              "      border-color: transparent;\n",
              "      border-bottom-color: var(--fill-color);\n",
              "    }\n",
              "  }\n",
              "</style>\n",
              "\n",
              "  <script>\n",
              "    async function quickchart(key) {\n",
              "      const quickchartButtonEl =\n",
              "        document.querySelector('#' + key + ' button');\n",
              "      quickchartButtonEl.disabled = true;  // To prevent multiple clicks.\n",
              "      quickchartButtonEl.classList.add('colab-df-spinner');\n",
              "      try {\n",
              "        const charts = await google.colab.kernel.invokeFunction(\n",
              "            'suggestCharts', [key], {});\n",
              "      } catch (error) {\n",
              "        console.error('Error during call to suggestCharts:', error);\n",
              "      }\n",
              "      quickchartButtonEl.classList.remove('colab-df-spinner');\n",
              "      quickchartButtonEl.classList.add('colab-df-quickchart-complete');\n",
              "    }\n",
              "    (() => {\n",
              "      let quickchartButtonEl =\n",
              "        document.querySelector('#df-e94e8aba-4e15-40f8-81ee-1d0207212b04 button');\n",
              "      quickchartButtonEl.style.display =\n",
              "        google.colab.kernel.accessAllowed ? 'block' : 'none';\n",
              "    })();\n",
              "  </script>\n",
              "</div>\n",
              "    </div>\n",
              "  </div>\n"
            ],
            "application/vnd.google.colaboratory.intrinsic+json": {
              "type": "dataframe",
              "variable_name": "PlusMinus_min",
              "repr_error": "'str' object has no attribute 'empty'"
            }
          },
          "metadata": {},
          "execution_count": 56
        }
      ]
    },
    {
      "cell_type": "code",
      "source": [
        "PlusMinus_min['acc_lead'] = PlusMinus_min.apply(lambda row: row['home_score'] - row['away_score'] if row['home_team'] == 'LAL' else row['away_score'] - row['home_score'], axis=1)\n"
      ],
      "metadata": {
        "id": "Fs0oZgKdcZoz"
      },
      "execution_count": null,
      "outputs": []
    },
    {
      "cell_type": "code",
      "source": [
        "PlusMinus_min"
      ],
      "metadata": {
        "colab": {
          "base_uri": "https://localhost:8080/",
          "height": 423
        },
        "id": "1o5uG5m4gjsd",
        "outputId": "fe71dc72-a3b8-4929-e1fd-0a9ea4f90bea"
      },
      "execution_count": null,
      "outputs": [
        {
          "output_type": "execute_result",
          "data": {
            "text/plain": [
              "                                   GameFile remaining_time  minute away_team  \\\n",
              "11516   [2020-01-03]-0021900522-NOP@LAL.csv       00:11:06       0       NOP   \n",
              "11527   [2020-01-03]-0021900522-NOP@LAL.csv       00:10:04       1       NOP   \n",
              "11538   [2020-01-03]-0021900522-NOP@LAL.csv       00:09:02       2       NOP   \n",
              "11544   [2020-01-03]-0021900522-NOP@LAL.csv       00:08:07       3       NOP   \n",
              "11557   [2020-01-03]-0021900522-NOP@LAL.csv       00:07:03       4       NOP   \n",
              "...                                     ...            ...     ...       ...   \n",
              "534972  [2019-11-01]-0021900074-LAL@DAL.csv        0:04:06       7       LAL   \n",
              "534982  [2019-11-01]-0021900074-LAL@DAL.csv        0:03:15       8       LAL   \n",
              "534987  [2019-11-01]-0021900074-LAL@DAL.csv        0:02:18       9       LAL   \n",
              "534994  [2019-11-01]-0021900074-LAL@DAL.csv        0:01:01      10       LAL   \n",
              "535013  [2019-11-01]-0021900074-LAL@DAL.csv        0:00:00      11       LAL   \n",
              "\n",
              "       home_team  home_score  away_score  period  Game minute  acc_lead  \n",
              "11516        LAL           4           3       1            1         1  \n",
              "11527        LAL           6           8       1            2        -2  \n",
              "11538        LAL           9           8       1            3         1  \n",
              "11544        LAL          14          10       1            4         4  \n",
              "11557        LAL          18          12       1            5         6  \n",
              "...          ...         ...         ...     ...          ...       ...  \n",
              "534972       DAL          94          96       4           44         2  \n",
              "534982       DAL          97          98       4           45         1  \n",
              "534987       DAL          99          98       4           46        -1  \n",
              "534994       DAL          99         100       4           47         1  \n",
              "535013       DAL         103         103       4           48         0  \n",
              "\n",
              "[3840 rows x 10 columns]"
            ],
            "text/html": [
              "\n",
              "  <div id=\"df-0cdae2bd-d6de-4a2c-a271-938c0b2e9c62\" class=\"colab-df-container\">\n",
              "    <div>\n",
              "<style scoped>\n",
              "    .dataframe tbody tr th:only-of-type {\n",
              "        vertical-align: middle;\n",
              "    }\n",
              "\n",
              "    .dataframe tbody tr th {\n",
              "        vertical-align: top;\n",
              "    }\n",
              "\n",
              "    .dataframe thead th {\n",
              "        text-align: right;\n",
              "    }\n",
              "</style>\n",
              "<table border=\"1\" class=\"dataframe\">\n",
              "  <thead>\n",
              "    <tr style=\"text-align: right;\">\n",
              "      <th></th>\n",
              "      <th>GameFile</th>\n",
              "      <th>remaining_time</th>\n",
              "      <th>minute</th>\n",
              "      <th>away_team</th>\n",
              "      <th>home_team</th>\n",
              "      <th>home_score</th>\n",
              "      <th>away_score</th>\n",
              "      <th>period</th>\n",
              "      <th>Game minute</th>\n",
              "      <th>acc_lead</th>\n",
              "    </tr>\n",
              "  </thead>\n",
              "  <tbody>\n",
              "    <tr>\n",
              "      <th>11516</th>\n",
              "      <td>[2020-01-03]-0021900522-NOP@LAL.csv</td>\n",
              "      <td>00:11:06</td>\n",
              "      <td>0</td>\n",
              "      <td>NOP</td>\n",
              "      <td>LAL</td>\n",
              "      <td>4</td>\n",
              "      <td>3</td>\n",
              "      <td>1</td>\n",
              "      <td>1</td>\n",
              "      <td>1</td>\n",
              "    </tr>\n",
              "    <tr>\n",
              "      <th>11527</th>\n",
              "      <td>[2020-01-03]-0021900522-NOP@LAL.csv</td>\n",
              "      <td>00:10:04</td>\n",
              "      <td>1</td>\n",
              "      <td>NOP</td>\n",
              "      <td>LAL</td>\n",
              "      <td>6</td>\n",
              "      <td>8</td>\n",
              "      <td>1</td>\n",
              "      <td>2</td>\n",
              "      <td>-2</td>\n",
              "    </tr>\n",
              "    <tr>\n",
              "      <th>11538</th>\n",
              "      <td>[2020-01-03]-0021900522-NOP@LAL.csv</td>\n",
              "      <td>00:09:02</td>\n",
              "      <td>2</td>\n",
              "      <td>NOP</td>\n",
              "      <td>LAL</td>\n",
              "      <td>9</td>\n",
              "      <td>8</td>\n",
              "      <td>1</td>\n",
              "      <td>3</td>\n",
              "      <td>1</td>\n",
              "    </tr>\n",
              "    <tr>\n",
              "      <th>11544</th>\n",
              "      <td>[2020-01-03]-0021900522-NOP@LAL.csv</td>\n",
              "      <td>00:08:07</td>\n",
              "      <td>3</td>\n",
              "      <td>NOP</td>\n",
              "      <td>LAL</td>\n",
              "      <td>14</td>\n",
              "      <td>10</td>\n",
              "      <td>1</td>\n",
              "      <td>4</td>\n",
              "      <td>4</td>\n",
              "    </tr>\n",
              "    <tr>\n",
              "      <th>11557</th>\n",
              "      <td>[2020-01-03]-0021900522-NOP@LAL.csv</td>\n",
              "      <td>00:07:03</td>\n",
              "      <td>4</td>\n",
              "      <td>NOP</td>\n",
              "      <td>LAL</td>\n",
              "      <td>18</td>\n",
              "      <td>12</td>\n",
              "      <td>1</td>\n",
              "      <td>5</td>\n",
              "      <td>6</td>\n",
              "    </tr>\n",
              "    <tr>\n",
              "      <th>...</th>\n",
              "      <td>...</td>\n",
              "      <td>...</td>\n",
              "      <td>...</td>\n",
              "      <td>...</td>\n",
              "      <td>...</td>\n",
              "      <td>...</td>\n",
              "      <td>...</td>\n",
              "      <td>...</td>\n",
              "      <td>...</td>\n",
              "      <td>...</td>\n",
              "    </tr>\n",
              "    <tr>\n",
              "      <th>534972</th>\n",
              "      <td>[2019-11-01]-0021900074-LAL@DAL.csv</td>\n",
              "      <td>0:04:06</td>\n",
              "      <td>7</td>\n",
              "      <td>LAL</td>\n",
              "      <td>DAL</td>\n",
              "      <td>94</td>\n",
              "      <td>96</td>\n",
              "      <td>4</td>\n",
              "      <td>44</td>\n",
              "      <td>2</td>\n",
              "    </tr>\n",
              "    <tr>\n",
              "      <th>534982</th>\n",
              "      <td>[2019-11-01]-0021900074-LAL@DAL.csv</td>\n",
              "      <td>0:03:15</td>\n",
              "      <td>8</td>\n",
              "      <td>LAL</td>\n",
              "      <td>DAL</td>\n",
              "      <td>97</td>\n",
              "      <td>98</td>\n",
              "      <td>4</td>\n",
              "      <td>45</td>\n",
              "      <td>1</td>\n",
              "    </tr>\n",
              "    <tr>\n",
              "      <th>534987</th>\n",
              "      <td>[2019-11-01]-0021900074-LAL@DAL.csv</td>\n",
              "      <td>0:02:18</td>\n",
              "      <td>9</td>\n",
              "      <td>LAL</td>\n",
              "      <td>DAL</td>\n",
              "      <td>99</td>\n",
              "      <td>98</td>\n",
              "      <td>4</td>\n",
              "      <td>46</td>\n",
              "      <td>-1</td>\n",
              "    </tr>\n",
              "    <tr>\n",
              "      <th>534994</th>\n",
              "      <td>[2019-11-01]-0021900074-LAL@DAL.csv</td>\n",
              "      <td>0:01:01</td>\n",
              "      <td>10</td>\n",
              "      <td>LAL</td>\n",
              "      <td>DAL</td>\n",
              "      <td>99</td>\n",
              "      <td>100</td>\n",
              "      <td>4</td>\n",
              "      <td>47</td>\n",
              "      <td>1</td>\n",
              "    </tr>\n",
              "    <tr>\n",
              "      <th>535013</th>\n",
              "      <td>[2019-11-01]-0021900074-LAL@DAL.csv</td>\n",
              "      <td>0:00:00</td>\n",
              "      <td>11</td>\n",
              "      <td>LAL</td>\n",
              "      <td>DAL</td>\n",
              "      <td>103</td>\n",
              "      <td>103</td>\n",
              "      <td>4</td>\n",
              "      <td>48</td>\n",
              "      <td>0</td>\n",
              "    </tr>\n",
              "  </tbody>\n",
              "</table>\n",
              "<p>3840 rows × 10 columns</p>\n",
              "</div>\n",
              "    <div class=\"colab-df-buttons\">\n",
              "\n",
              "  <div class=\"colab-df-container\">\n",
              "    <button class=\"colab-df-convert\" onclick=\"convertToInteractive('df-0cdae2bd-d6de-4a2c-a271-938c0b2e9c62')\"\n",
              "            title=\"Convert this dataframe to an interactive table.\"\n",
              "            style=\"display:none;\">\n",
              "\n",
              "  <svg xmlns=\"http://www.w3.org/2000/svg\" height=\"24px\" viewBox=\"0 -960 960 960\">\n",
              "    <path d=\"M120-120v-720h720v720H120Zm60-500h600v-160H180v160Zm220 220h160v-160H400v160Zm0 220h160v-160H400v160ZM180-400h160v-160H180v160Zm440 0h160v-160H620v160ZM180-180h160v-160H180v160Zm440 0h160v-160H620v160Z\"/>\n",
              "  </svg>\n",
              "    </button>\n",
              "\n",
              "  <style>\n",
              "    .colab-df-container {\n",
              "      display:flex;\n",
              "      gap: 12px;\n",
              "    }\n",
              "\n",
              "    .colab-df-convert {\n",
              "      background-color: #E8F0FE;\n",
              "      border: none;\n",
              "      border-radius: 50%;\n",
              "      cursor: pointer;\n",
              "      display: none;\n",
              "      fill: #1967D2;\n",
              "      height: 32px;\n",
              "      padding: 0 0 0 0;\n",
              "      width: 32px;\n",
              "    }\n",
              "\n",
              "    .colab-df-convert:hover {\n",
              "      background-color: #E2EBFA;\n",
              "      box-shadow: 0px 1px 2px rgba(60, 64, 67, 0.3), 0px 1px 3px 1px rgba(60, 64, 67, 0.15);\n",
              "      fill: #174EA6;\n",
              "    }\n",
              "\n",
              "    .colab-df-buttons div {\n",
              "      margin-bottom: 4px;\n",
              "    }\n",
              "\n",
              "    [theme=dark] .colab-df-convert {\n",
              "      background-color: #3B4455;\n",
              "      fill: #D2E3FC;\n",
              "    }\n",
              "\n",
              "    [theme=dark] .colab-df-convert:hover {\n",
              "      background-color: #434B5C;\n",
              "      box-shadow: 0px 1px 3px 1px rgba(0, 0, 0, 0.15);\n",
              "      filter: drop-shadow(0px 1px 2px rgba(0, 0, 0, 0.3));\n",
              "      fill: #FFFFFF;\n",
              "    }\n",
              "  </style>\n",
              "\n",
              "    <script>\n",
              "      const buttonEl =\n",
              "        document.querySelector('#df-0cdae2bd-d6de-4a2c-a271-938c0b2e9c62 button.colab-df-convert');\n",
              "      buttonEl.style.display =\n",
              "        google.colab.kernel.accessAllowed ? 'block' : 'none';\n",
              "\n",
              "      async function convertToInteractive(key) {\n",
              "        const element = document.querySelector('#df-0cdae2bd-d6de-4a2c-a271-938c0b2e9c62');\n",
              "        const dataTable =\n",
              "          await google.colab.kernel.invokeFunction('convertToInteractive',\n",
              "                                                    [key], {});\n",
              "        if (!dataTable) return;\n",
              "\n",
              "        const docLinkHtml = 'Like what you see? Visit the ' +\n",
              "          '<a target=\"_blank\" href=https://colab.research.google.com/notebooks/data_table.ipynb>data table notebook</a>'\n",
              "          + ' to learn more about interactive tables.';\n",
              "        element.innerHTML = '';\n",
              "        dataTable['output_type'] = 'display_data';\n",
              "        await google.colab.output.renderOutput(dataTable, element);\n",
              "        const docLink = document.createElement('div');\n",
              "        docLink.innerHTML = docLinkHtml;\n",
              "        element.appendChild(docLink);\n",
              "      }\n",
              "    </script>\n",
              "  </div>\n",
              "\n",
              "\n",
              "<div id=\"df-ceb43600-a747-486b-8d47-dac377bba89c\">\n",
              "  <button class=\"colab-df-quickchart\" onclick=\"quickchart('df-ceb43600-a747-486b-8d47-dac377bba89c')\"\n",
              "            title=\"Suggest charts\"\n",
              "            style=\"display:none;\">\n",
              "\n",
              "<svg xmlns=\"http://www.w3.org/2000/svg\" height=\"24px\"viewBox=\"0 0 24 24\"\n",
              "     width=\"24px\">\n",
              "    <g>\n",
              "        <path d=\"M19 3H5c-1.1 0-2 .9-2 2v14c0 1.1.9 2 2 2h14c1.1 0 2-.9 2-2V5c0-1.1-.9-2-2-2zM9 17H7v-7h2v7zm4 0h-2V7h2v10zm4 0h-2v-4h2v4z\"/>\n",
              "    </g>\n",
              "</svg>\n",
              "  </button>\n",
              "\n",
              "<style>\n",
              "  .colab-df-quickchart {\n",
              "      --bg-color: #E8F0FE;\n",
              "      --fill-color: #1967D2;\n",
              "      --hover-bg-color: #E2EBFA;\n",
              "      --hover-fill-color: #174EA6;\n",
              "      --disabled-fill-color: #AAA;\n",
              "      --disabled-bg-color: #DDD;\n",
              "  }\n",
              "\n",
              "  [theme=dark] .colab-df-quickchart {\n",
              "      --bg-color: #3B4455;\n",
              "      --fill-color: #D2E3FC;\n",
              "      --hover-bg-color: #434B5C;\n",
              "      --hover-fill-color: #FFFFFF;\n",
              "      --disabled-bg-color: #3B4455;\n",
              "      --disabled-fill-color: #666;\n",
              "  }\n",
              "\n",
              "  .colab-df-quickchart {\n",
              "    background-color: var(--bg-color);\n",
              "    border: none;\n",
              "    border-radius: 50%;\n",
              "    cursor: pointer;\n",
              "    display: none;\n",
              "    fill: var(--fill-color);\n",
              "    height: 32px;\n",
              "    padding: 0;\n",
              "    width: 32px;\n",
              "  }\n",
              "\n",
              "  .colab-df-quickchart:hover {\n",
              "    background-color: var(--hover-bg-color);\n",
              "    box-shadow: 0 1px 2px rgba(60, 64, 67, 0.3), 0 1px 3px 1px rgba(60, 64, 67, 0.15);\n",
              "    fill: var(--button-hover-fill-color);\n",
              "  }\n",
              "\n",
              "  .colab-df-quickchart-complete:disabled,\n",
              "  .colab-df-quickchart-complete:disabled:hover {\n",
              "    background-color: var(--disabled-bg-color);\n",
              "    fill: var(--disabled-fill-color);\n",
              "    box-shadow: none;\n",
              "  }\n",
              "\n",
              "  .colab-df-spinner {\n",
              "    border: 2px solid var(--fill-color);\n",
              "    border-color: transparent;\n",
              "    border-bottom-color: var(--fill-color);\n",
              "    animation:\n",
              "      spin 1s steps(1) infinite;\n",
              "  }\n",
              "\n",
              "  @keyframes spin {\n",
              "    0% {\n",
              "      border-color: transparent;\n",
              "      border-bottom-color: var(--fill-color);\n",
              "      border-left-color: var(--fill-color);\n",
              "    }\n",
              "    20% {\n",
              "      border-color: transparent;\n",
              "      border-left-color: var(--fill-color);\n",
              "      border-top-color: var(--fill-color);\n",
              "    }\n",
              "    30% {\n",
              "      border-color: transparent;\n",
              "      border-left-color: var(--fill-color);\n",
              "      border-top-color: var(--fill-color);\n",
              "      border-right-color: var(--fill-color);\n",
              "    }\n",
              "    40% {\n",
              "      border-color: transparent;\n",
              "      border-right-color: var(--fill-color);\n",
              "      border-top-color: var(--fill-color);\n",
              "    }\n",
              "    60% {\n",
              "      border-color: transparent;\n",
              "      border-right-color: var(--fill-color);\n",
              "    }\n",
              "    80% {\n",
              "      border-color: transparent;\n",
              "      border-right-color: var(--fill-color);\n",
              "      border-bottom-color: var(--fill-color);\n",
              "    }\n",
              "    90% {\n",
              "      border-color: transparent;\n",
              "      border-bottom-color: var(--fill-color);\n",
              "    }\n",
              "  }\n",
              "</style>\n",
              "\n",
              "  <script>\n",
              "    async function quickchart(key) {\n",
              "      const quickchartButtonEl =\n",
              "        document.querySelector('#' + key + ' button');\n",
              "      quickchartButtonEl.disabled = true;  // To prevent multiple clicks.\n",
              "      quickchartButtonEl.classList.add('colab-df-spinner');\n",
              "      try {\n",
              "        const charts = await google.colab.kernel.invokeFunction(\n",
              "            'suggestCharts', [key], {});\n",
              "      } catch (error) {\n",
              "        console.error('Error during call to suggestCharts:', error);\n",
              "      }\n",
              "      quickchartButtonEl.classList.remove('colab-df-spinner');\n",
              "      quickchartButtonEl.classList.add('colab-df-quickchart-complete');\n",
              "    }\n",
              "    (() => {\n",
              "      let quickchartButtonEl =\n",
              "        document.querySelector('#df-ceb43600-a747-486b-8d47-dac377bba89c button');\n",
              "      quickchartButtonEl.style.display =\n",
              "        google.colab.kernel.accessAllowed ? 'block' : 'none';\n",
              "    })();\n",
              "  </script>\n",
              "</div>\n",
              "    </div>\n",
              "  </div>\n"
            ],
            "application/vnd.google.colaboratory.intrinsic+json": {
              "type": "dataframe",
              "variable_name": "PlusMinus_min",
              "repr_error": "'str' object has no attribute 'empty'"
            }
          },
          "metadata": {},
          "execution_count": 58
        }
      ]
    },
    {
      "cell_type": "code",
      "source": [
        "plusminus = PlusMinus_min.groupby(['Game minute'])[['acc_lead']].sum().reset_index()"
      ],
      "metadata": {
        "id": "uj5WKuxtjo4w"
      },
      "execution_count": null,
      "outputs": []
    },
    {
      "cell_type": "code",
      "source": [
        "plusminus['avg_acc_lead'] = round(plusminus['acc_lead']/80,2)\n",
        "plusminus['lead'] = plusminus['acc_lead'] - plusminus['acc_lead'].shift(1)\n",
        "plusminus.loc[0,'lead'] = plusminus.loc[0,'acc_lead']\n",
        "plusminus['avg_lead'] = round(plusminus['lead']/80,2)"
      ],
      "metadata": {
        "id": "OdBEGtC3mecu"
      },
      "execution_count": null,
      "outputs": []
    },
    {
      "cell_type": "code",
      "source": [
        "plusminus"
      ],
      "metadata": {
        "colab": {
          "base_uri": "https://localhost:8080/",
          "height": 1000
        },
        "id": "GpIGiXiMnXr2",
        "outputId": "9c47406e-027d-49c2-d82e-0ac257eb5d20"
      },
      "execution_count": null,
      "outputs": [
        {
          "output_type": "execute_result",
          "data": {
            "text/plain": [
              "    Game minute  acc_lead  avg_acc_lead  lead  avg_lead\n",
              "0             1        12          0.15  12.0      0.15\n",
              "1             2        13          0.16   1.0      0.01\n",
              "2             3        24          0.30  11.0      0.14\n",
              "3             4        85          1.06  61.0      0.76\n",
              "4             5        75          0.94 -10.0     -0.12\n",
              "5             6       112          1.40  37.0      0.46\n",
              "6             7       113          1.41   1.0      0.01\n",
              "7             8       141          1.76  28.0      0.35\n",
              "8             9       213          2.66  72.0      0.90\n",
              "9            10       203          2.54 -10.0     -0.12\n",
              "10           11       222          2.78  19.0      0.24\n",
              "11           12       208          2.60 -14.0     -0.18\n",
              "12           13       172          2.15 -36.0     -0.45\n",
              "13           14       206          2.58  34.0      0.42\n",
              "14           15       209          2.61   3.0      0.04\n",
              "15           16       191          2.39 -18.0     -0.22\n",
              "16           17       200          2.50   9.0      0.11\n",
              "17           18       214          2.68  14.0      0.18\n",
              "18           19       204          2.55 -10.0     -0.12\n",
              "19           20       266          3.32  62.0      0.78\n",
              "20           21       259          3.24  -7.0     -0.09\n",
              "21           22       300          3.75  41.0      0.51\n",
              "22           23       311          3.89  11.0      0.14\n",
              "23           24       404          5.05  93.0      1.16\n",
              "24           25       394          4.92 -10.0     -0.12\n",
              "25           26       384          4.80 -10.0     -0.12\n",
              "26           27       419          5.24  35.0      0.44\n",
              "27           28       433          5.41  14.0      0.18\n",
              "28           29       460          5.75  27.0      0.34\n",
              "29           30       452          5.65  -8.0     -0.10\n",
              "30           31       422          5.28 -30.0     -0.38\n",
              "31           32       407          5.09 -15.0     -0.19\n",
              "32           33       410          5.12   3.0      0.04\n",
              "33           34       407          5.09  -3.0     -0.04\n",
              "34           35       387          4.84 -20.0     -0.25\n",
              "35           36       410          5.12  23.0      0.29\n",
              "36           37       445          5.56  35.0      0.44\n",
              "37           38       430          5.38 -15.0     -0.19\n",
              "38           39       451          5.64  21.0      0.26\n",
              "39           40       521          6.51  70.0      0.88\n",
              "40           41       539          6.74  18.0      0.22\n",
              "41           42       554          6.92  15.0      0.19\n",
              "42           43       507          6.34 -47.0     -0.59\n",
              "43           44       508          6.35   1.0      0.01\n",
              "44           45       489          6.11 -19.0     -0.24\n",
              "45           46       504          6.30  15.0      0.19\n",
              "46           47       477          5.96 -27.0     -0.34\n",
              "47           48       468          5.85  -9.0     -0.11"
            ],
            "text/html": [
              "\n",
              "  <div id=\"df-d6629fd5-3d0e-4d68-a638-c43630307163\" class=\"colab-df-container\">\n",
              "    <div>\n",
              "<style scoped>\n",
              "    .dataframe tbody tr th:only-of-type {\n",
              "        vertical-align: middle;\n",
              "    }\n",
              "\n",
              "    .dataframe tbody tr th {\n",
              "        vertical-align: top;\n",
              "    }\n",
              "\n",
              "    .dataframe thead th {\n",
              "        text-align: right;\n",
              "    }\n",
              "</style>\n",
              "<table border=\"1\" class=\"dataframe\">\n",
              "  <thead>\n",
              "    <tr style=\"text-align: right;\">\n",
              "      <th></th>\n",
              "      <th>Game minute</th>\n",
              "      <th>acc_lead</th>\n",
              "      <th>avg_acc_lead</th>\n",
              "      <th>lead</th>\n",
              "      <th>avg_lead</th>\n",
              "    </tr>\n",
              "  </thead>\n",
              "  <tbody>\n",
              "    <tr>\n",
              "      <th>0</th>\n",
              "      <td>1</td>\n",
              "      <td>12</td>\n",
              "      <td>0.15</td>\n",
              "      <td>12.0</td>\n",
              "      <td>0.15</td>\n",
              "    </tr>\n",
              "    <tr>\n",
              "      <th>1</th>\n",
              "      <td>2</td>\n",
              "      <td>13</td>\n",
              "      <td>0.16</td>\n",
              "      <td>1.0</td>\n",
              "      <td>0.01</td>\n",
              "    </tr>\n",
              "    <tr>\n",
              "      <th>2</th>\n",
              "      <td>3</td>\n",
              "      <td>24</td>\n",
              "      <td>0.30</td>\n",
              "      <td>11.0</td>\n",
              "      <td>0.14</td>\n",
              "    </tr>\n",
              "    <tr>\n",
              "      <th>3</th>\n",
              "      <td>4</td>\n",
              "      <td>85</td>\n",
              "      <td>1.06</td>\n",
              "      <td>61.0</td>\n",
              "      <td>0.76</td>\n",
              "    </tr>\n",
              "    <tr>\n",
              "      <th>4</th>\n",
              "      <td>5</td>\n",
              "      <td>75</td>\n",
              "      <td>0.94</td>\n",
              "      <td>-10.0</td>\n",
              "      <td>-0.12</td>\n",
              "    </tr>\n",
              "    <tr>\n",
              "      <th>5</th>\n",
              "      <td>6</td>\n",
              "      <td>112</td>\n",
              "      <td>1.40</td>\n",
              "      <td>37.0</td>\n",
              "      <td>0.46</td>\n",
              "    </tr>\n",
              "    <tr>\n",
              "      <th>6</th>\n",
              "      <td>7</td>\n",
              "      <td>113</td>\n",
              "      <td>1.41</td>\n",
              "      <td>1.0</td>\n",
              "      <td>0.01</td>\n",
              "    </tr>\n",
              "    <tr>\n",
              "      <th>7</th>\n",
              "      <td>8</td>\n",
              "      <td>141</td>\n",
              "      <td>1.76</td>\n",
              "      <td>28.0</td>\n",
              "      <td>0.35</td>\n",
              "    </tr>\n",
              "    <tr>\n",
              "      <th>8</th>\n",
              "      <td>9</td>\n",
              "      <td>213</td>\n",
              "      <td>2.66</td>\n",
              "      <td>72.0</td>\n",
              "      <td>0.90</td>\n",
              "    </tr>\n",
              "    <tr>\n",
              "      <th>9</th>\n",
              "      <td>10</td>\n",
              "      <td>203</td>\n",
              "      <td>2.54</td>\n",
              "      <td>-10.0</td>\n",
              "      <td>-0.12</td>\n",
              "    </tr>\n",
              "    <tr>\n",
              "      <th>10</th>\n",
              "      <td>11</td>\n",
              "      <td>222</td>\n",
              "      <td>2.78</td>\n",
              "      <td>19.0</td>\n",
              "      <td>0.24</td>\n",
              "    </tr>\n",
              "    <tr>\n",
              "      <th>11</th>\n",
              "      <td>12</td>\n",
              "      <td>208</td>\n",
              "      <td>2.60</td>\n",
              "      <td>-14.0</td>\n",
              "      <td>-0.18</td>\n",
              "    </tr>\n",
              "    <tr>\n",
              "      <th>12</th>\n",
              "      <td>13</td>\n",
              "      <td>172</td>\n",
              "      <td>2.15</td>\n",
              "      <td>-36.0</td>\n",
              "      <td>-0.45</td>\n",
              "    </tr>\n",
              "    <tr>\n",
              "      <th>13</th>\n",
              "      <td>14</td>\n",
              "      <td>206</td>\n",
              "      <td>2.58</td>\n",
              "      <td>34.0</td>\n",
              "      <td>0.42</td>\n",
              "    </tr>\n",
              "    <tr>\n",
              "      <th>14</th>\n",
              "      <td>15</td>\n",
              "      <td>209</td>\n",
              "      <td>2.61</td>\n",
              "      <td>3.0</td>\n",
              "      <td>0.04</td>\n",
              "    </tr>\n",
              "    <tr>\n",
              "      <th>15</th>\n",
              "      <td>16</td>\n",
              "      <td>191</td>\n",
              "      <td>2.39</td>\n",
              "      <td>-18.0</td>\n",
              "      <td>-0.22</td>\n",
              "    </tr>\n",
              "    <tr>\n",
              "      <th>16</th>\n",
              "      <td>17</td>\n",
              "      <td>200</td>\n",
              "      <td>2.50</td>\n",
              "      <td>9.0</td>\n",
              "      <td>0.11</td>\n",
              "    </tr>\n",
              "    <tr>\n",
              "      <th>17</th>\n",
              "      <td>18</td>\n",
              "      <td>214</td>\n",
              "      <td>2.68</td>\n",
              "      <td>14.0</td>\n",
              "      <td>0.18</td>\n",
              "    </tr>\n",
              "    <tr>\n",
              "      <th>18</th>\n",
              "      <td>19</td>\n",
              "      <td>204</td>\n",
              "      <td>2.55</td>\n",
              "      <td>-10.0</td>\n",
              "      <td>-0.12</td>\n",
              "    </tr>\n",
              "    <tr>\n",
              "      <th>19</th>\n",
              "      <td>20</td>\n",
              "      <td>266</td>\n",
              "      <td>3.32</td>\n",
              "      <td>62.0</td>\n",
              "      <td>0.78</td>\n",
              "    </tr>\n",
              "    <tr>\n",
              "      <th>20</th>\n",
              "      <td>21</td>\n",
              "      <td>259</td>\n",
              "      <td>3.24</td>\n",
              "      <td>-7.0</td>\n",
              "      <td>-0.09</td>\n",
              "    </tr>\n",
              "    <tr>\n",
              "      <th>21</th>\n",
              "      <td>22</td>\n",
              "      <td>300</td>\n",
              "      <td>3.75</td>\n",
              "      <td>41.0</td>\n",
              "      <td>0.51</td>\n",
              "    </tr>\n",
              "    <tr>\n",
              "      <th>22</th>\n",
              "      <td>23</td>\n",
              "      <td>311</td>\n",
              "      <td>3.89</td>\n",
              "      <td>11.0</td>\n",
              "      <td>0.14</td>\n",
              "    </tr>\n",
              "    <tr>\n",
              "      <th>23</th>\n",
              "      <td>24</td>\n",
              "      <td>404</td>\n",
              "      <td>5.05</td>\n",
              "      <td>93.0</td>\n",
              "      <td>1.16</td>\n",
              "    </tr>\n",
              "    <tr>\n",
              "      <th>24</th>\n",
              "      <td>25</td>\n",
              "      <td>394</td>\n",
              "      <td>4.92</td>\n",
              "      <td>-10.0</td>\n",
              "      <td>-0.12</td>\n",
              "    </tr>\n",
              "    <tr>\n",
              "      <th>25</th>\n",
              "      <td>26</td>\n",
              "      <td>384</td>\n",
              "      <td>4.80</td>\n",
              "      <td>-10.0</td>\n",
              "      <td>-0.12</td>\n",
              "    </tr>\n",
              "    <tr>\n",
              "      <th>26</th>\n",
              "      <td>27</td>\n",
              "      <td>419</td>\n",
              "      <td>5.24</td>\n",
              "      <td>35.0</td>\n",
              "      <td>0.44</td>\n",
              "    </tr>\n",
              "    <tr>\n",
              "      <th>27</th>\n",
              "      <td>28</td>\n",
              "      <td>433</td>\n",
              "      <td>5.41</td>\n",
              "      <td>14.0</td>\n",
              "      <td>0.18</td>\n",
              "    </tr>\n",
              "    <tr>\n",
              "      <th>28</th>\n",
              "      <td>29</td>\n",
              "      <td>460</td>\n",
              "      <td>5.75</td>\n",
              "      <td>27.0</td>\n",
              "      <td>0.34</td>\n",
              "    </tr>\n",
              "    <tr>\n",
              "      <th>29</th>\n",
              "      <td>30</td>\n",
              "      <td>452</td>\n",
              "      <td>5.65</td>\n",
              "      <td>-8.0</td>\n",
              "      <td>-0.10</td>\n",
              "    </tr>\n",
              "    <tr>\n",
              "      <th>30</th>\n",
              "      <td>31</td>\n",
              "      <td>422</td>\n",
              "      <td>5.28</td>\n",
              "      <td>-30.0</td>\n",
              "      <td>-0.38</td>\n",
              "    </tr>\n",
              "    <tr>\n",
              "      <th>31</th>\n",
              "      <td>32</td>\n",
              "      <td>407</td>\n",
              "      <td>5.09</td>\n",
              "      <td>-15.0</td>\n",
              "      <td>-0.19</td>\n",
              "    </tr>\n",
              "    <tr>\n",
              "      <th>32</th>\n",
              "      <td>33</td>\n",
              "      <td>410</td>\n",
              "      <td>5.12</td>\n",
              "      <td>3.0</td>\n",
              "      <td>0.04</td>\n",
              "    </tr>\n",
              "    <tr>\n",
              "      <th>33</th>\n",
              "      <td>34</td>\n",
              "      <td>407</td>\n",
              "      <td>5.09</td>\n",
              "      <td>-3.0</td>\n",
              "      <td>-0.04</td>\n",
              "    </tr>\n",
              "    <tr>\n",
              "      <th>34</th>\n",
              "      <td>35</td>\n",
              "      <td>387</td>\n",
              "      <td>4.84</td>\n",
              "      <td>-20.0</td>\n",
              "      <td>-0.25</td>\n",
              "    </tr>\n",
              "    <tr>\n",
              "      <th>35</th>\n",
              "      <td>36</td>\n",
              "      <td>410</td>\n",
              "      <td>5.12</td>\n",
              "      <td>23.0</td>\n",
              "      <td>0.29</td>\n",
              "    </tr>\n",
              "    <tr>\n",
              "      <th>36</th>\n",
              "      <td>37</td>\n",
              "      <td>445</td>\n",
              "      <td>5.56</td>\n",
              "      <td>35.0</td>\n",
              "      <td>0.44</td>\n",
              "    </tr>\n",
              "    <tr>\n",
              "      <th>37</th>\n",
              "      <td>38</td>\n",
              "      <td>430</td>\n",
              "      <td>5.38</td>\n",
              "      <td>-15.0</td>\n",
              "      <td>-0.19</td>\n",
              "    </tr>\n",
              "    <tr>\n",
              "      <th>38</th>\n",
              "      <td>39</td>\n",
              "      <td>451</td>\n",
              "      <td>5.64</td>\n",
              "      <td>21.0</td>\n",
              "      <td>0.26</td>\n",
              "    </tr>\n",
              "    <tr>\n",
              "      <th>39</th>\n",
              "      <td>40</td>\n",
              "      <td>521</td>\n",
              "      <td>6.51</td>\n",
              "      <td>70.0</td>\n",
              "      <td>0.88</td>\n",
              "    </tr>\n",
              "    <tr>\n",
              "      <th>40</th>\n",
              "      <td>41</td>\n",
              "      <td>539</td>\n",
              "      <td>6.74</td>\n",
              "      <td>18.0</td>\n",
              "      <td>0.22</td>\n",
              "    </tr>\n",
              "    <tr>\n",
              "      <th>41</th>\n",
              "      <td>42</td>\n",
              "      <td>554</td>\n",
              "      <td>6.92</td>\n",
              "      <td>15.0</td>\n",
              "      <td>0.19</td>\n",
              "    </tr>\n",
              "    <tr>\n",
              "      <th>42</th>\n",
              "      <td>43</td>\n",
              "      <td>507</td>\n",
              "      <td>6.34</td>\n",
              "      <td>-47.0</td>\n",
              "      <td>-0.59</td>\n",
              "    </tr>\n",
              "    <tr>\n",
              "      <th>43</th>\n",
              "      <td>44</td>\n",
              "      <td>508</td>\n",
              "      <td>6.35</td>\n",
              "      <td>1.0</td>\n",
              "      <td>0.01</td>\n",
              "    </tr>\n",
              "    <tr>\n",
              "      <th>44</th>\n",
              "      <td>45</td>\n",
              "      <td>489</td>\n",
              "      <td>6.11</td>\n",
              "      <td>-19.0</td>\n",
              "      <td>-0.24</td>\n",
              "    </tr>\n",
              "    <tr>\n",
              "      <th>45</th>\n",
              "      <td>46</td>\n",
              "      <td>504</td>\n",
              "      <td>6.30</td>\n",
              "      <td>15.0</td>\n",
              "      <td>0.19</td>\n",
              "    </tr>\n",
              "    <tr>\n",
              "      <th>46</th>\n",
              "      <td>47</td>\n",
              "      <td>477</td>\n",
              "      <td>5.96</td>\n",
              "      <td>-27.0</td>\n",
              "      <td>-0.34</td>\n",
              "    </tr>\n",
              "    <tr>\n",
              "      <th>47</th>\n",
              "      <td>48</td>\n",
              "      <td>468</td>\n",
              "      <td>5.85</td>\n",
              "      <td>-9.0</td>\n",
              "      <td>-0.11</td>\n",
              "    </tr>\n",
              "  </tbody>\n",
              "</table>\n",
              "</div>\n",
              "    <div class=\"colab-df-buttons\">\n",
              "\n",
              "  <div class=\"colab-df-container\">\n",
              "    <button class=\"colab-df-convert\" onclick=\"convertToInteractive('df-d6629fd5-3d0e-4d68-a638-c43630307163')\"\n",
              "            title=\"Convert this dataframe to an interactive table.\"\n",
              "            style=\"display:none;\">\n",
              "\n",
              "  <svg xmlns=\"http://www.w3.org/2000/svg\" height=\"24px\" viewBox=\"0 -960 960 960\">\n",
              "    <path d=\"M120-120v-720h720v720H120Zm60-500h600v-160H180v160Zm220 220h160v-160H400v160Zm0 220h160v-160H400v160ZM180-400h160v-160H180v160Zm440 0h160v-160H620v160ZM180-180h160v-160H180v160Zm440 0h160v-160H620v160Z\"/>\n",
              "  </svg>\n",
              "    </button>\n",
              "\n",
              "  <style>\n",
              "    .colab-df-container {\n",
              "      display:flex;\n",
              "      gap: 12px;\n",
              "    }\n",
              "\n",
              "    .colab-df-convert {\n",
              "      background-color: #E8F0FE;\n",
              "      border: none;\n",
              "      border-radius: 50%;\n",
              "      cursor: pointer;\n",
              "      display: none;\n",
              "      fill: #1967D2;\n",
              "      height: 32px;\n",
              "      padding: 0 0 0 0;\n",
              "      width: 32px;\n",
              "    }\n",
              "\n",
              "    .colab-df-convert:hover {\n",
              "      background-color: #E2EBFA;\n",
              "      box-shadow: 0px 1px 2px rgba(60, 64, 67, 0.3), 0px 1px 3px 1px rgba(60, 64, 67, 0.15);\n",
              "      fill: #174EA6;\n",
              "    }\n",
              "\n",
              "    .colab-df-buttons div {\n",
              "      margin-bottom: 4px;\n",
              "    }\n",
              "\n",
              "    [theme=dark] .colab-df-convert {\n",
              "      background-color: #3B4455;\n",
              "      fill: #D2E3FC;\n",
              "    }\n",
              "\n",
              "    [theme=dark] .colab-df-convert:hover {\n",
              "      background-color: #434B5C;\n",
              "      box-shadow: 0px 1px 3px 1px rgba(0, 0, 0, 0.15);\n",
              "      filter: drop-shadow(0px 1px 2px rgba(0, 0, 0, 0.3));\n",
              "      fill: #FFFFFF;\n",
              "    }\n",
              "  </style>\n",
              "\n",
              "    <script>\n",
              "      const buttonEl =\n",
              "        document.querySelector('#df-d6629fd5-3d0e-4d68-a638-c43630307163 button.colab-df-convert');\n",
              "      buttonEl.style.display =\n",
              "        google.colab.kernel.accessAllowed ? 'block' : 'none';\n",
              "\n",
              "      async function convertToInteractive(key) {\n",
              "        const element = document.querySelector('#df-d6629fd5-3d0e-4d68-a638-c43630307163');\n",
              "        const dataTable =\n",
              "          await google.colab.kernel.invokeFunction('convertToInteractive',\n",
              "                                                    [key], {});\n",
              "        if (!dataTable) return;\n",
              "\n",
              "        const docLinkHtml = 'Like what you see? Visit the ' +\n",
              "          '<a target=\"_blank\" href=https://colab.research.google.com/notebooks/data_table.ipynb>data table notebook</a>'\n",
              "          + ' to learn more about interactive tables.';\n",
              "        element.innerHTML = '';\n",
              "        dataTable['output_type'] = 'display_data';\n",
              "        await google.colab.output.renderOutput(dataTable, element);\n",
              "        const docLink = document.createElement('div');\n",
              "        docLink.innerHTML = docLinkHtml;\n",
              "        element.appendChild(docLink);\n",
              "      }\n",
              "    </script>\n",
              "  </div>\n",
              "\n",
              "\n",
              "<div id=\"df-01f43b5b-aeec-473c-acee-08096e92409f\">\n",
              "  <button class=\"colab-df-quickchart\" onclick=\"quickchart('df-01f43b5b-aeec-473c-acee-08096e92409f')\"\n",
              "            title=\"Suggest charts\"\n",
              "            style=\"display:none;\">\n",
              "\n",
              "<svg xmlns=\"http://www.w3.org/2000/svg\" height=\"24px\"viewBox=\"0 0 24 24\"\n",
              "     width=\"24px\">\n",
              "    <g>\n",
              "        <path d=\"M19 3H5c-1.1 0-2 .9-2 2v14c0 1.1.9 2 2 2h14c1.1 0 2-.9 2-2V5c0-1.1-.9-2-2-2zM9 17H7v-7h2v7zm4 0h-2V7h2v10zm4 0h-2v-4h2v4z\"/>\n",
              "    </g>\n",
              "</svg>\n",
              "  </button>\n",
              "\n",
              "<style>\n",
              "  .colab-df-quickchart {\n",
              "      --bg-color: #E8F0FE;\n",
              "      --fill-color: #1967D2;\n",
              "      --hover-bg-color: #E2EBFA;\n",
              "      --hover-fill-color: #174EA6;\n",
              "      --disabled-fill-color: #AAA;\n",
              "      --disabled-bg-color: #DDD;\n",
              "  }\n",
              "\n",
              "  [theme=dark] .colab-df-quickchart {\n",
              "      --bg-color: #3B4455;\n",
              "      --fill-color: #D2E3FC;\n",
              "      --hover-bg-color: #434B5C;\n",
              "      --hover-fill-color: #FFFFFF;\n",
              "      --disabled-bg-color: #3B4455;\n",
              "      --disabled-fill-color: #666;\n",
              "  }\n",
              "\n",
              "  .colab-df-quickchart {\n",
              "    background-color: var(--bg-color);\n",
              "    border: none;\n",
              "    border-radius: 50%;\n",
              "    cursor: pointer;\n",
              "    display: none;\n",
              "    fill: var(--fill-color);\n",
              "    height: 32px;\n",
              "    padding: 0;\n",
              "    width: 32px;\n",
              "  }\n",
              "\n",
              "  .colab-df-quickchart:hover {\n",
              "    background-color: var(--hover-bg-color);\n",
              "    box-shadow: 0 1px 2px rgba(60, 64, 67, 0.3), 0 1px 3px 1px rgba(60, 64, 67, 0.15);\n",
              "    fill: var(--button-hover-fill-color);\n",
              "  }\n",
              "\n",
              "  .colab-df-quickchart-complete:disabled,\n",
              "  .colab-df-quickchart-complete:disabled:hover {\n",
              "    background-color: var(--disabled-bg-color);\n",
              "    fill: var(--disabled-fill-color);\n",
              "    box-shadow: none;\n",
              "  }\n",
              "\n",
              "  .colab-df-spinner {\n",
              "    border: 2px solid var(--fill-color);\n",
              "    border-color: transparent;\n",
              "    border-bottom-color: var(--fill-color);\n",
              "    animation:\n",
              "      spin 1s steps(1) infinite;\n",
              "  }\n",
              "\n",
              "  @keyframes spin {\n",
              "    0% {\n",
              "      border-color: transparent;\n",
              "      border-bottom-color: var(--fill-color);\n",
              "      border-left-color: var(--fill-color);\n",
              "    }\n",
              "    20% {\n",
              "      border-color: transparent;\n",
              "      border-left-color: var(--fill-color);\n",
              "      border-top-color: var(--fill-color);\n",
              "    }\n",
              "    30% {\n",
              "      border-color: transparent;\n",
              "      border-left-color: var(--fill-color);\n",
              "      border-top-color: var(--fill-color);\n",
              "      border-right-color: var(--fill-color);\n",
              "    }\n",
              "    40% {\n",
              "      border-color: transparent;\n",
              "      border-right-color: var(--fill-color);\n",
              "      border-top-color: var(--fill-color);\n",
              "    }\n",
              "    60% {\n",
              "      border-color: transparent;\n",
              "      border-right-color: var(--fill-color);\n",
              "    }\n",
              "    80% {\n",
              "      border-color: transparent;\n",
              "      border-right-color: var(--fill-color);\n",
              "      border-bottom-color: var(--fill-color);\n",
              "    }\n",
              "    90% {\n",
              "      border-color: transparent;\n",
              "      border-bottom-color: var(--fill-color);\n",
              "    }\n",
              "  }\n",
              "</style>\n",
              "\n",
              "  <script>\n",
              "    async function quickchart(key) {\n",
              "      const quickchartButtonEl =\n",
              "        document.querySelector('#' + key + ' button');\n",
              "      quickchartButtonEl.disabled = true;  // To prevent multiple clicks.\n",
              "      quickchartButtonEl.classList.add('colab-df-spinner');\n",
              "      try {\n",
              "        const charts = await google.colab.kernel.invokeFunction(\n",
              "            'suggestCharts', [key], {});\n",
              "      } catch (error) {\n",
              "        console.error('Error during call to suggestCharts:', error);\n",
              "      }\n",
              "      quickchartButtonEl.classList.remove('colab-df-spinner');\n",
              "      quickchartButtonEl.classList.add('colab-df-quickchart-complete');\n",
              "    }\n",
              "    (() => {\n",
              "      let quickchartButtonEl =\n",
              "        document.querySelector('#df-01f43b5b-aeec-473c-acee-08096e92409f button');\n",
              "      quickchartButtonEl.style.display =\n",
              "        google.colab.kernel.accessAllowed ? 'block' : 'none';\n",
              "    })();\n",
              "  </script>\n",
              "</div>\n",
              "    </div>\n",
              "  </div>\n"
            ],
            "application/vnd.google.colaboratory.intrinsic+json": {
              "type": "dataframe",
              "variable_name": "plusminus",
              "summary": "{\n  \"name\": \"plusminus\",\n  \"rows\": 48,\n  \"fields\": [\n    {\n      \"column\": \"Game minute\",\n      \"properties\": {\n        \"dtype\": \"number\",\n        \"std\": 14,\n        \"min\": 1,\n        \"max\": 48,\n        \"num_unique_values\": 48,\n        \"samples\": [\n          28,\n          41,\n          27\n        ],\n        \"semantic_type\": \"\",\n        \"description\": \"\"\n      }\n    },\n    {\n      \"column\": \"acc_lead\",\n      \"properties\": {\n        \"dtype\": \"number\",\n        \"std\": 156,\n        \"min\": 12,\n        \"max\": 554,\n        \"num_unique_values\": 46,\n        \"samples\": [\n          554,\n          384,\n          419\n        ],\n        \"semantic_type\": \"\",\n        \"description\": \"\"\n      }\n    },\n    {\n      \"column\": \"avg_acc_lead\",\n      \"properties\": {\n        \"dtype\": \"number\",\n        \"std\": 1.9610196001928246,\n        \"min\": 0.15,\n        \"max\": 6.92,\n        \"num_unique_values\": 46,\n        \"samples\": [\n          6.92,\n          4.8,\n          5.24\n        ],\n        \"semantic_type\": \"\",\n        \"description\": \"\"\n      }\n    },\n    {\n      \"column\": \"lead\",\n      \"properties\": {\n        \"dtype\": \"number\",\n        \"std\": 29.339175756018662,\n        \"min\": -47.0,\n        \"max\": 93.0,\n        \"num_unique_values\": 36,\n        \"samples\": [\n          -9.0,\n          -18.0,\n          -20.0\n        ],\n        \"semantic_type\": \"\",\n        \"description\": \"\"\n      }\n    },\n    {\n      \"column\": \"avg_lead\",\n      \"properties\": {\n        \"dtype\": \"number\",\n        \"std\": 0.36701927355810693,\n        \"min\": -0.59,\n        \"max\": 1.16,\n        \"num_unique_values\": 36,\n        \"samples\": [\n          -0.11,\n          -0.22,\n          -0.25\n        ],\n        \"semantic_type\": \"\",\n        \"description\": \"\"\n      }\n    }\n  ]\n}"
            }
          },
          "metadata": {},
          "execution_count": 61
        }
      ]
    },
    {
      "cell_type": "code",
      "source": [
        "# Function to format y-axis ticks as percentages\n",
        "def percent_formatter(x, pos):\n",
        "    return f'{x:.0%}'\n",
        "\n",
        "# Time Series Plot\n",
        "fig, ax1 = plt.subplots(figsize=(15, 6))\n",
        "\n",
        "# Plot each line with different colors and labels\n",
        "ax1.plot(lbj_time['Game Minute'], lbj_time['percentage'], linestyle='-', label='Lebron James', color='#552583')\n",
        "ax1.plot(ad_time['Game Minute'], ad_time['percentage'], linestyle='-', label='Anthony Davis', color='#FDB927')\n",
        "\n",
        "# Set the x-axis limits based on the data\n",
        "ax1.set_xlim([0, max(lbj_time['Game Minute'].max(), ad_time['Game Minute'].max())])\n",
        "\n",
        "ax1.set_title('Average On-court Percentage per min(L)/ Team Plus_Minus per min(R)')\n",
        "ax1.set_xticks([0, 12, 24, 36, 48])\n",
        "ax1.set_xlabel('Game Minute')\n",
        "ax1.set_ylabel('Average On-court Percentage per min')\n",
        "\n",
        "# Apply the percentage formatter to the y-axis\n",
        "ax1.yaxis.set_major_formatter(FuncFormatter(percent_formatter))\n",
        "\n",
        "# Create a secondary y-axis for the bar chart\n",
        "ax2 = ax1.twinx()\n",
        "\n",
        "# Plot the bar chart with conditional colors\n",
        "bars = ax2.bar(plusminus['Game minute'], plusminus['lead'], alpha =0.5, width=0.5)\n",
        "\n",
        "# Set the color of the bars based on the values\n",
        "for bar, value in zip(bars, plusminus['lead']):\n",
        "    if value > 0:\n",
        "        bar.set_color('green')\n",
        "    else:\n",
        "        bar.set_color('red')\n",
        "\n",
        "ax2.set_ylabel('Team Plus/Minus')\n",
        "\n",
        "# Show legend\n",
        "fig.legend()\n",
        "\n",
        "# Draw vertical lines at 12, 24, and 36 minutes\n",
        "ax1.axvline(x=12, color='gray', linestyle='--', label='12 Minutes')\n",
        "ax1.axvline(x=24, color='gray', linestyle='--', label='24 Minutes')\n",
        "ax1.axvline(x=36, color='gray', linestyle='--', label='36 Minutes')\n",
        "\n",
        "plt.grid(False)\n",
        "plt.show()\n"
      ],
      "metadata": {
        "colab": {
          "base_uri": "https://localhost:8080/",
          "height": 607
        },
        "id": "sOfF3Xm4vCnp",
        "outputId": "0c077d8a-9e64-40ad-e824-8a9724f8cdde"
      },
      "execution_count": null,
      "outputs": [
        {
          "output_type": "display_data",
          "data": {
            "text/plain": [
              "<Figure size 1500x600 with 2 Axes>"
            ],
            "image/png": "[encoded data removed]"
          },
          "metadata": {}
        }
      ]
    },
    {
      "cell_type": "code",
      "source": [
        "# Function to format y-axis ticks as percentages\n",
        "def percent_formatter(x, pos):\n",
        "    return f'{x:.0%}'\n",
        "\n",
        "# Time Series Plot\n",
        "fig, ax1 = plt.subplots(figsize=(15, 6))\n",
        "\n",
        "# Create a secondary y-axis for the bar chart\n",
        "ax2 = ax1.twinx()\n",
        "\n",
        "# Plot the bar chart with conditional colors\n",
        "bars = ax1.bar(plusminus['Game minute'], plusminus['avg_acc_lead'], width=0.5, alpha=0.5)\n",
        "\n",
        "# Set the color of the bars based on the values\n",
        "for bar, value in zip(bars, plusminus['lead']):\n",
        "    if value > 0:\n",
        "        bar.set_color('green')\n",
        "    else:\n",
        "        bar.set_color('red')\n",
        "\n",
        "# Create legends for the bar chart bars\n",
        "green_patch = plt.Line2D([0], [0], color='green', linestyle='-', linewidth = 5, alpha = 0.5)\n",
        "red_patch = plt.Line2D([0], [0], color='red', linestyle='-', linewidth = 5, alpha = 0.5)\n",
        "\n",
        "# Plot each line with different colors and labels\n",
        "line1, = ax2.plot(lbj_time['Game Minute'], lbj_time['percentage'], linestyle='-', color='#552583', linewidth=5, zorder = 1)\n",
        "line2, = ax2.plot(ad_time['Game Minute'], ad_time['percentage'], linestyle='-', color='#FDB927', linewidth=5, zorder = 0)\n",
        "\n",
        "# Combine legends into a single legend box\n",
        "handles, labels = ax1.get_legend_handles_labels()\n",
        "handles.extend([green_patch, red_patch, line1, line2])\n",
        "labels.extend(['Increase in Point Diff', 'Decrease in Point Diff', 'Lebron James', 'Anthony Davis'])\n",
        "ax1.legend(handles, labels, loc='upper right',bbox_to_anchor=(1.23, 1.08))\n",
        "\n",
        "ax1.set_ylabel('Average Point Difference')\n",
        "ax1.set_ylim(0, 13)\n",
        "\n",
        "# Set the x-axis limits based on the data\n",
        "ax2.set_xlim([0, max(lbj_time['Game Minute'].max(), ad_time['Game Minute'].max())])\n",
        "\n",
        "ax2.set_title('Average Point Difference(L) / On-court Percentage of James & Davis(R)')\n",
        "ax2.set_xticks([0, 12, 24, 36, 48])\n",
        "ax2.set_xlabel('Game Minute')\n",
        "ax2.set_ylabel('On-court Percentage')\n",
        "\n",
        "# Apply the percentage formatter to the y-axis\n",
        "ax2.yaxis.set_major_formatter(FuncFormatter(percent_formatter))\n",
        "\n",
        "# Draw vertical lines at 12, 24, and 36 minutes\n",
        "ax2.axvline(x=12, color='gray', linestyle='--', label='12 Minutes')\n",
        "ax2.axvline(x=24, color='gray', linestyle='--', label='24 Minutes')\n",
        "ax2.axvline(x=36, color='gray', linestyle='--', label='36 Minutes')\n",
        "\n",
        "plt.grid(False)\n",
        "plt.show()"
      ],
      "metadata": {
        "colab": {
          "base_uri": "https://localhost:8080/",
          "height": 552
        },
        "id": "DyD5HA-xa5st",
        "outputId": "c603501c-bb5e-4bcb-a3df-255d661daeda"
      },
      "execution_count": null,
      "outputs": [
        {
          "output_type": "display_data",
          "data": {
            "text/plain": [
              "<Figure size 1500x600 with 2 Axes>"
            ],
            "image/png": "[encoded data removed]"
          },
          "metadata": {}
        }
      ]
    },
    {
      "cell_type": "markdown",
      "source": [
        "#### Who replace **Lebron James**"
      ],
      "metadata": {
        "id": "qMUyTQPzRQKN"
      }
    },
    {
      "cell_type": "code",
      "source": [
        "lbj_left = df.copy()\n",
        "\n",
        "# Extract minutes from 'elapsed' timestamp\n",
        "lbj_left['minute'] = lbj_left['elapsed'].apply(\n",
        "    lambda x: x[x.find(':') + 1:x.find(':') + 3] if np.any(lbj_left['period'] == 5) else x[x.find(':') + 1:x.find(':') + 3]\n",
        ")"
      ],
      "metadata": {
        "id": "yyeSQ5wtReig"
      },
      "execution_count": null,
      "outputs": []
    },
    {
      "cell_type": "code",
      "source": [
        "lbj_left['minute'].replace('12', '11', inplace=True)"
      ],
      "metadata": {
        "id": "o63zkR1wReZ5"
      },
      "execution_count": null,
      "outputs": []
    },
    {
      "cell_type": "code",
      "source": [
        "lbj_left = lbj_left[lbj_left['left'] == 'LeBron James']"
      ],
      "metadata": {
        "id": "RqdJwPmjRrQS"
      },
      "execution_count": null,
      "outputs": []
    },
    {
      "cell_type": "code",
      "source": [
        "# Total number of substitution\n",
        "lbj_left['entered'].count()"
      ],
      "metadata": {
        "id": "S0CKrU0gRrNn"
      },
      "execution_count": null,
      "outputs": []
    },
    {
      "cell_type": "code",
      "source": [
        "lbj_left['entered'].value_counts()"
      ],
      "metadata": {
        "id": "G_RNDSYkRrK1"
      },
      "execution_count": null,
      "outputs": []
    },
    {
      "cell_type": "markdown",
      "source": [
        "#### Who replace **Anthony Davis**"
      ],
      "metadata": {
        "id": "VeV8xe27S9gU"
      }
    },
    {
      "cell_type": "code",
      "source": [
        "ad_left = df.copy()\n",
        "\n",
        "# Extract minutes from 'elapsed' timestamp\n",
        "ad_left['minute'] = ad_left['elapsed'].apply(\n",
        "    lambda x: x[x.find(':') + 1:x.find(':') + 3] if np.any(ad_left['period'] == 5) else x[x.find(':') + 1:x.find(':') + 3]\n",
        ")"
      ],
      "metadata": {
        "id": "joQCLI25RrIg"
      },
      "execution_count": null,
      "outputs": []
    },
    {
      "cell_type": "code",
      "source": [
        "ad_left['minute'].replace('12', '11', inplace=True)"
      ],
      "metadata": {
        "id": "7AnrS1TlRrBO"
      },
      "execution_count": null,
      "outputs": []
    },
    {
      "cell_type": "code",
      "source": [
        "ad_left = ad_left[ad_left['left'] == 'Anthony Davis']"
      ],
      "metadata": {
        "id": "1CEPnczWRq-3"
      },
      "execution_count": null,
      "outputs": []
    },
    {
      "cell_type": "code",
      "source": [
        "ad_left['entered'].count()"
      ],
      "metadata": {
        "id": "Hpwd98aJTD45"
      },
      "execution_count": null,
      "outputs": []
    },
    {
      "cell_type": "code",
      "source": [
        "ad_left['entered'].value_counts()"
      ],
      "metadata": {
        "id": "HvXBnRcERq8a"
      },
      "execution_count": null,
      "outputs": []
    },
    {
      "cell_type": "markdown",
      "source": [
        "## **Part B**\n",
        "#### Compare team performance when Lebron and AD are on and off the court"
      ],
      "metadata": {
        "id": "ycAbziwFgwvI"
      }
    },
    {
      "cell_type": "markdown",
      "source": [
        "#### part B setup"
      ],
      "metadata": {
        "id": "O7ln0_YWkN6_"
      }
    },
    {
      "cell_type": "code",
      "source": [
        "## find Lakers game\n",
        "lakers_games = df[df['GameFile'].str.contains(\"LAL\")]"
      ],
      "metadata": {
        "id": "r6s8IkH_kMMA"
      },
      "execution_count": null,
      "outputs": []
    },
    {
      "cell_type": "code",
      "source": [
        "col = ['a1', 'a2', 'a3', 'a4', 'a5', 'h1', 'h2', 'h3', 'h4', 'h5']\n",
        "\n",
        "lebron_mask = lakers_games[col].apply(lambda row: 'LeBron James' in row.values, axis=1)\n",
        "anthony_davis_mask = lakers_games[col].apply(lambda row: 'Anthony Davis' in row.values, axis=1)\n",
        "\n",
        "# Filter the DataFrame for rows where both LeBron James and Anthony Davis are on the court\n",
        "lebron_and_anthony_davis = lakers_games[lebron_mask & anthony_davis_mask]"
      ],
      "metadata": {
        "id": "obWYaenUkMMA"
      },
      "execution_count": null,
      "outputs": []
    },
    {
      "cell_type": "code",
      "source": [
        "lebron = lakers_games[lebron_mask & ~anthony_davis_mask]\n",
        "AD = lakers_games[anthony_davis_mask & ~lebron_mask]\n",
        "No_stars = lakers_games[~lebron_mask & ~anthony_davis_mask]"
      ],
      "metadata": {
        "id": "DBPrBUDa7fx9"
      },
      "execution_count": null,
      "outputs": []
    },
    {
      "cell_type": "markdown",
      "source": [
        "#### Possessions"
      ],
      "metadata": {
        "id": "JfEF2oNpBUdR"
      }
    },
    {
      "cell_type": "markdown",
      "source": [
        "Formula:0.96*[(Field Goal Attempts)+(Turnovers)+0.44*(Free Throw Attempts)-(Offensive Rebounds)]\n"
      ],
      "metadata": {
        "id": "ANSgY-mvBX98"
      }
    },
    {
      "cell_type": "code",
      "source": [
        "lebron_and_anthony_davis[(lebron_and_anthony_davis['team'] != 'LAL') &(lebron_and_anthony_davis['type'] == 'team rebound') & lebron_and_anthony_davis['description'].str.contains('Lakers', case = False)][['team', 'description', 'elapsed']]"
      ],
      "metadata": {
        "colab": {
          "base_uri": "https://localhost:8080/",
          "height": 423
        },
        "id": "ew8ZErN0JZkK",
        "outputId": "c9b6db9e-2871-4f43-af87-745c467ea502"
      },
      "execution_count": null,
      "outputs": [
        {
          "output_type": "execute_result",
          "data": {
            "text/plain": [
              "       team     description   elapsed\n",
              "11550   NaN  LAKERS Rebound  00:04:43\n",
              "11726   NaN  LAKERS Rebound  00:11:27\n",
              "11777   NaN  LAKERS Rebound  00:05:18\n",
              "12448   NaN  LAKERS Rebound  00:02:04\n",
              "12464   NaN  LAKERS Rebound  00:04:46\n",
              "...     ...             ...       ...\n",
              "532937  NaN  LAKERS Rebound  00:04:24\n",
              "533053  NaN  LAKERS Rebound  00:03:59\n",
              "533062  NaN  LAKERS Rebound  00:04:51\n",
              "534936  NaN  Lakers Rebound   0:03:58\n",
              "535061  NaN  Lakers Rebound   0:04:39\n",
              "\n",
              "[132 rows x 3 columns]"
            ],
            "text/html": [
              "\n",
              "  <div id=\"df-36261b0e-a12e-4048-89e8-e84a7566af7c\" class=\"colab-df-container\">\n",
              "    <div>\n",
              "<style scoped>\n",
              "    .dataframe tbody tr th:only-of-type {\n",
              "        vertical-align: middle;\n",
              "    }\n",
              "\n",
              "    .dataframe tbody tr th {\n",
              "        vertical-align: top;\n",
              "    }\n",
              "\n",
              "    .dataframe thead th {\n",
              "        text-align: right;\n",
              "    }\n",
              "</style>\n",
              "<table border=\"1\" class=\"dataframe\">\n",
              "  <thead>\n",
              "    <tr style=\"text-align: right;\">\n",
              "      <th></th>\n",
              "      <th>team</th>\n",
              "      <th>description</th>\n",
              "      <th>elapsed</th>\n",
              "    </tr>\n",
              "  </thead>\n",
              "  <tbody>\n",
              "    <tr>\n",
              "      <th>11550</th>\n",
              "      <td>NaN</td>\n",
              "      <td>LAKERS Rebound</td>\n",
              "      <td>00:04:43</td>\n",
              "    </tr>\n",
              "    <tr>\n",
              "      <th>11726</th>\n",
              "      <td>NaN</td>\n",
              "      <td>LAKERS Rebound</td>\n",
              "      <td>00:11:27</td>\n",
              "    </tr>\n",
              "    <tr>\n",
              "      <th>11777</th>\n",
              "      <td>NaN</td>\n",
              "      <td>LAKERS Rebound</td>\n",
              "      <td>00:05:18</td>\n",
              "    </tr>\n",
              "    <tr>\n",
              "      <th>12448</th>\n",
              "      <td>NaN</td>\n",
              "      <td>LAKERS Rebound</td>\n",
              "      <td>00:02:04</td>\n",
              "    </tr>\n",
              "    <tr>\n",
              "      <th>12464</th>\n",
              "      <td>NaN</td>\n",
              "      <td>LAKERS Rebound</td>\n",
              "      <td>00:04:46</td>\n",
              "    </tr>\n",
              "    <tr>\n",
              "      <th>...</th>\n",
              "      <td>...</td>\n",
              "      <td>...</td>\n",
              "      <td>...</td>\n",
              "    </tr>\n",
              "    <tr>\n",
              "      <th>532937</th>\n",
              "      <td>NaN</td>\n",
              "      <td>LAKERS Rebound</td>\n",
              "      <td>00:04:24</td>\n",
              "    </tr>\n",
              "    <tr>\n",
              "      <th>533053</th>\n",
              "      <td>NaN</td>\n",
              "      <td>LAKERS Rebound</td>\n",
              "      <td>00:03:59</td>\n",
              "    </tr>\n",
              "    <tr>\n",
              "      <th>533062</th>\n",
              "      <td>NaN</td>\n",
              "      <td>LAKERS Rebound</td>\n",
              "      <td>00:04:51</td>\n",
              "    </tr>\n",
              "    <tr>\n",
              "      <th>534936</th>\n",
              "      <td>NaN</td>\n",
              "      <td>Lakers Rebound</td>\n",
              "      <td>0:03:58</td>\n",
              "    </tr>\n",
              "    <tr>\n",
              "      <th>535061</th>\n",
              "      <td>NaN</td>\n",
              "      <td>Lakers Rebound</td>\n",
              "      <td>0:04:39</td>\n",
              "    </tr>\n",
              "  </tbody>\n",
              "</table>\n",
              "<p>132 rows × 3 columns</p>\n",
              "</div>\n",
              "    <div class=\"colab-df-buttons\">\n",
              "\n",
              "  <div class=\"colab-df-container\">\n",
              "    <button class=\"colab-df-convert\" onclick=\"convertToInteractive('df-36261b0e-a12e-4048-89e8-e84a7566af7c')\"\n",
              "            title=\"Convert this dataframe to an interactive table.\"\n",
              "            style=\"display:none;\">\n",
              "\n",
              "  <svg xmlns=\"http://www.w3.org/2000/svg\" height=\"24px\" viewBox=\"0 -960 960 960\">\n",
              "    <path d=\"M120-120v-720h720v720H120Zm60-500h600v-160H180v160Zm220 220h160v-160H400v160Zm0 220h160v-160H400v160ZM180-400h160v-160H180v160Zm440 0h160v-160H620v160ZM180-180h160v-160H180v160Zm440 0h160v-160H620v160Z\"/>\n",
              "  </svg>\n",
              "    </button>\n",
              "\n",
              "  <style>\n",
              "    .colab-df-container {\n",
              "      display:flex;\n",
              "      gap: 12px;\n",
              "    }\n",
              "\n",
              "    .colab-df-convert {\n",
              "      background-color: #E8F0FE;\n",
              "      border: none;\n",
              "      border-radius: 50%;\n",
              "      cursor: pointer;\n",
              "      display: none;\n",
              "      fill: #1967D2;\n",
              "      height: 32px;\n",
              "      padding: 0 0 0 0;\n",
              "      width: 32px;\n",
              "    }\n",
              "\n",
              "    .colab-df-convert:hover {\n",
              "      background-color: #E2EBFA;\n",
              "      box-shadow: 0px 1px 2px rgba(60, 64, 67, 0.3), 0px 1px 3px 1px rgba(60, 64, 67, 0.15);\n",
              "      fill: #174EA6;\n",
              "    }\n",
              "\n",
              "    .colab-df-buttons div {\n",
              "      margin-bottom: 4px;\n",
              "    }\n",
              "\n",
              "    [theme=dark] .colab-df-convert {\n",
              "      background-color: #3B4455;\n",
              "      fill: #D2E3FC;\n",
              "    }\n",
              "\n",
              "    [theme=dark] .colab-df-convert:hover {\n",
              "      background-color: #434B5C;\n",
              "      box-shadow: 0px 1px 3px 1px rgba(0, 0, 0, 0.15);\n",
              "      filter: drop-shadow(0px 1px 2px rgba(0, 0, 0, 0.3));\n",
              "      fill: #FFFFFF;\n",
              "    }\n",
              "  </style>\n",
              "\n",
              "    <script>\n",
              "      const buttonEl =\n",
              "        document.querySelector('#df-36261b0e-a12e-4048-89e8-e84a7566af7c button.colab-df-convert');\n",
              "      buttonEl.style.display =\n",
              "        google.colab.kernel.accessAllowed ? 'block' : 'none';\n",
              "\n",
              "      async function convertToInteractive(key) {\n",
              "        const element = document.querySelector('#df-36261b0e-a12e-4048-89e8-e84a7566af7c');\n",
              "        const dataTable =\n",
              "          await google.colab.kernel.invokeFunction('convertToInteractive',\n",
              "                                                    [key], {});\n",
              "        if (!dataTable) return;\n",
              "\n",
              "        const docLinkHtml = 'Like what you see? Visit the ' +\n",
              "          '<a target=\"_blank\" href=https://colab.research.google.com/notebooks/data_table.ipynb>data table notebook</a>'\n",
              "          + ' to learn more about interactive tables.';\n",
              "        element.innerHTML = '';\n",
              "        dataTable['output_type'] = 'display_data';\n",
              "        await google.colab.output.renderOutput(dataTable, element);\n",
              "        const docLink = document.createElement('div');\n",
              "        docLink.innerHTML = docLinkHtml;\n",
              "        element.appendChild(docLink);\n",
              "      }\n",
              "    </script>\n",
              "  </div>\n",
              "\n",
              "\n",
              "<div id=\"df-88262e49-657a-4721-9a12-0518936e0c02\">\n",
              "  <button class=\"colab-df-quickchart\" onclick=\"quickchart('df-88262e49-657a-4721-9a12-0518936e0c02')\"\n",
              "            title=\"Suggest charts\"\n",
              "            style=\"display:none;\">\n",
              "\n",
              "<svg xmlns=\"http://www.w3.org/2000/svg\" height=\"24px\"viewBox=\"0 0 24 24\"\n",
              "     width=\"24px\">\n",
              "    <g>\n",
              "        <path d=\"M19 3H5c-1.1 0-2 .9-2 2v14c0 1.1.9 2 2 2h14c1.1 0 2-.9 2-2V5c0-1.1-.9-2-2-2zM9 17H7v-7h2v7zm4 0h-2V7h2v10zm4 0h-2v-4h2v4z\"/>\n",
              "    </g>\n",
              "</svg>\n",
              "  </button>\n",
              "\n",
              "<style>\n",
              "  .colab-df-quickchart {\n",
              "      --bg-color: #E8F0FE;\n",
              "      --fill-color: #1967D2;\n",
              "      --hover-bg-color: #E2EBFA;\n",
              "      --hover-fill-color: #174EA6;\n",
              "      --disabled-fill-color: #AAA;\n",
              "      --disabled-bg-color: #DDD;\n",
              "  }\n",
              "\n",
              "  [theme=dark] .colab-df-quickchart {\n",
              "      --bg-color: #3B4455;\n",
              "      --fill-color: #D2E3FC;\n",
              "      --hover-bg-color: #434B5C;\n",
              "      --hover-fill-color: #FFFFFF;\n",
              "      --disabled-bg-color: #3B4455;\n",
              "      --disabled-fill-color: #666;\n",
              "  }\n",
              "\n",
              "  .colab-df-quickchart {\n",
              "    background-color: var(--bg-color);\n",
              "    border: none;\n",
              "    border-radius: 50%;\n",
              "    cursor: pointer;\n",
              "    display: none;\n",
              "    fill: var(--fill-color);\n",
              "    height: 32px;\n",
              "    padding: 0;\n",
              "    width: 32px;\n",
              "  }\n",
              "\n",
              "  .colab-df-quickchart:hover {\n",
              "    background-color: var(--hover-bg-color);\n",
              "    box-shadow: 0 1px 2px rgba(60, 64, 67, 0.3), 0 1px 3px 1px rgba(60, 64, 67, 0.15);\n",
              "    fill: var(--button-hover-fill-color);\n",
              "  }\n",
              "\n",
              "  .colab-df-quickchart-complete:disabled,\n",
              "  .colab-df-quickchart-complete:disabled:hover {\n",
              "    background-color: var(--disabled-bg-color);\n",
              "    fill: var(--disabled-fill-color);\n",
              "    box-shadow: none;\n",
              "  }\n",
              "\n",
              "  .colab-df-spinner {\n",
              "    border: 2px solid var(--fill-color);\n",
              "    border-color: transparent;\n",
              "    border-bottom-color: var(--fill-color);\n",
              "    animation:\n",
              "      spin 1s steps(1) infinite;\n",
              "  }\n",
              "\n",
              "  @keyframes spin {\n",
              "    0% {\n",
              "      border-color: transparent;\n",
              "      border-bottom-color: var(--fill-color);\n",
              "      border-left-color: var(--fill-color);\n",
              "    }\n",
              "    20% {\n",
              "      border-color: transparent;\n",
              "      border-left-color: var(--fill-color);\n",
              "      border-top-color: var(--fill-color);\n",
              "    }\n",
              "    30% {\n",
              "      border-color: transparent;\n",
              "      border-left-color: var(--fill-color);\n",
              "      border-top-color: var(--fill-color);\n",
              "      border-right-color: var(--fill-color);\n",
              "    }\n",
              "    40% {\n",
              "      border-color: transparent;\n",
              "      border-right-color: var(--fill-color);\n",
              "      border-top-color: var(--fill-color);\n",
              "    }\n",
              "    60% {\n",
              "      border-color: transparent;\n",
              "      border-right-color: var(--fill-color);\n",
              "    }\n",
              "    80% {\n",
              "      border-color: transparent;\n",
              "      border-right-color: var(--fill-color);\n",
              "      border-bottom-color: var(--fill-color);\n",
              "    }\n",
              "    90% {\n",
              "      border-color: transparent;\n",
              "      border-bottom-color: var(--fill-color);\n",
              "    }\n",
              "  }\n",
              "</style>\n",
              "\n",
              "  <script>\n",
              "    async function quickchart(key) {\n",
              "      const quickchartButtonEl =\n",
              "        document.querySelector('#' + key + ' button');\n",
              "      quickchartButtonEl.disabled = true;  // To prevent multiple clicks.\n",
              "      quickchartButtonEl.classList.add('colab-df-spinner');\n",
              "      try {\n",
              "        const charts = await google.colab.kernel.invokeFunction(\n",
              "            'suggestCharts', [key], {});\n",
              "      } catch (error) {\n",
              "        console.error('Error during call to suggestCharts:', error);\n",
              "      }\n",
              "      quickchartButtonEl.classList.remove('colab-df-spinner');\n",
              "      quickchartButtonEl.classList.add('colab-df-quickchart-complete');\n",
              "    }\n",
              "    (() => {\n",
              "      let quickchartButtonEl =\n",
              "        document.querySelector('#df-88262e49-657a-4721-9a12-0518936e0c02 button');\n",
              "      quickchartButtonEl.style.display =\n",
              "        google.colab.kernel.accessAllowed ? 'block' : 'none';\n",
              "    })();\n",
              "  </script>\n",
              "</div>\n",
              "    </div>\n",
              "  </div>\n"
            ],
            "application/vnd.google.colaboratory.intrinsic+json": {
              "type": "dataframe",
              "repr_error": "'str' object has no attribute 'empty'"
            }
          },
          "metadata": {},
          "execution_count": 252
        }
      ]
    },
    {
      "cell_type": "code",
      "source": [
        "lebron_and_anthony_davis[pd.isnull(lebron_and_anthony_davis['team'])][['type']].value_counts()"
      ],
      "metadata": {
        "colab": {
          "base_uri": "https://localhost:8080/"
        },
        "id": "NjxTDhkBLpiJ",
        "outputId": "aafd51d6-1ed0-4fff-ab24-77fb0449c773"
      },
      "execution_count": null,
      "outputs": [
        {
          "output_type": "execute_result",
          "data": {
            "text/plain": [
              "type                              \n",
              "team rebound                          287\n",
              " timeout: regular                     225\n",
              "start of period                       168\n",
              "end of period                         123\n",
              "unknown                                88\n",
              "turnover: shot clock                   23\n",
              "uknown                                 22\n",
              "violation: delay of game violation      7\n",
              "foul                                    6\n",
              "jump ball                               2\n",
              "5 second violation                      1\n",
              "8 second violation                      1\n",
              "dtype: int64"
            ]
          },
          "metadata": {},
          "execution_count": 253
        }
      ]
    },
    {
      "cell_type": "code",
      "source": [
        "#LBJ +AD\n",
        "LAL_events = lebron_and_anthony_davis[lebron_and_anthony_davis['team'] == 'LAL']\n",
        "FGA = (LAL_events['event_type'] == 'shot').sum() + (LAL_events['event_type'] == 'miss').sum()\n",
        "TOV = (LAL_events['event_type'] == 'turnover').sum() \\\n",
        "       + ((lebron_and_anthony_davis['event_type'] == 'turnover') & (lebron_and_anthony_davis['description'].str.contains('Lakers', case = False))\\\n",
        "          & pd.isnull(lebron_and_anthony_davis['team'])).sum()\n",
        "FTA = (LAL_events['event_type'] == 'free throw').sum()\n",
        "OREB = ((LAL_events['event_type'] == 'rebound') & (LAL_events['type'] == 'rebound offensive')).sum()\\\n",
        "    #  + ((lebron_and_anthony_davis['event_type'] == 'rebound') & (lebron_and_anthony_davis['description'].str.contains('Lakers', case = False))).sum()\n",
        "LBJAD_poss = 0.96*(FGA + TOV + 0.44*FTA - OREB)"
      ],
      "metadata": {
        "id": "yJAuDvkrBqJ8"
      },
      "execution_count": null,
      "outputs": []
    },
    {
      "cell_type": "code",
      "source": [
        "LBJAD_poss"
      ],
      "metadata": {
        "id": "HJUXiBKnHgzl",
        "colab": {
          "base_uri": "https://localhost:8080/"
        },
        "outputId": "9d666d97-6c77-418d-c1fc-408a927efe7b"
      },
      "execution_count": null,
      "outputs": [
        {
          "output_type": "execute_result",
          "data": {
            "text/plain": [
              "4088.140799999999"
            ]
          },
          "metadata": {},
          "execution_count": 243
        }
      ]
    },
    {
      "cell_type": "code",
      "source": [
        "#LBJ\n",
        "LAL_events = lebron[lebron['team'] == 'LAL']\n",
        "FGA = (LAL_events['event_type'] == 'shot').sum() + (LAL_events['event_type'] == 'miss').sum()\n",
        "TOV = (LAL_events['event_type'] == 'turnover').sum() \\\n",
        "       + ((lebron['event_type'] == 'turnover') & (lebron['description'].str.contains('Lakers', case = False)) \\\n",
        "        & pd.isnull(lebron['team'])).sum()\n",
        "FTA = (LAL_events['event_type'] == 'free throw').sum()\n",
        "OREB = ((LAL_events['event_type'] == 'rebound') & (LAL_events['type'] == 'rebound offensive')).sum()\n",
        "LBJ_poss = 0.96*(FGA + TOV + 0.44*(FTA - OREB))"
      ],
      "metadata": {
        "id": "tw2WkETvKBcM"
      },
      "execution_count": null,
      "outputs": []
    },
    {
      "cell_type": "code",
      "source": [
        "LBJ_poss"
      ],
      "metadata": {
        "id": "qvacnGu-KOE7",
        "colab": {
          "base_uri": "https://localhost:8080/"
        },
        "outputId": "d9e02a93-6cc7-4ede-a35a-c8296124331a"
      },
      "execution_count": null,
      "outputs": [
        {
          "output_type": "execute_result",
          "data": {
            "text/plain": [
              "2223.1296"
            ]
          },
          "metadata": {},
          "execution_count": 124
        }
      ]
    },
    {
      "cell_type": "code",
      "source": [
        "#AD\n",
        "LAL_events = AD[AD['team'] == 'LAL']\n",
        "FGA = (LAL_events['event_type'] == 'shot').sum() + (LAL_events['event_type'] == 'miss').sum()\n",
        "TOV = (LAL_events['event_type'] == 'turnover').sum() \\\n",
        "    + ((AD['event_type'] == 'turnover') & (AD['description'].str.contains('Lakers', case = False))\\\n",
        "       & pd.isnull(AD['team'])).sum()\n",
        "FTA = (LAL_events['event_type'] == 'free throw').sum()\n",
        "OREB = ((LAL_events['event_type'] == 'rebound') & (LAL_events['type'] == 'rebound offensive')).sum()\n",
        "AD_poss = 0.96*(FGA + TOV + 0.44*(FTA - OREB))"
      ],
      "metadata": {
        "id": "xZoUCvpbKRMp"
      },
      "execution_count": null,
      "outputs": []
    },
    {
      "cell_type": "code",
      "source": [
        "AD_poss"
      ],
      "metadata": {
        "id": "tzib9ULVKVQL",
        "colab": {
          "base_uri": "https://localhost:8080/"
        },
        "outputId": "c51dfe48-7880-41a2-be9e-a367b1c34cfa"
      },
      "execution_count": null,
      "outputs": [
        {
          "output_type": "execute_result",
          "data": {
            "text/plain": [
              "1927.5648"
            ]
          },
          "metadata": {},
          "execution_count": 126
        }
      ]
    },
    {
      "cell_type": "code",
      "source": [
        "#Both out\n",
        "LAL_events = No_stars[No_stars['team'] == 'LAL']\n",
        "FGA = (LAL_events['event_type'] == 'shot').sum() + (LAL_events['event_type'] == 'miss').sum()\n",
        "TOV = (LAL_events['event_type'] == 'turnover').sum() \\\n",
        "    + ((No_stars['event_type'] == 'turnover') & (No_stars['description'].str.contains('Lakers', case = False))\\\n",
        "    & pd.isnull(No_stars['team'])).sum()\n",
        "FTA = (LAL_events['event_type'] == 'free throw').sum()\n",
        "OREB = ((LAL_events['event_type'] == 'rebound') & (LAL_events['type'] == 'rebound offensive')).sum()\n",
        "No_stars_poss = 0.96*(FGA + TOV + 0.44*(FTA - OREB))"
      ],
      "metadata": {
        "id": "oqZMNXCnLHre"
      },
      "execution_count": null,
      "outputs": []
    },
    {
      "cell_type": "code",
      "source": [
        "No_stars_poss"
      ],
      "metadata": {
        "id": "geWemy_qLmp2",
        "colab": {
          "base_uri": "https://localhost:8080/"
        },
        "outputId": "a11f91b2-a66b-4ed6-cdfb-bbdd426f90bd"
      },
      "execution_count": null,
      "outputs": [
        {
          "output_type": "execute_result",
          "data": {
            "text/plain": [
              "1013.5679999999999"
            ]
          },
          "metadata": {},
          "execution_count": 128
        }
      ]
    },
    {
      "cell_type": "markdown",
      "source": [
        "#### Estimated plus/minus per 100 possessions (EPM)\n"
      ],
      "metadata": {
        "id": "WljaqufQ8js4"
      }
    },
    {
      "cell_type": "code",
      "source": [
        "#LBJ+AD\n",
        "LBJAD_off = lebron_and_anthony_davis[lebron_and_anthony_davis['team'] == 'LAL']['points'].sum()\n",
        "LBJAD_def = lebron_and_anthony_davis[lebron_and_anthony_davis['team'] != 'LAL']['points'].sum()"
      ],
      "metadata": {
        "id": "Ijc4J0kS8n_b"
      },
      "execution_count": null,
      "outputs": []
    },
    {
      "cell_type": "code",
      "source": [
        "LBJAD_PM = LBJAD_off - LBJAD_def\n",
        "LBJAD_EPM = LBJAD_PM/LBJAD_poss*100\n",
        "LBJAD_EPM"
      ],
      "metadata": {
        "id": "e9zVJcOt_ccA",
        "colab": {
          "base_uri": "https://localhost:8080/"
        },
        "outputId": "25b80ffc-7d19-4f38-ecb5-cddadab4c8ee"
      },
      "execution_count": null,
      "outputs": [
        {
          "output_type": "execute_result",
          "data": {
            "text/plain": [
              "10.444845735254521"
            ]
          },
          "metadata": {},
          "execution_count": 130
        }
      ]
    },
    {
      "cell_type": "code",
      "source": [
        "#LBJ\n",
        "LBJ_off = lebron[lebron['team'] == 'LAL']['points'].sum()\n",
        "LBJ_def = lebron[lebron['team'] != 'LAL']['points'].sum()"
      ],
      "metadata": {
        "id": "uZzNQW66_mW_"
      },
      "execution_count": null,
      "outputs": []
    },
    {
      "cell_type": "code",
      "source": [
        "LBJ_PM = LBJ_off - LBJ_def\n",
        "LBJ_EPM = LBJ_PM/LBJ_poss*100\n",
        "LBJ_EPM"
      ],
      "metadata": {
        "id": "y5uDlDYY_-EA",
        "colab": {
          "base_uri": "https://localhost:8080/"
        },
        "outputId": "7b04bef3-3609-4f0d-f6d0-cb581502dc7d"
      },
      "execution_count": null,
      "outputs": [
        {
          "output_type": "execute_result",
          "data": {
            "text/plain": [
              "8.0966939579231"
            ]
          },
          "metadata": {},
          "execution_count": 132
        }
      ]
    },
    {
      "cell_type": "code",
      "source": [
        "#AD\n",
        "AD_off = AD[AD['team'] == 'LAL']['points'].sum()\n",
        "AD_def = AD[AD['team'] != 'LAL']['points'].sum()"
      ],
      "metadata": {
        "id": "N4FCTuK8ABPy"
      },
      "execution_count": null,
      "outputs": []
    },
    {
      "cell_type": "code",
      "source": [
        "AD_PM = AD_off - AD_def\n",
        "AD_EPM = AD_PM/AD_poss*100\n",
        "AD_EPM"
      ],
      "metadata": {
        "id": "_ITb5tBqAQU9",
        "colab": {
          "base_uri": "https://localhost:8080/"
        },
        "outputId": "5cd12f29-593a-4045-b9cd-69aad06ea132"
      },
      "execution_count": null,
      "outputs": [
        {
          "output_type": "execute_result",
          "data": {
            "text/plain": [
              "-0.10375786069552628"
            ]
          },
          "metadata": {},
          "execution_count": 134
        }
      ]
    },
    {
      "cell_type": "code",
      "source": [
        "#Both out\n",
        "No_stars_off = No_stars[No_stars['team'] == 'LAL']['points'].sum()\n",
        "No_stars_def = No_stars[No_stars['team'] != 'LAL']['points'].sum()"
      ],
      "metadata": {
        "id": "s8nNb_WpEjN0"
      },
      "execution_count": null,
      "outputs": []
    },
    {
      "cell_type": "code",
      "source": [
        "No_stars_PM = No_stars_off - No_stars_def\n",
        "No_stars_EPM = No_stars_PM/No_stars_poss*100\n",
        "No_stars_EPM"
      ],
      "metadata": {
        "id": "_ox3sGQcEzDz",
        "colab": {
          "base_uri": "https://localhost:8080/"
        },
        "outputId": "7f9f6591-11d1-4fb3-f87d-28c307114882"
      },
      "execution_count": null,
      "outputs": [
        {
          "output_type": "execute_result",
          "data": {
            "text/plain": [
              "-4.93306813159058"
            ]
          },
          "metadata": {},
          "execution_count": 136
        }
      ]
    },
    {
      "cell_type": "markdown",
      "source": [
        "#### Off, Def and Net ratings"
      ],
      "metadata": {
        "id": "cnucLts9MVao"
      }
    },
    {
      "cell_type": "code",
      "source": [
        "#LBJ+AD opp poss\n",
        "opp_events = lebron_and_anthony_davis[lebron_and_anthony_davis['team'] != 'LAL']\n",
        "FGA = (opp_events['event_type'] == 'shot').sum() + (opp_events['event_type'] == 'miss').sum()\n",
        "TOV = (opp_events['event_type'] == 'turnover').sum()\\\n",
        "       - ((opp_events['event_type'] == 'turnover') & (opp_events['description'].str.contains('Lakers', case = False))\\\n",
        "       & pd.isnull(opp_events['team'])).sum()\n",
        "FTA = (opp_events['event_type'] == 'free throw').sum()\n",
        "OREB = ((opp_events['event_type'] == 'rebound') & (opp_events['type'] == 'rebound offensive')).sum()\n",
        "LBJAD_opp_poss = 0.96*(FGA + TOV + 0.44*FTA - OREB)"
      ],
      "metadata": {
        "id": "nyCe3rqRJ5yk"
      },
      "execution_count": null,
      "outputs": []
    },
    {
      "cell_type": "code",
      "source": [
        "LBJAD_opp_poss"
      ],
      "metadata": {
        "id": "oS5wYDMFLin7",
        "colab": {
          "base_uri": "https://localhost:8080/"
        },
        "outputId": "542af1d9-2e74-4c3b-cbe3-0a58d91e121b"
      },
      "execution_count": null,
      "outputs": [
        {
          "output_type": "execute_result",
          "data": {
            "text/plain": [
              "4087.4112"
            ]
          },
          "metadata": {},
          "execution_count": 221
        }
      ]
    },
    {
      "cell_type": "code",
      "source": [
        "LBJAD_offr = LBJAD_off/LBJAD_poss*100\n",
        "LBJAD_defr = LBJAD_def/LBJAD_opp_poss*100\n",
        "LBJAD_nr = LBJAD_offr -LBJAD_defr\n",
        "LBJAD_nr"
      ],
      "metadata": {
        "id": "nJsXGETqMdYd",
        "colab": {
          "base_uri": "https://localhost:8080/"
        },
        "outputId": "09dc6bfc-06f1-4b3d-a18a-df2ac95af8c1"
      },
      "execution_count": null,
      "outputs": [
        {
          "output_type": "execute_result",
          "data": {
            "text/plain": [
              "10.42566907468661"
            ]
          },
          "metadata": {},
          "execution_count": 222
        }
      ]
    },
    {
      "cell_type": "code",
      "source": [
        "#LBJ opp poss\n",
        "opp_events = lebron[lebron['team'] != 'LAL']\n",
        "FGA = (opp_events['event_type'] == 'shot').sum() + (opp_events['event_type'] == 'miss').sum()\n",
        "TOV = (opp_events['event_type'] == 'turnover').sum()\\\n",
        "       - ((opp_events['event_type'] == 'turnover') & (opp_events['description'].str.contains('Lakers', case = False))\\\n",
        "       & pd.isnull(opp_events['team'])).sum()\n",
        "FTA = (opp_events['event_type'] == 'free throw').sum()\n",
        "OREB = ((opp_events['event_type'] == 'rebound') & (opp_events['type'] == 'rebound offensive')).sum()\n",
        "LBJ_opp_poss = 0.96*(FGA + TOV + 0.44*FTA - OREB)"
      ],
      "metadata": {
        "id": "os6jnxgmMx4_"
      },
      "execution_count": null,
      "outputs": []
    },
    {
      "cell_type": "code",
      "source": [
        "LBJ_opp_poss"
      ],
      "metadata": {
        "id": "kWRU0nQtQJTR",
        "colab": {
          "base_uri": "https://localhost:8080/"
        },
        "outputId": "f5c4acd7-6c18-4989-dfda-9a6abca8f989"
      },
      "execution_count": null,
      "outputs": [
        {
          "output_type": "execute_result",
          "data": {
            "text/plain": [
              "2089.344"
            ]
          },
          "metadata": {},
          "execution_count": 225
        }
      ]
    },
    {
      "cell_type": "code",
      "source": [
        "LBJ_offr = LBJ_off/LBJ_poss*100\n",
        "LBJ_defr = LBJ_def/LBJ_opp_poss*100\n",
        "LBJ_nr = LBJ_offr -LBJ_defr\n",
        "LBJ_nr"
      ],
      "metadata": {
        "id": "QVpoq2skQKYv",
        "colab": {
          "base_uri": "https://localhost:8080/"
        },
        "outputId": "366c61d3-65a8-4f59-a34c-c153312d194a"
      },
      "execution_count": null,
      "outputs": [
        {
          "output_type": "execute_result",
          "data": {
            "text/plain": [
              "1.4864524158370358"
            ]
          },
          "metadata": {},
          "execution_count": 226
        }
      ]
    },
    {
      "cell_type": "code",
      "source": [
        "#AD opp poss\n",
        "opp_events = AD[AD['team'] != 'LAL']\n",
        "FGA = (opp_events['event_type'] == 'shot').sum() + (opp_events['event_type'] == 'miss').sum()\n",
        "TOV = (opp_events['event_type'] == 'turnover').sum()\\\n",
        "       - ((opp_events['event_type'] == 'turnover') & (opp_events['description'].str.contains('Lakers', case = False))\\\n",
        "       & pd.isnull(opp_events['team'])).sum()\n",
        "FTA = (opp_events['event_type'] == 'free throw').sum()\n",
        "OREB = ((opp_events['event_type'] == 'rebound') & (opp_events['type'] == 'rebound offensive')).sum()\n",
        "AD_opp_poss = 0.96*(FGA + TOV + 0.44*FTA - OREB)"
      ],
      "metadata": {
        "id": "ZoX39ZiIRCm-"
      },
      "execution_count": null,
      "outputs": []
    },
    {
      "cell_type": "code",
      "source": [
        "AD_opp_poss"
      ],
      "metadata": {
        "id": "bgnXz8B3RKeH",
        "colab": {
          "base_uri": "https://localhost:8080/"
        },
        "outputId": "a0fb9b22-b07a-43a8-e940-65e315314793"
      },
      "execution_count": null,
      "outputs": [
        {
          "output_type": "execute_result",
          "data": {
            "text/plain": [
              "1798.4256"
            ]
          },
          "metadata": {},
          "execution_count": 229
        }
      ]
    },
    {
      "cell_type": "code",
      "source": [
        "AD_offr = AD_off/AD_poss*100\n",
        "AD_defr = AD_def/AD_opp_poss*100\n",
        "AD_nr = AD_offr -AD_defr\n",
        "AD_nr"
      ],
      "metadata": {
        "id": "6ZYEbS7CRMxj",
        "colab": {
          "base_uri": "https://localhost:8080/"
        },
        "outputId": "ebe28648-8399-4b5b-ed60-43b7fbad05b7"
      },
      "execution_count": null,
      "outputs": [
        {
          "output_type": "execute_result",
          "data": {
            "text/plain": [
              "-7.88955197111558"
            ]
          },
          "metadata": {},
          "execution_count": 230
        }
      ]
    },
    {
      "cell_type": "code",
      "source": [
        "#Both out opp poss\n",
        "opp_events = No_stars[No_stars['team'] != 'LAL']\n",
        "FGA = (opp_events['event_type'] == 'shot').sum() + (opp_events['event_type'] == 'miss').sum()\n",
        "TOV = (opp_events['event_type'] == 'turnover').sum()\\\n",
        "       - ((opp_events['event_type'] == 'turnover') & (opp_events['description'].str.contains('Lakers', case = False))\\\n",
        "       & pd.isnull(opp_events['team'])).sum()\n",
        "FTA = (opp_events['event_type'] == 'free throw').sum()\n",
        "OREB = ((opp_events['event_type'] == 'rebound') & (opp_events['type'] == 'rebound offensive')).sum()\n",
        "No_stars_opp_poss = 0.96*(FGA + TOV + 0.44*FTA - OREB)"
      ],
      "metadata": {
        "id": "STL0OfCmRWKv"
      },
      "execution_count": null,
      "outputs": []
    },
    {
      "cell_type": "code",
      "source": [
        "No_stars_opp_poss"
      ],
      "metadata": {
        "id": "r4V7Gf3JRfcb",
        "colab": {
          "base_uri": "https://localhost:8080/"
        },
        "outputId": "43a618cd-39ba-4407-dabc-a200f7e5980d"
      },
      "execution_count": null,
      "outputs": [
        {
          "output_type": "execute_result",
          "data": {
            "text/plain": [
              "982.1184"
            ]
          },
          "metadata": {},
          "execution_count": 233
        }
      ]
    },
    {
      "cell_type": "code",
      "source": [
        "No_stars_offr = No_stars_off/No_stars_poss*100\n",
        "No_stars_defr = No_stars_def/No_stars_opp_poss*100\n",
        "No_stars_nr = No_stars_offr - No_stars_defr\n",
        "No_stars_nr"
      ],
      "metadata": {
        "id": "AnAI_6KbRhE0",
        "colab": {
          "base_uri": "https://localhost:8080/"
        },
        "outputId": "1c6676a0-37c7-4ed4-c28b-41a80d7f3f2c"
      },
      "execution_count": null,
      "outputs": [
        {
          "output_type": "execute_result",
          "data": {
            "text/plain": [
              "-8.379924117320954"
            ]
          },
          "metadata": {},
          "execution_count": 234
        }
      ]
    },
    {
      "cell_type": "markdown",
      "source": [
        "#### FG% of other teammates"
      ],
      "metadata": {
        "id": "Dn0MgjYpo3TW"
      }
    },
    {
      "cell_type": "code",
      "source": [
        "#Teammates FG% when LBJ + AD is on\n",
        "LAL_events = lebron_and_anthony_davis[lebron_and_anthony_davis['team'] == 'LAL']\n",
        "FG_tm = ((LAL_events['event_type'] == 'shot') & (LAL_events['player'] != 'LeBron James') & (LAL_events['player'] != 'Anthony Davis')).sum()\n",
        "FGm_tm = ((LAL_events['event_type'] == 'miss') & (LAL_events['player'] != 'LeBron James') & (LAL_events['player'] != 'Anthony Davis')).sum()\n",
        "LBJAD_FGpct_tm = FG_tm/(FG_tm + FGm_tm)*100\n",
        "LBJAD_FGpct_tm"
      ],
      "metadata": {
        "colab": {
          "base_uri": "https://localhost:8080/"
        },
        "id": "KRI6P59Do9VE",
        "outputId": "9cd03e29-71cb-4c2a-f39a-697853adae3f"
      },
      "execution_count": null,
      "outputs": [
        {
          "output_type": "execute_result",
          "data": {
            "text/plain": [
              "46.25074985002999"
            ]
          },
          "metadata": {},
          "execution_count": 235
        }
      ]
    },
    {
      "cell_type": "code",
      "source": [
        "#Teammate FG% when only LBJ is on\n",
        "LAL_events = lebron[lebron['team'] == 'LAL']\n",
        "FG_tm = ((LAL_events['event_type'] == 'shot') & (LAL_events['player'] != 'LeBron James')).sum()\n",
        "FGm_tm = ((LAL_events['event_type'] == 'miss') & (LAL_events['player'] != 'LeBron James')).sum()\n",
        "LBJ_FGpct_tm = FG_tm/(FG_tm + FGm_tm)*100\n",
        "LBJ_FGpct_tm"
      ],
      "metadata": {
        "colab": {
          "base_uri": "https://localhost:8080/"
        },
        "id": "R2s2xPtGDVeb",
        "outputId": "c2e5d1c7-7040-4dcf-fbee-dc13e304e693"
      },
      "execution_count": null,
      "outputs": [
        {
          "output_type": "execute_result",
          "data": {
            "text/plain": [
              "48.27862289831866"
            ]
          },
          "metadata": {},
          "execution_count": 236
        }
      ]
    },
    {
      "cell_type": "code",
      "source": [
        "#Teammate FG% when only AD is on\n",
        "LAL_events = AD[AD['team'] == 'LAL']\n",
        "FG_tm = ((LAL_events['event_type'] == 'shot') & (LAL_events['player'] != 'Anthony Davis')).sum()\n",
        "FGm_tm = ((LAL_events['event_type'] == 'miss') & (LAL_events['player'] != 'Anthony Davis')).sum()\n",
        "AD_FGpct_tm = FG_tm/(FG_tm + FGm_tm)*100\n",
        "AD_FGpct_tm"
      ],
      "metadata": {
        "colab": {
          "base_uri": "https://localhost:8080/"
        },
        "id": "fbD8F1uNEaFt",
        "outputId": "18d97e08-63a1-4488-8cb5-7283d02f5608"
      },
      "execution_count": null,
      "outputs": [
        {
          "output_type": "execute_result",
          "data": {
            "text/plain": [
              "44.12296564195298"
            ]
          },
          "metadata": {},
          "execution_count": 237
        }
      ]
    },
    {
      "cell_type": "code",
      "source": [
        "#Teammate FG% when both out\n",
        "LAL_events = No_stars[No_stars['team'] == 'LAL']\n",
        "FG_tm = (LAL_events['event_type'] == 'shot').sum()\n",
        "FGm_tm = (LAL_events['event_type'] == 'miss').sum()\n",
        "No_stars_FGpct_tm = FG_tm/(FG_tm + FGm_tm)*100\n",
        "No_stars_FGpct_tm"
      ],
      "metadata": {
        "colab": {
          "base_uri": "https://localhost:8080/"
        },
        "id": "tIpMZM6HDkTD",
        "outputId": "ad15bffc-e8c9-4a77-853a-8c1f05b3f97b"
      },
      "execution_count": null,
      "outputs": [
        {
          "output_type": "execute_result",
          "data": {
            "text/plain": [
              "45.06880733944954"
            ]
          },
          "metadata": {},
          "execution_count": 238
        }
      ]
    },
    {
      "cell_type": "code",
      "source": [
        "ratings = pd.DataFrame({'Split_type': ['LeBron + AD', 'LeBron', 'AD', 'Both out'],\n",
        "        'Offensive_ratings': [LBJAD_offr, LBJ_offr, AD_offr, No_stars_offr],\n",
        "        'Defensive_ratings': [LBJAD_defr, LBJ_defr, AD_defr, No_stars_defr],\n",
        "        'Net_ratings': [LBJAD_nr, LBJ_nr, AD_nr, No_stars_nr],\n",
        "        'Plus/Minus': [LBJAD_EPM, LBJ_EPM, AD_EPM, No_stars_EPM],\n",
        "        'Teammate_FG%': [LBJAD_FGpct_tm, LBJ_FGpct_tm, AD_FGpct_tm, No_stars_FGpct_tm]})\n",
        "numeric_columns = ratings.select_dtypes(include=['float64', 'int64']).columns\n",
        "ratings[numeric_columns] = ratings[numeric_columns].round(2)\n",
        "\n",
        "ratings"
      ],
      "metadata": {
        "id": "3KdaAGdZSBag",
        "outputId": "d83b57cb-0c29-4015-e873-7bc42c59b7b4",
        "colab": {
          "base_uri": "https://localhost:8080/",
          "height": 175
        }
      },
      "execution_count": null,
      "outputs": [
        {
          "output_type": "execute_result",
          "data": {
            "text/plain": [
              "    Split_type  Offensive_ratings  Defensive_ratings  Net_ratings  Plus/Minus  \\\n",
              "0  LeBron + AD             117.88             107.45        10.43       10.44   \n",
              "1       LeBron             111.33             109.84         1.49        8.10   \n",
              "2           AD             108.32             116.21        -7.89       -0.10   \n",
              "3     Both out             102.71             111.09        -8.38       -4.93   \n",
              "\n",
              "   Teammate_FG%  \n",
              "0         46.25  \n",
              "1         48.28  \n",
              "2         44.12  \n",
              "3         45.07  "
            ],
            "text/html": [
              "\n",
              "  <div id=\"df-9c2c394c-790f-4d47-a5a3-bbefaebb6f52\" class=\"colab-df-container\">\n",
              "    <div>\n",
              "<style scoped>\n",
              "    .dataframe tbody tr th:only-of-type {\n",
              "        vertical-align: middle;\n",
              "    }\n",
              "\n",
              "    .dataframe tbody tr th {\n",
              "        vertical-align: top;\n",
              "    }\n",
              "\n",
              "    .dataframe thead th {\n",
              "        text-align: right;\n",
              "    }\n",
              "</style>\n",
              "<table border=\"1\" class=\"dataframe\">\n",
              "  <thead>\n",
              "    <tr style=\"text-align: right;\">\n",
              "      <th></th>\n",
              "      <th>Split_type</th>\n",
              "      <th>Offensive_ratings</th>\n",
              "      <th>Defensive_ratings</th>\n",
              "      <th>Net_ratings</th>\n",
              "      <th>Plus/Minus</th>\n",
              "      <th>Teammate_FG%</th>\n",
              "    </tr>\n",
              "  </thead>\n",
              "  <tbody>\n",
              "    <tr>\n",
              "      <th>0</th>\n",
              "      <td>LeBron + AD</td>\n",
              "      <td>117.88</td>\n",
              "      <td>107.45</td>\n",
              "      <td>10.43</td>\n",
              "      <td>10.44</td>\n",
              "      <td>46.25</td>\n",
              "    </tr>\n",
              "    <tr>\n",
              "      <th>1</th>\n",
              "      <td>LeBron</td>\n",
              "      <td>111.33</td>\n",
              "      <td>109.84</td>\n",
              "      <td>1.49</td>\n",
              "      <td>8.10</td>\n",
              "      <td>48.28</td>\n",
              "    </tr>\n",
              "    <tr>\n",
              "      <th>2</th>\n",
              "      <td>AD</td>\n",
              "      <td>108.32</td>\n",
              "      <td>116.21</td>\n",
              "      <td>-7.89</td>\n",
              "      <td>-0.10</td>\n",
              "      <td>44.12</td>\n",
              "    </tr>\n",
              "    <tr>\n",
              "      <th>3</th>\n",
              "      <td>Both out</td>\n",
              "      <td>102.71</td>\n",
              "      <td>111.09</td>\n",
              "      <td>-8.38</td>\n",
              "      <td>-4.93</td>\n",
              "      <td>45.07</td>\n",
              "    </tr>\n",
              "  </tbody>\n",
              "</table>\n",
              "</div>\n",
              "    <div class=\"colab-df-buttons\">\n",
              "\n",
              "  <div class=\"colab-df-container\">\n",
              "    <button class=\"colab-df-convert\" onclick=\"convertToInteractive('df-9c2c394c-790f-4d47-a5a3-bbefaebb6f52')\"\n",
              "            title=\"Convert this dataframe to an interactive table.\"\n",
              "            style=\"display:none;\">\n",
              "\n",
              "  <svg xmlns=\"http://www.w3.org/2000/svg\" height=\"24px\" viewBox=\"0 -960 960 960\">\n",
              "    <path d=\"M120-120v-720h720v720H120Zm60-500h600v-160H180v160Zm220 220h160v-160H400v160Zm0 220h160v-160H400v160ZM180-400h160v-160H180v160Zm440 0h160v-160H620v160ZM180-180h160v-160H180v160Zm440 0h160v-160H620v160Z\"/>\n",
              "  </svg>\n",
              "    </button>\n",
              "\n",
              "  <style>\n",
              "    .colab-df-container {\n",
              "      display:flex;\n",
              "      gap: 12px;\n",
              "    }\n",
              "\n",
              "    .colab-df-convert {\n",
              "      background-color: #E8F0FE;\n",
              "      border: none;\n",
              "      border-radius: 50%;\n",
              "      cursor: pointer;\n",
              "      display: none;\n",
              "      fill: #1967D2;\n",
              "      height: 32px;\n",
              "      padding: 0 0 0 0;\n",
              "      width: 32px;\n",
              "    }\n",
              "\n",
              "    .colab-df-convert:hover {\n",
              "      background-color: #E2EBFA;\n",
              "      box-shadow: 0px 1px 2px rgba(60, 64, 67, 0.3), 0px 1px 3px 1px rgba(60, 64, 67, 0.15);\n",
              "      fill: #174EA6;\n",
              "    }\n",
              "\n",
              "    .colab-df-buttons div {\n",
              "      margin-bottom: 4px;\n",
              "    }\n",
              "\n",
              "    [theme=dark] .colab-df-convert {\n",
              "      background-color: #3B4455;\n",
              "      fill: #D2E3FC;\n",
              "    }\n",
              "\n",
              "    [theme=dark] .colab-df-convert:hover {\n",
              "      background-color: #434B5C;\n",
              "      box-shadow: 0px 1px 3px 1px rgba(0, 0, 0, 0.15);\n",
              "      filter: drop-shadow(0px 1px 2px rgba(0, 0, 0, 0.3));\n",
              "      fill: #FFFFFF;\n",
              "    }\n",
              "  </style>\n",
              "\n",
              "    <script>\n",
              "      const buttonEl =\n",
              "        document.querySelector('#df-9c2c394c-790f-4d47-a5a3-bbefaebb6f52 button.colab-df-convert');\n",
              "      buttonEl.style.display =\n",
              "        google.colab.kernel.accessAllowed ? 'block' : 'none';\n",
              "\n",
              "      async function convertToInteractive(key) {\n",
              "        const element = document.querySelector('#df-9c2c394c-790f-4d47-a5a3-bbefaebb6f52');\n",
              "        const dataTable =\n",
              "          await google.colab.kernel.invokeFunction('convertToInteractive',\n",
              "                                                    [key], {});\n",
              "        if (!dataTable) return;\n",
              "\n",
              "        const docLinkHtml = 'Like what you see? Visit the ' +\n",
              "          '<a target=\"_blank\" href=https://colab.research.google.com/notebooks/data_table.ipynb>data table notebook</a>'\n",
              "          + ' to learn more about interactive tables.';\n",
              "        element.innerHTML = '';\n",
              "        dataTable['output_type'] = 'display_data';\n",
              "        await google.colab.output.renderOutput(dataTable, element);\n",
              "        const docLink = document.createElement('div');\n",
              "        docLink.innerHTML = docLinkHtml;\n",
              "        element.appendChild(docLink);\n",
              "      }\n",
              "    </script>\n",
              "  </div>\n",
              "\n",
              "\n",
              "<div id=\"df-c44491bc-ec72-4077-b700-c55993c344c9\">\n",
              "  <button class=\"colab-df-quickchart\" onclick=\"quickchart('df-c44491bc-ec72-4077-b700-c55993c344c9')\"\n",
              "            title=\"Suggest charts\"\n",
              "            style=\"display:none;\">\n",
              "\n",
              "<svg xmlns=\"http://www.w3.org/2000/svg\" height=\"24px\"viewBox=\"0 0 24 24\"\n",
              "     width=\"24px\">\n",
              "    <g>\n",
              "        <path d=\"M19 3H5c-1.1 0-2 .9-2 2v14c0 1.1.9 2 2 2h14c1.1 0 2-.9 2-2V5c0-1.1-.9-2-2-2zM9 17H7v-7h2v7zm4 0h-2V7h2v10zm4 0h-2v-4h2v4z\"/>\n",
              "    </g>\n",
              "</svg>\n",
              "  </button>\n",
              "\n",
              "<style>\n",
              "  .colab-df-quickchart {\n",
              "      --bg-color: #E8F0FE;\n",
              "      --fill-color: #1967D2;\n",
              "      --hover-bg-color: #E2EBFA;\n",
              "      --hover-fill-color: #174EA6;\n",
              "      --disabled-fill-color: #AAA;\n",
              "      --disabled-bg-color: #DDD;\n",
              "  }\n",
              "\n",
              "  [theme=dark] .colab-df-quickchart {\n",
              "      --bg-color: #3B4455;\n",
              "      --fill-color: #D2E3FC;\n",
              "      --hover-bg-color: #434B5C;\n",
              "      --hover-fill-color: #FFFFFF;\n",
              "      --disabled-bg-color: #3B4455;\n",
              "      --disabled-fill-color: #666;\n",
              "  }\n",
              "\n",
              "  .colab-df-quickchart {\n",
              "    background-color: var(--bg-color);\n",
              "    border: none;\n",
              "    border-radius: 50%;\n",
              "    cursor: pointer;\n",
              "    display: none;\n",
              "    fill: var(--fill-color);\n",
              "    height: 32px;\n",
              "    padding: 0;\n",
              "    width: 32px;\n",
              "  }\n",
              "\n",
              "  .colab-df-quickchart:hover {\n",
              "    background-color: var(--hover-bg-color);\n",
              "    box-shadow: 0 1px 2px rgba(60, 64, 67, 0.3), 0 1px 3px 1px rgba(60, 64, 67, 0.15);\n",
              "    fill: var(--button-hover-fill-color);\n",
              "  }\n",
              "\n",
              "  .colab-df-quickchart-complete:disabled,\n",
              "  .colab-df-quickchart-complete:disabled:hover {\n",
              "    background-color: var(--disabled-bg-color);\n",
              "    fill: var(--disabled-fill-color);\n",
              "    box-shadow: none;\n",
              "  }\n",
              "\n",
              "  .colab-df-spinner {\n",
              "    border: 2px solid var(--fill-color);\n",
              "    border-color: transparent;\n",
              "    border-bottom-color: var(--fill-color);\n",
              "    animation:\n",
              "      spin 1s steps(1) infinite;\n",
              "  }\n",
              "\n",
              "  @keyframes spin {\n",
              "    0% {\n",
              "      border-color: transparent;\n",
              "      border-bottom-color: var(--fill-color);\n",
              "      border-left-color: var(--fill-color);\n",
              "    }\n",
              "    20% {\n",
              "      border-color: transparent;\n",
              "      border-left-color: var(--fill-color);\n",
              "      border-top-color: var(--fill-color);\n",
              "    }\n",
              "    30% {\n",
              "      border-color: transparent;\n",
              "      border-left-color: var(--fill-color);\n",
              "      border-top-color: var(--fill-color);\n",
              "      border-right-color: var(--fill-color);\n",
              "    }\n",
              "    40% {\n",
              "      border-color: transparent;\n",
              "      border-right-color: var(--fill-color);\n",
              "      border-top-color: var(--fill-color);\n",
              "    }\n",
              "    60% {\n",
              "      border-color: transparent;\n",
              "      border-right-color: var(--fill-color);\n",
              "    }\n",
              "    80% {\n",
              "      border-color: transparent;\n",
              "      border-right-color: var(--fill-color);\n",
              "      border-bottom-color: var(--fill-color);\n",
              "    }\n",
              "    90% {\n",
              "      border-color: transparent;\n",
              "      border-bottom-color: var(--fill-color);\n",
              "    }\n",
              "  }\n",
              "</style>\n",
              "\n",
              "  <script>\n",
              "    async function quickchart(key) {\n",
              "      const quickchartButtonEl =\n",
              "        document.querySelector('#' + key + ' button');\n",
              "      quickchartButtonEl.disabled = true;  // To prevent multiple clicks.\n",
              "      quickchartButtonEl.classList.add('colab-df-spinner');\n",
              "      try {\n",
              "        const charts = await google.colab.kernel.invokeFunction(\n",
              "            'suggestCharts', [key], {});\n",
              "      } catch (error) {\n",
              "        console.error('Error during call to suggestCharts:', error);\n",
              "      }\n",
              "      quickchartButtonEl.classList.remove('colab-df-spinner');\n",
              "      quickchartButtonEl.classList.add('colab-df-quickchart-complete');\n",
              "    }\n",
              "    (() => {\n",
              "      let quickchartButtonEl =\n",
              "        document.querySelector('#df-c44491bc-ec72-4077-b700-c55993c344c9 button');\n",
              "      quickchartButtonEl.style.display =\n",
              "        google.colab.kernel.accessAllowed ? 'block' : 'none';\n",
              "    })();\n",
              "  </script>\n",
              "</div>\n",
              "    </div>\n",
              "  </div>\n"
            ],
            "application/vnd.google.colaboratory.intrinsic+json": {
              "type": "dataframe",
              "variable_name": "ratings",
              "summary": "{\n  \"name\": \"ratings\",\n  \"rows\": 4,\n  \"fields\": [\n    {\n      \"column\": \"Split_type\",\n      \"properties\": {\n        \"dtype\": \"string\",\n        \"num_unique_values\": 4,\n        \"samples\": [\n          \"LeBron\",\n          \"Both out\",\n          \"LeBron + AD\"\n        ],\n        \"semantic_type\": \"\",\n        \"description\": \"\"\n      }\n    },\n    {\n      \"column\": \"Offensive_ratings\",\n      \"properties\": {\n        \"dtype\": \"number\",\n        \"std\": 6.319688810904116,\n        \"min\": 102.71,\n        \"max\": 117.88,\n        \"num_unique_values\": 4,\n        \"samples\": [\n          111.33,\n          102.71,\n          117.88\n        ],\n        \"semantic_type\": \"\",\n        \"description\": \"\"\n      }\n    },\n    {\n      \"column\": \"Defensive_ratings\",\n      \"properties\": {\n        \"dtype\": \"number\",\n        \"std\": 3.6974439369200227,\n        \"min\": 107.45,\n        \"max\": 116.21,\n        \"num_unique_values\": 4,\n        \"samples\": [\n          109.84,\n          111.09,\n          107.45\n        ],\n        \"semantic_type\": \"\",\n        \"description\": \"\"\n      }\n    },\n    {\n      \"column\": \"Net_ratings\",\n      \"properties\": {\n        \"dtype\": \"number\",\n        \"std\": 8.920965474655755,\n        \"min\": -8.38,\n        \"max\": 10.43,\n        \"num_unique_values\": 4,\n        \"samples\": [\n          1.49,\n          -8.38,\n          10.43\n        ],\n        \"semantic_type\": \"\",\n        \"description\": \"\"\n      }\n    },\n    {\n      \"column\": \"Plus/Minus\",\n      \"properties\": {\n        \"dtype\": \"number\",\n        \"std\": 7.148157688057346,\n        \"min\": -4.93,\n        \"max\": 10.44,\n        \"num_unique_values\": 4,\n        \"samples\": [\n          8.1,\n          -4.93,\n          10.44\n        ],\n        \"semantic_type\": \"\",\n        \"description\": \"\"\n      }\n    },\n    {\n      \"column\": \"Teammate_FG%\",\n      \"properties\": {\n        \"dtype\": \"number\",\n        \"std\": 1.7926330726987434,\n        \"min\": 44.12,\n        \"max\": 48.28,\n        \"num_unique_values\": 4,\n        \"samples\": [\n          48.28,\n          45.07,\n          46.25\n        ],\n        \"semantic_type\": \"\",\n        \"description\": \"\"\n      }\n    }\n  ]\n}"
            }
          },
          "metadata": {},
          "execution_count": 239
        }
      ]
    }
  ]
}